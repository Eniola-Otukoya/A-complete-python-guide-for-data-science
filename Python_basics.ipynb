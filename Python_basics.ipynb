{
 "cells": [
  {
   "cell_type": "code",
   "execution_count": null,
   "metadata": {
    "colab": {
     "base_uri": "https://localhost:8080/"
    },
    "id": "x-Is_9kUVDYm",
    "outputId": "b3a1fd16-1c69-4ec7-a2f7-1cb31494dc46"
   },
   "outputs": [
    {
     "name": "stdout",
     "output_type": "stream",
     "text": [
      "Hello world, welcome to my first Python program\n"
     ]
    }
   ],
   "source": [
    "# my first Python program # hash commenting --\n",
    "print(\"Hello world, welcome to my first Python program\") # print function"
   ]
  },
  {
   "cell_type": "markdown",
   "metadata": {
    "id": "XtheQJxfZmFE"
   },
   "source": [
    "# Basic Arithmetic Operations in Python\n",
    "- addition\n",
    "- subtraction\n",
    "- multiplication\n",
    "- division\n",
    "\n",
    "Others:\n",
    "- parentheses\n",
    "- modulo\n",
    "- exponentiation"
   ]
  },
  {
   "cell_type": "code",
   "execution_count": null,
   "metadata": {
    "colab": {
     "base_uri": "https://localhost:8080/"
    },
    "id": "RYUVodcOaQMi",
    "outputId": "3263db82-c425-49ef-85f1-18b2f608b248"
   },
   "outputs": [
    {
     "data": {
      "text/plain": [
       "9"
      ]
     },
     "execution_count": 2,
     "metadata": {},
     "output_type": "execute_result"
    }
   ],
   "source": [
    "# Addition\n",
    "4 + 5"
   ]
  },
  {
   "cell_type": "code",
   "execution_count": null,
   "metadata": {
    "colab": {
     "base_uri": "https://localhost:8080/"
    },
    "id": "qXkePrUybDMx",
    "outputId": "dd9551a6-f36d-49ad-d683-72864451d317"
   },
   "outputs": [
    {
     "name": "stdout",
     "output_type": "stream",
     "text": [
      "9\n"
     ]
    }
   ],
   "source": [
    "print(4 + 5)"
   ]
  },
  {
   "cell_type": "code",
   "execution_count": null,
   "metadata": {
    "colab": {
     "base_uri": "https://localhost:8080/"
    },
    "id": "azR2EOhCbTbD",
    "outputId": "76e6f5ab-bc88-4aae-e93c-18174d828d4d"
   },
   "outputs": [
    {
     "data": {
      "text/plain": [
       "136.1"
      ]
     },
     "execution_count": 4,
     "metadata": {},
     "output_type": "execute_result"
    }
   ],
   "source": [
    "23.5 + 112.6"
   ]
  },
  {
   "cell_type": "code",
   "execution_count": null,
   "metadata": {
    "colab": {
     "base_uri": "https://localhost:8080/"
    },
    "id": "5SGWWOALbXn_",
    "outputId": "8567f5b2-5bc2-4511-8a99-1646549088c3"
   },
   "outputs": [
    {
     "name": "stdout",
     "output_type": "stream",
     "text": [
      "136.1\n"
     ]
    }
   ],
   "source": [
    "print(23.5 + 112.6)"
   ]
  },
  {
   "cell_type": "code",
   "execution_count": null,
   "metadata": {
    "colab": {
     "base_uri": "https://localhost:8080/"
    },
    "id": "d7QynMYybt8l",
    "outputId": "2481eb4c-2a5a-4189-ab41-4010e485defe"
   },
   "outputs": [
    {
     "data": {
      "text/plain": [
       "10"
      ]
     },
     "execution_count": 6,
     "metadata": {},
     "output_type": "execute_result"
    }
   ],
   "source": [
    "# Subtraction\n",
    "25 - 15"
   ]
  },
  {
   "cell_type": "code",
   "execution_count": null,
   "metadata": {
    "colab": {
     "base_uri": "https://localhost:8080/"
    },
    "id": "XmVBX5geb4i7",
    "outputId": "8547b49a-14ef-4d1c-e127-b6c4bcf9fdc6"
   },
   "outputs": [
    {
     "name": "stdout",
     "output_type": "stream",
     "text": [
      "10\n"
     ]
    }
   ],
   "source": [
    "print(25 - 15)"
   ]
  },
  {
   "cell_type": "code",
   "execution_count": null,
   "metadata": {
    "colab": {
     "base_uri": "https://localhost:8080/"
    },
    "id": "VItBOOjlb8pG",
    "outputId": "d78ec83e-577f-4f12-f31e-2dcfa8554064"
   },
   "outputs": [
    {
     "name": "stdout",
     "output_type": "stream",
     "text": [
      "33.0\n"
     ]
    }
   ],
   "source": [
    "print(45.5 - 12.5)"
   ]
  },
  {
   "cell_type": "code",
   "execution_count": null,
   "metadata": {
    "colab": {
     "base_uri": "https://localhost:8080/"
    },
    "id": "m0m-0bHYcBm2",
    "outputId": "4847492d-fa9c-497b-c612-a307e5a0730f"
   },
   "outputs": [
    {
     "name": "stdout",
     "output_type": "stream",
     "text": [
      "6\n"
     ]
    }
   ],
   "source": [
    "# multiplication: *\n",
    "print(2 * 3)"
   ]
  },
  {
   "cell_type": "code",
   "execution_count": null,
   "metadata": {
    "colab": {
     "base_uri": "https://localhost:8080/"
    },
    "id": "cM3bDlm0cN8S",
    "outputId": "69759e8a-f945-4f20-f00f-b68af1743ac2"
   },
   "outputs": [
    {
     "name": "stdout",
     "output_type": "stream",
     "text": [
      "26.25\n"
     ]
    }
   ],
   "source": [
    "print(10.5 * 2.5)"
   ]
  },
  {
   "cell_type": "code",
   "execution_count": null,
   "metadata": {
    "colab": {
     "base_uri": "https://localhost:8080/"
    },
    "id": "JjFDmlP0cTmB",
    "outputId": "3acb71f6-276a-4304-9af8-ef5a1bfd463f"
   },
   "outputs": [
    {
     "name": "stdout",
     "output_type": "stream",
     "text": [
      "4.0\n"
     ]
    }
   ],
   "source": [
    "# division: /\n",
    "print(100 / 25)"
   ]
  },
  {
   "cell_type": "code",
   "execution_count": null,
   "metadata": {
    "colab": {
     "base_uri": "https://localhost:8080/"
    },
    "id": "GM-BSLdacfaE",
    "outputId": "0fd0f7a6-6999-4fb1-e665-dfac48d23cf1"
   },
   "outputs": [
    {
     "name": "stdout",
     "output_type": "stream",
     "text": [
      "22.5\n"
     ]
    }
   ],
   "source": [
    "print(2.25 / 0.1)"
   ]
  },
  {
   "cell_type": "code",
   "execution_count": null,
   "metadata": {
    "colab": {
     "base_uri": "https://localhost:8080/"
    },
    "id": "Ln_ZfbZGcodM",
    "outputId": "3ab4467f-6562-47e2-84c0-65627826e0f3"
   },
   "outputs": [
    {
     "name": "stdout",
     "output_type": "stream",
     "text": [
      "14\n"
     ]
    }
   ],
   "source": [
    "# parentheses\n",
    "print(2 * (3 + 4))"
   ]
  },
  {
   "cell_type": "code",
   "execution_count": null,
   "metadata": {
    "colab": {
     "base_uri": "https://localhost:8080/"
    },
    "id": "KJvz1vRJc-NH",
    "outputId": "1d1eb187-efd4-429a-c008-8422e4966347"
   },
   "outputs": [
    {
     "name": "stdout",
     "output_type": "stream",
     "text": [
      "81\n"
     ]
    }
   ],
   "source": [
    "# exponentiation: **\n",
    "print(3 ** 4)"
   ]
  },
  {
   "cell_type": "code",
   "execution_count": null,
   "metadata": {
    "colab": {
     "base_uri": "https://localhost:8080/"
    },
    "id": "zMcuKDDqdWH7",
    "outputId": "027d1916-1a40-4bad-e729-9953df626c27"
   },
   "outputs": [
    {
     "name": "stdout",
     "output_type": "stream",
     "text": [
      "1\n"
     ]
    }
   ],
   "source": [
    "# modulo: In python, the modulo operator is %, it returns the remainder when a number is divided.\n",
    "print(5 % 2)"
   ]
  },
  {
   "cell_type": "code",
   "execution_count": null,
   "metadata": {
    "colab": {
     "base_uri": "https://localhost:8080/"
    },
    "id": "RYzdsljOeBZo",
    "outputId": "9f5f839d-32a4-4d0c-aad4-bf03fa486d8a"
   },
   "outputs": [
    {
     "name": "stdout",
     "output_type": "stream",
     "text": [
      "3\n"
     ]
    }
   ],
   "source": [
    "# think of number when\n",
    "print(13 % 5)"
   ]
  },
  {
   "cell_type": "markdown",
   "metadata": {
    "id": "eclmYCufejWP"
   },
   "source": [
    "# Data Types\n",
    "- variables can store data of different types.\n",
    "\n",
    "**Integers**: they are whole numbers. e.g; 1, 2, 20, 30, ...\n",
    "\n",
    "**Float**: they are decimal numbers. e.g; 2.5, 0.0002, 200.75, ...\n",
    "\n",
    "**String**: it is usually an alphabet, alphanumeric or text. They are known to be a string if they appear in quotation mark(', \"). e.g; \"Daniel\", \"Welcome to my house\", \"Tolu is working hard\", etc.\n",
    "\n",
    "**Boolean**: True or False statement.\n",
    "\n",
    "**List**: We use the [] to arrange text/string, objects or numbers(float, integer). e.g; [1, 2, 3, 4, 5], ['tolu', 'daniel', 'wale'], [True, 'cup'], etc.\n",
    "\n",
    "**Tuple**: We use the () to arrange or list items, objects, etc. e.g; ('mango', 'banana', 'cherry'), (1.5, 2, 4.5, 6), ...\n",
    "\n",
    "**Dictionary**: We use {} to hold what we called key value pair. ==> {key : value} e.g; {'A':[1, 4], 'B':[5, 6]}, ..\n",
    "\n",
    "**Date or Datetime**\n"
   ]
  },
  {
   "cell_type": "markdown",
   "metadata": {
    "id": "Mcylv98SntMq"
   },
   "source": [
    "# Functions and Methods In Python\n",
    "\n",
    "## Function:\n",
    "### - A function is a piece of reusable code that performs a specific task. For example, the type() function returns the data type of an object or variable(which are in form of alphabet or text that store different data types which can be reuse in the future). Functions usually take input which is also called **arguments**. Other examples are; round(), max(), min(), sum(), sorted(), duplicated(), etc.\n",
    "\n",
    "## Method:\n",
    "## - A method is a function that works on a specific type of objects. Each Python object has a specific method depending on the object type. Methods are called using dot notation: object.method(). For example; the .append() function add an item or variable to the end of a list. Other examples are: .capitalize(), .upper(), .lower(), .index(), etc."
   ]
  },
  {
   "cell_type": "code",
   "execution_count": null,
   "metadata": {
    "colab": {
     "base_uri": "https://localhost:8080/"
    },
    "id": "zDLvx5fetfiy",
    "outputId": "65ca5102-1c59-47d8-946b-bd76047b43ba"
   },
   "outputs": [
    {
     "data": {
      "text/plain": [
       "int"
      ]
     },
     "execution_count": 18,
     "metadata": {},
     "output_type": "execute_result"
    }
   ],
   "source": [
    "# type(): the type() function helps us to identify variables data types\n",
    "\n",
    "type(2)"
   ]
  },
  {
   "cell_type": "code",
   "execution_count": null,
   "metadata": {
    "colab": {
     "base_uri": "https://localhost:8080/"
    },
    "id": "iFKmNe0ty6aL",
    "outputId": "c55f31b3-0f95-4105-c032-132fd24d14ab"
   },
   "outputs": [
    {
     "data": {
      "text/plain": [
       "float"
      ]
     },
     "execution_count": 19,
     "metadata": {},
     "output_type": "execute_result"
    }
   ],
   "source": [
    "type(100.26)"
   ]
  },
  {
   "cell_type": "code",
   "execution_count": null,
   "metadata": {
    "colab": {
     "base_uri": "https://localhost:8080/"
    },
    "id": "lAtWUM9sy-89",
    "outputId": "549893ee-5017-4884-811b-52eb395a12d4"
   },
   "outputs": [
    {
     "data": {
      "text/plain": [
       "float"
      ]
     },
     "execution_count": 20,
     "metadata": {},
     "output_type": "execute_result"
    }
   ],
   "source": [
    "x = 40.5\n",
    "\n",
    "type(x)"
   ]
  },
  {
   "cell_type": "code",
   "execution_count": null,
   "metadata": {
    "colab": {
     "base_uri": "https://localhost:8080/"
    },
    "id": "nhBLtE_xzOte",
    "outputId": "11630508-1ece-43aa-cd3b-de199f6e18fa"
   },
   "outputs": [
    {
     "data": {
      "text/plain": [
       "40"
      ]
     },
     "execution_count": 21,
     "metadata": {},
     "output_type": "execute_result"
    }
   ],
   "source": [
    "# Integer: int\n",
    "# int() : it is convert a non-integer data type to int.\n",
    "\n",
    "int(x)"
   ]
  },
  {
   "cell_type": "code",
   "execution_count": null,
   "metadata": {
    "colab": {
     "base_uri": "https://localhost:8080/"
    },
    "id": "aqV39l6Cz7Qx",
    "outputId": "c72168b7-9299-472d-f3db-e9b6c2ae5ab1"
   },
   "outputs": [
    {
     "data": {
      "text/plain": [
       "12"
      ]
     },
     "execution_count": 22,
     "metadata": {},
     "output_type": "execute_result"
    }
   ],
   "source": [
    "y = 12.266\n",
    "\n",
    "int(y)"
   ]
  },
  {
   "cell_type": "code",
   "execution_count": null,
   "metadata": {
    "colab": {
     "base_uri": "https://localhost:8080/"
    },
    "id": "83Mt6eE30N40",
    "outputId": "5d3dcd2e-2183-4437-f97d-5e2165067c08"
   },
   "outputs": [
    {
     "data": {
      "text/plain": [
       "int"
      ]
     },
     "execution_count": 23,
     "metadata": {},
     "output_type": "execute_result"
    }
   ],
   "source": [
    "type(12)"
   ]
  },
  {
   "cell_type": "code",
   "execution_count": null,
   "metadata": {
    "colab": {
     "base_uri": "https://localhost:8080/"
    },
    "id": "YPkkxsdn1BzP",
    "outputId": "0ff09b4c-c63f-4f4e-c29e-4b2577b1a432"
   },
   "outputs": [
    {
     "data": {
      "text/plain": [
       "40"
      ]
     },
     "execution_count": 24,
     "metadata": {},
     "output_type": "execute_result"
    }
   ],
   "source": [
    "int(40)"
   ]
  },
  {
   "cell_type": "code",
   "execution_count": null,
   "metadata": {
    "colab": {
     "base_uri": "https://localhost:8080/"
    },
    "id": "n0vxWlrQ2m9X",
    "outputId": "5ade98ea-d713-4ab1-d461-16be482d9daa"
   },
   "outputs": [
    {
     "data": {
      "text/plain": [
       "60.25"
      ]
     },
     "execution_count": 25,
     "metadata": {},
     "output_type": "execute_result"
    }
   ],
   "source": [
    "# float - float\n",
    "# float() - it returns a float number when the input is either integer or float.\n",
    "\n",
    "z = 60.25\n",
    "float(z)"
   ]
  },
  {
   "cell_type": "code",
   "execution_count": null,
   "metadata": {
    "colab": {
     "base_uri": "https://localhost:8080/"
    },
    "id": "ZAIS_Xya3HhH",
    "outputId": "78d3cbcc-cc4c-4ccf-8662-9847aec954d3"
   },
   "outputs": [
    {
     "data": {
      "text/plain": [
       "70.0"
      ]
     },
     "execution_count": 26,
     "metadata": {},
     "output_type": "execute_result"
    }
   ],
   "source": [
    "z1 = 70\n",
    "float(z1)"
   ]
  },
  {
   "cell_type": "code",
   "execution_count": null,
   "metadata": {
    "colab": {
     "base_uri": "https://localhost:8080/"
    },
    "id": "27CkXrOT3OIZ",
    "outputId": "7685d753-1738-4370-9c0d-7458af950da5"
   },
   "outputs": [
    {
     "data": {
      "text/plain": [
       "float"
      ]
     },
     "execution_count": 27,
     "metadata": {},
     "output_type": "execute_result"
    }
   ],
   "source": [
    "type(70.0)"
   ]
  },
  {
   "cell_type": "markdown",
   "metadata": {
    "id": "JNGnyMMy3p8f"
   },
   "source": [
    "# Variable Assignment\n",
    "- To define a variable, we use = sign."
   ]
  },
  {
   "cell_type": "code",
   "execution_count": null,
   "metadata": {
    "colab": {
     "base_uri": "https://localhost:8080/"
    },
    "id": "VGM0jNtr3wQX",
    "outputId": "9f483b7e-016d-46e5-a9de-7c30306cd9c5"
   },
   "outputs": [
    {
     "name": "stdout",
     "output_type": "stream",
     "text": [
      "100\n"
     ]
    }
   ],
   "source": [
    "money_in = 100\n",
    "print(money_in)"
   ]
  },
  {
   "cell_type": "code",
   "execution_count": null,
   "metadata": {
    "colab": {
     "base_uri": "https://localhost:8080/"
    },
    "id": "Wiaykajr5Li-",
    "outputId": "cc7d162d-ca2b-4aa7-f5b6-d4ce19405f08"
   },
   "outputs": [
    {
     "data": {
      "text/plain": [
       "int"
      ]
     },
     "execution_count": 29,
     "metadata": {},
     "output_type": "execute_result"
    }
   ],
   "source": [
    "type(money_in)"
   ]
  },
  {
   "cell_type": "code",
   "execution_count": null,
   "metadata": {
    "colab": {
     "base_uri": "https://localhost:8080/"
    },
    "id": "wHkr43TM5Uj3",
    "outputId": "730cd38b-4ce8-4eb5-d9e8-ec9dc374d567"
   },
   "outputs": [
    {
     "name": "stdout",
     "output_type": "stream",
     "text": [
      "75.45\n"
     ]
    }
   ],
   "source": [
    "money_out = 75.45\n",
    "print(money_out)"
   ]
  },
  {
   "cell_type": "code",
   "execution_count": null,
   "metadata": {
    "colab": {
     "base_uri": "https://localhost:8080/"
    },
    "id": "KbDuWWLd5daA",
    "outputId": "77cdfacf-846b-4c61-92f4-63ba355f6a15"
   },
   "outputs": [
    {
     "data": {
      "text/plain": [
       "float"
      ]
     },
     "execution_count": 31,
     "metadata": {},
     "output_type": "execute_result"
    }
   ],
   "source": [
    "type(money_out)"
   ]
  },
  {
   "cell_type": "code",
   "execution_count": null,
   "metadata": {
    "colab": {
     "base_uri": "https://localhost:8080/"
    },
    "id": "ZN5XsyR25mXm",
    "outputId": "3ee6ede0-59af-4a27-c31e-2d6c33afeca0"
   },
   "outputs": [
    {
     "name": "stdout",
     "output_type": "stream",
     "text": [
      "24.549999999999997\n"
     ]
    }
   ],
   "source": [
    "profit = money_in - money_out\n",
    "print(profit)"
   ]
  },
  {
   "cell_type": "markdown",
   "metadata": {
    "id": "FRidPwVz6KrX"
   },
   "source": [
    "# For practice!!\n",
    "- Simple Interest\n",
    "A person borrows $5,000 from a bank at an annual interest rate of 6%. If the interest is to be paid at the end of 3 years, find the total amount the person has to pay back to the bank.\n",
    "\n",
    "I = PRT\n",
    "\n",
    "where P is Principal amount borrowed, R is rate, and T is time.\n",
    "\n"
   ]
  },
  {
   "cell_type": "code",
   "execution_count": null,
   "metadata": {
    "colab": {
     "base_uri": "https://localhost:8080/"
    },
    "id": "j9KeLD6K6ARi",
    "outputId": "fea81869-223b-4d9e-bfff-5f6416ea6a1f"
   },
   "outputs": [
    {
     "name": "stdout",
     "output_type": "stream",
     "text": [
      "5900.0\n"
     ]
    }
   ],
   "source": [
    "P = 5000\n",
    "R = 6 / 100\n",
    "T = 3\n",
    "\n",
    "I = P * R * T\n",
    "\n",
    "A = P + I\n",
    "\n",
    "print(A)"
   ]
  },
  {
   "cell_type": "code",
   "execution_count": null,
   "metadata": {
    "colab": {
     "base_uri": "https://localhost:8080/"
    },
    "id": "DAwc_5IW-2-I",
    "outputId": "5c4bad7f-1300-487e-e306-17bb67ecd3b9"
   },
   "outputs": [
    {
     "name": "stdout",
     "output_type": "stream",
     "text": [
      "James is a nice guy\n"
     ]
    }
   ],
   "source": [
    "# String : str\n",
    "# str() : it returns a string object when text or object is inputed as strings\n",
    "\n",
    "s1 = \"James is a nice guy\"\n",
    "print(s1)"
   ]
  },
  {
   "cell_type": "code",
   "execution_count": null,
   "metadata": {
    "colab": {
     "base_uri": "https://localhost:8080/"
    },
    "id": "u77dawR8_TKj",
    "outputId": "caaa4417-6ac7-445c-e886-bbbb2cfaafbc"
   },
   "outputs": [
    {
     "data": {
      "text/plain": [
       "str"
      ]
     },
     "execution_count": 35,
     "metadata": {},
     "output_type": "execute_result"
    }
   ],
   "source": [
    "type(s1)"
   ]
  },
  {
   "cell_type": "code",
   "execution_count": null,
   "metadata": {
    "colab": {
     "base_uri": "https://localhost:8080/",
     "height": 36
    },
    "id": "ehDAKSuP_ZuL",
    "outputId": "828a6474-34cf-40e1-f3c5-1a795278d6ac"
   },
   "outputs": [
    {
     "data": {
      "application/vnd.google.colaboratory.intrinsic+json": {
       "type": "string"
      },
      "text/plain": [
       "'James is a nice guy and he is a very hardworking person'"
      ]
     },
     "execution_count": 39,
     "metadata": {},
     "output_type": "execute_result"
    }
   ],
   "source": [
    "s2 = \"and he is a very hardworking person\"\n",
    "\n",
    "str(s1 + \" \" + s2) # + is for concatenation"
   ]
  },
  {
   "cell_type": "code",
   "execution_count": null,
   "metadata": {
    "colab": {
     "base_uri": "https://localhost:8080/"
    },
    "id": "6WodnHLZDaHL",
    "outputId": "c84f13a1-5c44-40d1-d5f7-fa66f03f0b4b"
   },
   "outputs": [
    {
     "name": "stdout",
     "output_type": "stream",
     "text": [
      "False\n"
     ]
    }
   ],
   "source": [
    "# Boolean - bool\n",
    "# bool()\n",
    "\n",
    "x = False\n",
    "print(x)"
   ]
  },
  {
   "cell_type": "code",
   "execution_count": null,
   "metadata": {
    "colab": {
     "base_uri": "https://localhost:8080/"
    },
    "id": "j7Xg7b2aDuf8",
    "outputId": "474cbf66-e6e3-465c-97ff-cfec2cd3a5dd"
   },
   "outputs": [
    {
     "name": "stdout",
     "output_type": "stream",
     "text": [
      "True\n"
     ]
    }
   ],
   "source": [
    "y = True\n",
    "print(y)"
   ]
  },
  {
   "cell_type": "code",
   "execution_count": null,
   "metadata": {
    "colab": {
     "base_uri": "https://localhost:8080/"
    },
    "id": "KiXeyNB_D4Zs",
    "outputId": "259e19af-6f83-445c-c139-1776e0317573"
   },
   "outputs": [
    {
     "data": {
      "text/plain": [
       "bool"
      ]
     },
     "execution_count": 43,
     "metadata": {},
     "output_type": "execute_result"
    }
   ],
   "source": [
    "type(y)"
   ]
  },
  {
   "cell_type": "code",
   "execution_count": null,
   "metadata": {
    "colab": {
     "base_uri": "https://localhost:8080/"
    },
    "id": "-MZWTo45EE85",
    "outputId": "d4d47e1a-b152-4b69-d5e0-631d909f2a81"
   },
   "outputs": [
    {
     "name": "stdout",
     "output_type": "stream",
     "text": [
      "False\n"
     ]
    }
   ],
   "source": [
    "bol1 = 5\n",
    "bol2 = 10\n",
    "print(bol1 > bol2)"
   ]
  },
  {
   "cell_type": "code",
   "execution_count": null,
   "metadata": {
    "colab": {
     "base_uri": "https://localhost:8080/"
    },
    "id": "KA82b0jQFKEf",
    "outputId": "d3725705-62a1-4e67-fd74-88e280750b1a"
   },
   "outputs": [
    {
     "name": "stdout",
     "output_type": "stream",
     "text": [
      "False\n"
     ]
    }
   ],
   "source": [
    "a = True\n",
    "b = False\n",
    "print(a and b)"
   ]
  },
  {
   "cell_type": "markdown",
   "metadata": {
    "id": "fZUF4-ReFbps"
   },
   "source": [
    "The `and` operator returns True if both operands are True, otherwise, it returns False."
   ]
  },
  {
   "cell_type": "code",
   "execution_count": null,
   "metadata": {
    "colab": {
     "base_uri": "https://localhost:8080/"
    },
    "id": "05bzjyDEFzCQ",
    "outputId": "5dc59945-d13c-4a74-b3e7-936452c7cda3"
   },
   "outputs": [
    {
     "name": "stdout",
     "output_type": "stream",
     "text": [
      "False\n"
     ]
    }
   ],
   "source": [
    "temperature = 25\n",
    "is_hot = temperature > 30\n",
    "is_cold = temperature < 10\n",
    "print(is_hot or is_cold)"
   ]
  },
  {
   "cell_type": "markdown",
   "metadata": {
    "id": "8A59PTwzGF7e"
   },
   "source": [
    "The `or` operator returns True if at least one of the operands is True. If both operands are False, it will return the expression as False."
   ]
  },
  {
   "cell_type": "markdown",
   "metadata": {
    "id": "E5hlRGs8AZos"
   },
   "source": [
    "# **List: it is a collection of values or elements that can have any data type. A list is denoted with a square bracket []. and it can be modified but not duplicated**"
   ]
  },
  {
   "cell_type": "code",
   "execution_count": null,
   "metadata": {
    "colab": {
     "base_uri": "https://localhost:8080/"
    },
    "id": "Obz2r6w1_sFx",
    "outputId": "a8ccde28-c85e-49d5-a41b-5c32efef6e4b"
   },
   "outputs": [
    {
     "name": "stdout",
     "output_type": "stream",
     "text": [
      "[1, 2, 3, 4, 5]\n"
     ]
    }
   ],
   "source": [
    "num = [1, 2, 3, 4, 5]\n",
    "print(num)"
   ]
  },
  {
   "cell_type": "code",
   "execution_count": null,
   "metadata": {
    "colab": {
     "base_uri": "https://localhost:8080/"
    },
    "id": "0qKZFN-iAzZV",
    "outputId": "b2d89e19-863a-4ec4-fa7e-cc1f63fbdc2f"
   },
   "outputs": [
    {
     "data": {
      "text/plain": [
       "list"
      ]
     },
     "execution_count": 2,
     "metadata": {},
     "output_type": "execute_result"
    }
   ],
   "source": [
    "type(num)"
   ]
  },
  {
   "cell_type": "code",
   "execution_count": null,
   "metadata": {
    "colab": {
     "base_uri": "https://localhost:8080/"
    },
    "id": "wqGE-vIOA3uI",
    "outputId": "dba2c797-2b8a-4a3d-91a0-1ff99aae35ab"
   },
   "outputs": [
    {
     "name": "stdout",
     "output_type": "stream",
     "text": [
      "[1, 'hello', 5.6, 'cool', 4]\n"
     ]
    }
   ],
   "source": [
    "my_list = [1, 'hello', 5.6, 'cool', 4]\n",
    "print(my_list)"
   ]
  },
  {
   "cell_type": "code",
   "execution_count": null,
   "metadata": {
    "colab": {
     "base_uri": "https://localhost:8080/"
    },
    "id": "SA717bE1BFdC",
    "outputId": "014c3c02-3075-4001-c588-554c4074543c"
   },
   "outputs": [
    {
     "data": {
      "text/plain": [
       "list"
      ]
     },
     "execution_count": 4,
     "metadata": {},
     "output_type": "execute_result"
    }
   ],
   "source": [
    "type(my_list)"
   ]
  },
  {
   "cell_type": "markdown",
   "metadata": {
    "id": "uSWTRM9-BQRi"
   },
   "source": [
    "## String Methods"
   ]
  },
  {
   "cell_type": "code",
   "execution_count": null,
   "metadata": {
    "colab": {
     "base_uri": "https://localhost:8080/"
    },
    "id": "_2DrB4tuBWr1",
    "outputId": "35703cce-a743-48f7-e0e1-2fdce38d0d31"
   },
   "outputs": [
    {
     "name": "stdout",
     "output_type": "stream",
     "text": [
      "['Mango', 'Banana', 'Cherry', 'Apple']\n"
     ]
    }
   ],
   "source": [
    "# .append(): it is an inbuilt method that can add an item or value to the end of a list.\n",
    "\n",
    "fruits = ['Mango', 'Banana', 'Cherry', 'Apple']\n",
    "print(fruits)"
   ]
  },
  {
   "cell_type": "code",
   "execution_count": null,
   "metadata": {
    "colab": {
     "base_uri": "https://localhost:8080/"
    },
    "id": "zcidztffCP-A",
    "outputId": "aa73c3fe-d232-4c45-8e6a-723f7cd8e033"
   },
   "outputs": [
    {
     "data": {
      "text/plain": [
       "list"
      ]
     },
     "execution_count": 6,
     "metadata": {},
     "output_type": "execute_result"
    }
   ],
   "source": [
    "type(fruits)"
   ]
  },
  {
   "cell_type": "code",
   "execution_count": null,
   "metadata": {
    "colab": {
     "base_uri": "https://localhost:8080/"
    },
    "id": "UmyJrktYCYYV",
    "outputId": "2982a36b-8f15-4b67-e487-4c63ece32b05"
   },
   "outputs": [
    {
     "name": "stdout",
     "output_type": "stream",
     "text": [
      "['Mango', 'Banana', 'Cherry', 'Apple', 'Pear']\n"
     ]
    }
   ],
   "source": [
    "# To add 'Pear' to fruits list\n",
    "fruits.append('Pear')\n",
    "print(fruits)"
   ]
  },
  {
   "cell_type": "code",
   "execution_count": null,
   "metadata": {
    "colab": {
     "base_uri": "https://localhost:8080/"
    },
    "id": "hwMOlO-wDAc2",
    "outputId": "02013d0f-bb55-49a2-83ee-cf9ef37cc5b5"
   },
   "outputs": [
    {
     "name": "stdout",
     "output_type": "stream",
     "text": [
      "['Mango', 'Banana', 'Cherry', 'Apple', 'Pear', 'Strawberry']\n"
     ]
    }
   ],
   "source": [
    "# Add 'Strawberry' to the fruits list\n",
    "fruits.append('Strawberry')\n",
    "print(fruits)"
   ]
  },
  {
   "cell_type": "code",
   "execution_count": null,
   "metadata": {
    "colab": {
     "base_uri": "https://localhost:8080/"
    },
    "id": "Xs1GeyVPEMYC",
    "outputId": "e7115f71-3d07-41ad-eb83-2e6961306dd4"
   },
   "outputs": [
    {
     "name": "stdout",
     "output_type": "stream",
     "text": [
      "['Ford', 'Honda', 'Jeep', 'Innoson', ['Blue', 'Green', 'Black', 'White']]\n"
     ]
    }
   ],
   "source": [
    "# List of lists\n",
    "# you can append a list to a list\n",
    "cars = ['Ford', 'Honda', 'Jeep', 'Innoson']\n",
    "colors = ['Blue', 'Green', 'Black', 'White']\n",
    "\n",
    "cars.append(colors)\n",
    "print(cars)"
   ]
  },
  {
   "cell_type": "code",
   "execution_count": null,
   "metadata": {
    "colab": {
     "base_uri": "https://localhost:8080/"
    },
    "id": "G9jBOYJ-FbDl",
    "outputId": "2834ebdd-46fc-4217-c35c-11b217fe7bb9"
   },
   "outputs": [
    {
     "name": "stdout",
     "output_type": "stream",
     "text": [
      "[['Portugal', 'Europe'], ['Brazil', 'South America'], ['Libya', 'Africa']]\n"
     ]
    }
   ],
   "source": [
    "a = ['Portugal', 'Europe']\n",
    "b = ['Brazil', 'South America']\n",
    "c = ['Libya', 'Africa']\n",
    "countries_continent = [a, b, c]\n",
    "print(countries_continent)"
   ]
  },
  {
   "cell_type": "code",
   "execution_count": null,
   "metadata": {
    "colab": {
     "base_uri": "https://localhost:8080/"
    },
    "id": "OqW_83xAGdac",
    "outputId": "80714df3-61a5-437e-d895-fa3b2e1e93e8"
   },
   "outputs": [
    {
     "data": {
      "text/plain": [
       "list"
      ]
     },
     "execution_count": 11,
     "metadata": {},
     "output_type": "execute_result"
    }
   ],
   "source": [
    "type(countries_continent)"
   ]
  },
  {
   "cell_type": "markdown",
   "metadata": {
    "id": "NfMViMb5G_Eh"
   },
   "source": [
    "## Tuple: can not be modified unlike a list\n",
    "\n",
    "Looking at the example below:"
   ]
  },
  {
   "cell_type": "code",
   "execution_count": null,
   "metadata": {
    "colab": {
     "base_uri": "https://localhost:8080/"
    },
    "id": "L2q8zEOlHIVX",
    "outputId": "dcf88494-20c6-4972-af0d-2f36ac44da93"
   },
   "outputs": [
    {
     "name": "stdout",
     "output_type": "stream",
     "text": [
      "('Mango', 'Banana', 'Cherry', 'Apple')\n"
     ]
    }
   ],
   "source": [
    "fruits = ('Mango', 'Banana', 'Cherry', 'Apple')\n",
    "print(fruits)"
   ]
  },
  {
   "cell_type": "code",
   "execution_count": null,
   "metadata": {
    "colab": {
     "base_uri": "https://localhost:8080/"
    },
    "id": "EhxH8uYeHR3h",
    "outputId": "3ea913d7-a603-4bf7-fb4a-c44d4f06ad5b"
   },
   "outputs": [
    {
     "data": {
      "text/plain": [
       "tuple"
      ]
     },
     "execution_count": 13,
     "metadata": {},
     "output_type": "execute_result"
    }
   ],
   "source": [
    "type(fruits)"
   ]
  },
  {
   "cell_type": "code",
   "execution_count": null,
   "metadata": {
    "colab": {
     "base_uri": "https://localhost:8080/",
     "height": 182
    },
    "id": "UF_fCVaYHXuM",
    "outputId": "59990f81-ffad-4809-ddf2-b5af0951e9a8"
   },
   "outputs": [
    {
     "ename": "AttributeError",
     "evalue": "'tuple' object has no attribute 'append'",
     "output_type": "error",
     "traceback": [
      "\u001b[0;31m---------------------------------------------------------------------------\u001b[0m",
      "\u001b[0;31mAttributeError\u001b[0m                            Traceback (most recent call last)",
      "\u001b[0;32m<ipython-input-14-142ab516c4a2>\u001b[0m in \u001b[0;36m<cell line: 2>\u001b[0;34m()\u001b[0m\n\u001b[1;32m      1\u001b[0m \u001b[0;31m# Let's try to add 'Orange' to fruits\u001b[0m\u001b[0;34m\u001b[0m\u001b[0;34m\u001b[0m\u001b[0m\n\u001b[0;32m----> 2\u001b[0;31m \u001b[0mfruits\u001b[0m\u001b[0;34m.\u001b[0m\u001b[0mappend\u001b[0m\u001b[0;34m(\u001b[0m\u001b[0;34m'Orange'\u001b[0m\u001b[0;34m)\u001b[0m\u001b[0;34m\u001b[0m\u001b[0;34m\u001b[0m\u001b[0m\n\u001b[0m\u001b[1;32m      3\u001b[0m \u001b[0mprint\u001b[0m\u001b[0;34m(\u001b[0m\u001b[0mfruits\u001b[0m\u001b[0;34m)\u001b[0m\u001b[0;34m\u001b[0m\u001b[0;34m\u001b[0m\u001b[0m\n",
      "\u001b[0;31mAttributeError\u001b[0m: 'tuple' object has no attribute 'append'"
     ]
    }
   ],
   "source": [
    "# Let's try to add 'Orange' to fruits\n",
    "fruits.append('Orange')\n",
    "print(fruits)"
   ]
  },
  {
   "cell_type": "code",
   "execution_count": null,
   "metadata": {
    "colab": {
     "base_uri": "https://localhost:8080/"
    },
    "id": "4FiwMTs_IM4s",
    "outputId": "e48aa86a-17b4-4ddf-990d-2ad3d23f9598"
   },
   "outputs": [
    {
     "name": "stdout",
     "output_type": "stream",
     "text": [
      "['one', 'two', 'three', 'four', 'five', 'six', 'seven']\n"
     ]
    }
   ],
   "source": [
    "# Joining Lists: we can use the + sign to join two list together\n",
    "\n",
    "list1 = ['one', 'two', 'three', 'four']\n",
    "list2 = ['five', 'six', 'seven']\n",
    "\n",
    "list_joined = list1 + list2\n",
    "print(list_joined)"
   ]
  },
  {
   "cell_type": "code",
   "execution_count": null,
   "metadata": {
    "colab": {
     "base_uri": "https://localhost:8080/"
    },
    "id": "zRw8ZNhEJbSu",
    "outputId": "74de5331-f62b-48ee-8409-d29774bc039a"
   },
   "outputs": [
    {
     "data": {
      "text/plain": [
       "['Daniel', 'is', 'an', 'exciting', 'person', 'to', 'play', 'with']"
      ]
     },
     "execution_count": 16,
     "metadata": {},
     "output_type": "execute_result"
    }
   ],
   "source": [
    "# .split(): it is an inbuilt method that split a string into a list\n",
    "my_split = 'Daniel is an exciting person to play with'\n",
    "\n",
    "my_split.split()"
   ]
  },
  {
   "cell_type": "code",
   "execution_count": null,
   "metadata": {
    "colab": {
     "base_uri": "https://localhost:8080/"
    },
    "id": "EReLT3mENTGH",
    "outputId": "8ee50254-e89c-4628-e459-cdfcb4e5b411"
   },
   "outputs": [
    {
     "data": {
      "text/plain": [
       "['Hello', 'World', 'Python']"
      ]
     },
     "execution_count": 18,
     "metadata": {},
     "output_type": "execute_result"
    }
   ],
   "source": [
    "# Splitting a string using whitspace\n",
    "text = \"Hello World Python\"\n",
    "text.split()"
   ]
  },
  {
   "cell_type": "code",
   "execution_count": null,
   "metadata": {
    "colab": {
     "base_uri": "https://localhost:8080/"
    },
    "id": "QTtrVofvOG-A",
    "outputId": "956782ed-3b8e-4a1b-b1ae-09d8cebf8f08"
   },
   "outputs": [
    {
     "name": "stdout",
     "output_type": "stream",
     "text": [
      "['apple', 'banana', 'cherry']\n"
     ]
    }
   ],
   "source": [
    "# Splitting a string using a custom separator\n",
    "text1 = \"apple,banana,cherry\"\n",
    "fruits = text1.split(',')\n",
    "print(fruits)"
   ]
  },
  {
   "cell_type": "code",
   "execution_count": null,
   "metadata": {
    "colab": {
     "base_uri": "https://localhost:8080/"
    },
    "id": "9cJcS2NvPVWl",
    "outputId": "cebb6870-b6e6-4f8d-a038-62cf9c40c5ec"
   },
   "outputs": [
    {
     "data": {
      "text/plain": [
       "['apple;banana,cherry:kiwi']"
      ]
     },
     "execution_count": 27,
     "metadata": {},
     "output_type": "execute_result"
    }
   ],
   "source": [
    "# Splitting a string using multiple separators\n",
    "text2 = \"apple;banana,cherry:kiwi\"\n",
    "text2.split(r'[;,:]')"
   ]
  },
  {
   "cell_type": "markdown",
   "metadata": {
    "id": "qnRj8colR6fy"
   },
   "source": [
    "# ADD, REMOVE, AND CHANGE IN A LIST\n"
   ]
  },
  {
   "cell_type": "code",
   "execution_count": null,
   "metadata": {
    "colab": {
     "base_uri": "https://localhost:8080/"
    },
    "id": "esFRnrTZSEiR",
    "outputId": "33208f30-9441-406b-dbe0-4966f0b2338d"
   },
   "outputs": [
    {
     "name": "stdout",
     "output_type": "stream",
     "text": [
      "['one', 'two', 'three', 'four', 'five', 'six', 'seven']\n"
     ]
    }
   ],
   "source": [
    "print(list_joined)"
   ]
  },
  {
   "cell_type": "code",
   "execution_count": null,
   "metadata": {
    "colab": {
     "base_uri": "https://localhost:8080/"
    },
    "id": "7Tr2pSEcSROy",
    "outputId": "8036643c-21db-449e-c3c2-be5014a45333"
   },
   "outputs": [
    {
     "name": "stdout",
     "output_type": "stream",
     "text": [
      "['one', 'number', 'two', 'three', 'four', 'five', 'six', 'seven']\n"
     ]
    }
   ],
   "source": [
    "# .insert(): it takes in two argument, the first is the index position where you want to add the item or value and the item or value you want to add.\n",
    "\n",
    "\n",
    "# add item \"number\" at the index position 1\n",
    "list_joined.insert(1, 'number')\n",
    "print(list_joined)"
   ]
  },
  {
   "cell_type": "code",
   "execution_count": null,
   "metadata": {
    "colab": {
     "base_uri": "https://localhost:8080/"
    },
    "id": "-2XeTjP9UZ7p",
    "outputId": "7b72b8b4-7518-4cdc-d621-b4a9f5f50e99"
   },
   "outputs": [
    {
     "name": "stdout",
     "output_type": "stream",
     "text": [
      "['one', 'number', 'two', 'three', 'four', 'five', 'six', 'seven', 'eight']\n"
     ]
    }
   ],
   "source": [
    "# Add item \"eight\" at the index position 8\n",
    "list_joined.insert(8, 'eight')\n",
    "print(list_joined)\n"
   ]
  },
  {
   "cell_type": "code",
   "execution_count": null,
   "metadata": {
    "colab": {
     "base_uri": "https://localhost:8080/"
    },
    "id": "8dENqXEPVTlA",
    "outputId": "c2f686a0-f855-4df7-9570-c79ffc37577b"
   },
   "outputs": [
    {
     "name": "stdout",
     "output_type": "stream",
     "text": [
      "['one', 'two', 'three', 'four', 'five', 'six', 'seven', 'eight']\n"
     ]
    }
   ],
   "source": [
    "# .pop(): it is used to remove an item at specified index position from a list\n",
    "\n",
    "list_joined.pop(1)\n",
    "print(list_joined)"
   ]
  },
  {
   "cell_type": "code",
   "execution_count": null,
   "metadata": {
    "colab": {
     "base_uri": "https://localhost:8080/"
    },
    "id": "0Is7KDI0WJvA",
    "outputId": "050f402c-0613-4bdb-e2f2-a92e856e4b18"
   },
   "outputs": [
    {
     "name": "stdout",
     "output_type": "stream",
     "text": [
      "['one', 'two', 'three', 'four', 'five', 'six', 'seven']\n"
     ]
    }
   ],
   "source": [
    "list_joined.pop(7)\n",
    "print(list_joined)"
   ]
  },
  {
   "cell_type": "markdown",
   "metadata": {
    "id": "xQ35XT43Wl8X"
   },
   "source": [
    "## Reverse and Sort list"
   ]
  },
  {
   "cell_type": "code",
   "execution_count": null,
   "metadata": {
    "colab": {
     "base_uri": "https://localhost:8080/"
    },
    "id": "fpHZkkgcWjcs",
    "outputId": "a1c28f17-fa09-469b-b859-47e02052fff5"
   },
   "outputs": [
    {
     "name": "stdout",
     "output_type": "stream",
     "text": [
      "['one', 'two', 'three', 'four']\n"
     ]
    }
   ],
   "source": [
    "# .reverse(): it is used to modify a list such that the first item becomes the last in that order.\n",
    "\n",
    "print(list1)"
   ]
  },
  {
   "cell_type": "code",
   "execution_count": null,
   "metadata": {
    "colab": {
     "base_uri": "https://localhost:8080/"
    },
    "id": "zTQvculiXDXz",
    "outputId": "7e46175f-fd2f-4a2f-ca9f-8abdbb8812ca"
   },
   "outputs": [
    {
     "name": "stdout",
     "output_type": "stream",
     "text": [
      "['four', 'three', 'two', 'one']\n"
     ]
    }
   ],
   "source": [
    "list1.reverse()\n",
    "print(list1)"
   ]
  },
  {
   "cell_type": "code",
   "execution_count": null,
   "metadata": {
    "colab": {
     "base_uri": "https://localhost:8080/"
    },
    "id": "bNHbm7X8XWZQ",
    "outputId": "a34d3cd1-2d4b-43d6-98a6-8a7ae8cfd08e"
   },
   "outputs": [
    {
     "name": "stdout",
     "output_type": "stream",
     "text": [
      "[2, 8, 7, 9, 13, 1]\n"
     ]
    }
   ],
   "source": [
    "sort_list = [2, 8, 7, 9, 13, 1]\n",
    "\n",
    "print(sort_list)"
   ]
  },
  {
   "cell_type": "code",
   "execution_count": null,
   "metadata": {
    "colab": {
     "base_uri": "https://localhost:8080/"
    },
    "id": "s6G0itYpXWQF",
    "outputId": "313fbcca-ad26-4910-9290-663f4975ba2b"
   },
   "outputs": [
    {
     "name": "stdout",
     "output_type": "stream",
     "text": [
      "[1, 13, 9, 7, 8, 2]\n"
     ]
    }
   ],
   "source": [
    "sort_list.reverse()\n",
    "print(sort_list)"
   ]
  },
  {
   "cell_type": "code",
   "execution_count": null,
   "metadata": {
    "colab": {
     "base_uri": "https://localhost:8080/"
    },
    "id": "CwRQmONLY8wO",
    "outputId": "0420f183-b00e-48df-8ce7-737d79652778"
   },
   "outputs": [
    {
     "data": {
      "text/plain": [
       "[1, 2, 7, 8, 9, 13]"
      ]
     },
     "execution_count": 37,
     "metadata": {},
     "output_type": "execute_result"
    }
   ],
   "source": [
    "# sorted(): it is used to sorts the elements or values of a list in ascending order.\n",
    "\n",
    "sorted(sort_list)"
   ]
  },
  {
   "cell_type": "code",
   "execution_count": null,
   "metadata": {
    "colab": {
     "base_uri": "https://localhost:8080/"
    },
    "id": "4z2bBcXAZekH",
    "outputId": "45cad9a2-813d-4401-9b6c-241f2fe1e319"
   },
   "outputs": [
    {
     "name": "stdout",
     "output_type": "stream",
     "text": [
      "Help on built-in function sorted in module builtins:\n",
      "\n",
      "sorted(iterable, /, *, key=None, reverse=False)\n",
      "    Return a new list containing all items from the iterable in ascending order.\n",
      "    \n",
      "    A custom key function can be supplied to customize the sort order, and the\n",
      "    reverse flag can be set to request the result in descending order.\n",
      "\n"
     ]
    }
   ],
   "source": [
    "# help(): we use help() to know the documentation of a function\n",
    "\n",
    "help(sorted)"
   ]
  },
  {
   "cell_type": "code",
   "execution_count": null,
   "metadata": {
    "colab": {
     "base_uri": "https://localhost:8080/"
    },
    "id": "AOzfdWECZ2Go",
    "outputId": "a0a089e7-10f0-4e96-9d9e-a78f12c20cad"
   },
   "outputs": [
    {
     "name": "stdout",
     "output_type": "stream",
     "text": [
      "Help on built-in function max in module builtins:\n",
      "\n",
      "max(...)\n",
      "    max(iterable, *[, default=obj, key=func]) -> value\n",
      "    max(arg1, arg2, *args, *[, key=func]) -> value\n",
      "    \n",
      "    With a single iterable argument, return its biggest item. The\n",
      "    default keyword-only argument specifies an object to return if\n",
      "    the provided iterable is empty.\n",
      "    With two or more arguments, return the largest argument.\n",
      "\n"
     ]
    }
   ],
   "source": [
    "help(max)"
   ]
  },
  {
   "cell_type": "code",
   "execution_count": null,
   "metadata": {
    "colab": {
     "base_uri": "https://localhost:8080/"
    },
    "id": "BRlIXGB-Z-DO",
    "outputId": "f5d9eb1a-70c3-46d7-c10c-9d2fef03d170"
   },
   "outputs": [
    {
     "name": "stdout",
     "output_type": "stream",
     "text": [
      "Help on built-in function sum in module builtins:\n",
      "\n",
      "sum(iterable, /, start=0)\n",
      "    Return the sum of a 'start' value (default: 0) plus an iterable of numbers\n",
      "    \n",
      "    When the iterable is empty, return the start value.\n",
      "    This function is intended specifically for use with numeric values and may\n",
      "    reject non-numeric types.\n",
      "\n"
     ]
    }
   ],
   "source": [
    "help(sum)"
   ]
  },
  {
   "cell_type": "code",
   "execution_count": null,
   "metadata": {
    "colab": {
     "base_uri": "https://localhost:8080/"
    },
    "id": "b_TlSndqagRR",
    "outputId": "30adae31-57b3-4ae5-92d2-465200d45ec7"
   },
   "outputs": [
    {
     "data": {
      "text/plain": [
       "[1, 2, 7, 8, 9, 13]"
      ]
     },
     "execution_count": 41,
     "metadata": {},
     "output_type": "execute_result"
    }
   ],
   "source": [
    "sorted(sort_list, reverse=False)"
   ]
  },
  {
   "cell_type": "code",
   "execution_count": null,
   "metadata": {
    "colab": {
     "base_uri": "https://localhost:8080/"
    },
    "id": "j8ddHDjEbwuZ",
    "outputId": "252c3966-ad67-4111-f475-2d19c572e368"
   },
   "outputs": [
    {
     "data": {
      "text/plain": [
       "[13, 9, 8, 7, 2, 1]"
      ]
     },
     "execution_count": 42,
     "metadata": {},
     "output_type": "execute_result"
    }
   ],
   "source": [
    "sorted(sort_list, reverse=True)"
   ]
  },
  {
   "cell_type": "code",
   "execution_count": null,
   "metadata": {
    "colab": {
     "base_uri": "https://localhost:8080/"
    },
    "id": "imwNn-nAb8p9",
    "outputId": "0ee75c00-f313-41fc-bed0-6ef222983262"
   },
   "outputs": [
    {
     "data": {
      "text/plain": [
       "['one', 'two', 'three', 'four', 'five', 'six', 'seven']"
      ]
     },
     "execution_count": 43,
     "metadata": {},
     "output_type": "execute_result"
    }
   ],
   "source": [
    "# .remove(): it is used to remove an item from a list by specifying the particular item.\n",
    "list_joined"
   ]
  },
  {
   "cell_type": "code",
   "execution_count": null,
   "metadata": {
    "colab": {
     "base_uri": "https://localhost:8080/",
     "height": 164
    },
    "id": "Bqb_GIbFdHFP",
    "outputId": "e71e3876-d967-42fa-e385-50540644331a"
   },
   "outputs": [
    {
     "ename": "ValueError",
     "evalue": "list.remove(x): x not in list",
     "output_type": "error",
     "traceback": [
      "\u001b[0;31m---------------------------------------------------------------------------\u001b[0m",
      "\u001b[0;31mValueError\u001b[0m                                Traceback (most recent call last)",
      "\u001b[0;32m<ipython-input-45-2cf31f8aa6f5>\u001b[0m in \u001b[0;36m<cell line: 1>\u001b[0;34m()\u001b[0m\n\u001b[0;32m----> 1\u001b[0;31m \u001b[0mlist_joined\u001b[0m\u001b[0;34m.\u001b[0m\u001b[0mremove\u001b[0m\u001b[0;34m(\u001b[0m\u001b[0;34m'one'\u001b[0m\u001b[0;34m)\u001b[0m\u001b[0;34m\u001b[0m\u001b[0;34m\u001b[0m\u001b[0m\n\u001b[0m\u001b[1;32m      2\u001b[0m \u001b[0mprint\u001b[0m\u001b[0;34m(\u001b[0m\u001b[0mlist_joined\u001b[0m\u001b[0;34m)\u001b[0m\u001b[0;34m\u001b[0m\u001b[0;34m\u001b[0m\u001b[0m\n",
      "\u001b[0;31mValueError\u001b[0m: list.remove(x): x not in list"
     ]
    }
   ],
   "source": [
    "list_joined.remove('one')"
   ]
  },
  {
   "cell_type": "code",
   "execution_count": null,
   "metadata": {
    "colab": {
     "base_uri": "https://localhost:8080/"
    },
    "id": "8C8SjKzddgFa",
    "outputId": "b4d3a898-64cd-42df-99d8-3c9cb7b09483"
   },
   "outputs": [
    {
     "name": "stdout",
     "output_type": "stream",
     "text": [
      "['two', 'three', 'four', 'five', 'six', 'seven']\n"
     ]
    }
   ],
   "source": [
    "print(list_joined)"
   ]
  },
  {
   "cell_type": "code",
   "execution_count": null,
   "metadata": {
    "colab": {
     "base_uri": "https://localhost:8080/",
     "height": 36
    },
    "id": "YmfsofXLD8eP",
    "outputId": "74d9ddc2-680d-45d4-bb6d-35e2e26cc699"
   },
   "outputs": [
    {
     "data": {
      "application/vnd.google.colaboratory.intrinsic+json": {
       "type": "string"
      },
      "text/plain": [
       "'prize'"
      ]
     },
     "execution_count": 1,
     "metadata": {},
     "output_type": "execute_result"
    }
   ],
   "source": [
    "# .replace(): it replaces every occurrences of substring with another.\n",
    "# the format used is .replace(old, new)\n",
    "\n",
    "x = 'price' #assume we want to replace 'c' with 'z'\n",
    "x.replace('c', 'z')"
   ]
  },
  {
   "cell_type": "code",
   "execution_count": null,
   "metadata": {
    "colab": {
     "base_uri": "https://localhost:8080/",
     "height": 36
    },
    "id": "4wbL57HnFL0k",
    "outputId": "8f35aabf-5ce1-4c60-e052-a0cfc39cd472"
   },
   "outputs": [
    {
     "data": {
      "application/vnd.google.colaboratory.intrinsic+json": {
       "type": "string"
      },
      "text/plain": [
       "'ground'"
      ]
     },
     "execution_count": 2,
     "metadata": {},
     "output_type": "execute_result"
    }
   ],
   "source": [
    "b = 'groundnut'\n",
    "b.replace('nut', '')"
   ]
  },
  {
   "cell_type": "code",
   "execution_count": null,
   "metadata": {
    "colab": {
     "base_uri": "https://localhost:8080/"
    },
    "id": "N0TQI7Q_HdK5",
    "outputId": "ac98dea8-3eca-49df-cba9-29eda1a828eb"
   },
   "outputs": [
    {
     "data": {
      "text/plain": [
       "2"
      ]
     },
     "execution_count": 4,
     "metadata": {},
     "output_type": "execute_result"
    }
   ],
   "source": [
    "# .count() : it returns the number of times an object or items occurs in a list or tuple.\n",
    "\n",
    "y_list = (\"apple\", \"orange\", \"cherry\", \"orange\", \"banana\")\n",
    "y_list.count(\"orange\")"
   ]
  },
  {
   "cell_type": "code",
   "execution_count": null,
   "metadata": {
    "colab": {
     "base_uri": "https://localhost:8080/"
    },
    "id": "EYqbugzQIiTe",
    "outputId": "f433879e-894a-4dd4-9cc6-5b953b5117a7"
   },
   "outputs": [
    {
     "data": {
      "text/plain": [
       "1"
      ]
     },
     "execution_count": 5,
     "metadata": {},
     "output_type": "execute_result"
    }
   ],
   "source": [
    "y_list.count(\"banana\")"
   ]
  },
  {
   "cell_type": "markdown",
   "metadata": {
    "id": "9oJBFWGDIwv0"
   },
   "source": [
    "# .upper(), .lower(), and .capitalize()\n"
   ]
  },
  {
   "cell_type": "code",
   "execution_count": null,
   "metadata": {
    "colab": {
     "base_uri": "https://localhost:8080/",
     "height": 36
    },
    "id": "gYM4u4y4JVLA",
    "outputId": "01830d33-0b6f-4c87-9837-ca1ec9aad404"
   },
   "outputs": [
    {
     "data": {
      "application/vnd.google.colaboratory.intrinsic+json": {
       "type": "string"
      },
      "text/plain": [
       "'WELCOME TO PYTHON FOR DATA ANALYSIS'"
      ]
     },
     "execution_count": 6,
     "metadata": {},
     "output_type": "execute_result"
    }
   ],
   "source": [
    "# .upper() : it returns the characters of the string in upper case\n",
    "\n",
    "var = 'welcome to python for data analysis'\n",
    "var.upper()"
   ]
  },
  {
   "cell_type": "code",
   "execution_count": null,
   "metadata": {
    "colab": {
     "base_uri": "https://localhost:8080/",
     "height": 36
    },
    "id": "ZGENf6HlKCgr",
    "outputId": "e1198c46-caba-4c3e-c0c1-c5677ddca5b1"
   },
   "outputs": [
    {
     "data": {
      "application/vnd.google.colaboratory.intrinsic+json": {
       "type": "string"
      },
      "text/plain": [
       "'today is friday'"
      ]
     },
     "execution_count": 7,
     "metadata": {},
     "output_type": "execute_result"
    }
   ],
   "source": [
    "# .lower(): it returns the characters of the string in lower case\n",
    "\n",
    "var1 = 'TODAY IS FRIDAY'\n",
    "var1.lower()"
   ]
  },
  {
   "cell_type": "code",
   "execution_count": null,
   "metadata": {
    "colab": {
     "base_uri": "https://localhost:8080/",
     "height": 36
    },
    "id": "AlfDUaf1K_rr",
    "outputId": "90d51cc9-f94f-43a4-94ba-a6f4f6d4e1d6"
   },
   "outputs": [
    {
     "data": {
      "application/vnd.google.colaboratory.intrinsic+json": {
       "type": "string"
      },
      "text/plain": [
       "'Welcome to python for data analysis'"
      ]
     },
     "execution_count": 8,
     "metadata": {},
     "output_type": "execute_result"
    }
   ],
   "source": [
    "# .capitalize(): it returns the first character of an expression in capital letter\n",
    "\n",
    "var.capitalize()"
   ]
  },
  {
   "cell_type": "code",
   "execution_count": null,
   "metadata": {
    "colab": {
     "base_uri": "https://localhost:8080/"
    },
    "id": "jXPnY3VCObsP",
    "outputId": "47da5e84-edcf-485a-f8b0-836f890a2979"
   },
   "outputs": [
    {
     "data": {
      "text/plain": [
       "['welcome', 'to', 'python', 'for', 'data', 'analysis']"
      ]
     },
     "execution_count": 9,
     "metadata": {},
     "output_type": "execute_result"
    }
   ],
   "source": [
    "var.split()"
   ]
  },
  {
   "cell_type": "code",
   "execution_count": null,
   "metadata": {
    "colab": {
     "base_uri": "https://localhost:8080/"
    },
    "id": "DTtjlLoNMpS-",
    "outputId": "1795aac6-de6e-4911-8d2c-264dd2bb289a"
   },
   "outputs": [
    {
     "name": "stdout",
     "output_type": "stream",
     "text": [
      "Welcome To Python For Data Analysis\n"
     ]
    }
   ],
   "source": [
    "result = ''\n",
    "for word in var.split():\n",
    "  result += word[0].upper() + word[1:]\n",
    "  result += ' '\n",
    "print(result.strip())"
   ]
  },
  {
   "cell_type": "markdown",
   "metadata": {
    "id": "WclZcnoaVcEz"
   },
   "source": [
    "- Docstrings: it is another way of writing a short and simple narrative within a cell. Usually, we use it in giving expression or definition to a derived function. We call it by pressing the quotation mark three times (''') which is where you write your expressions or definitions."
   ]
  },
  {
   "cell_type": "markdown",
   "metadata": {
    "id": "JUERn4CJYOBq"
   },
   "source": [
    "# Index"
   ]
  },
  {
   "cell_type": "code",
   "execution_count": null,
   "metadata": {
    "colab": {
     "base_uri": "https://localhost:8080/"
    },
    "id": "Af5YcMftXBgo",
    "outputId": "47eca5c6-4f4d-4a6f-fde5-7ec12e03ba25"
   },
   "outputs": [
    {
     "data": {
      "text/plain": [
       "3"
      ]
     },
     "execution_count": 18,
     "metadata": {},
     "output_type": "execute_result"
    }
   ],
   "source": [
    "'''Index: if an object occur multiple times, .index() will return the index of the first occurrence'''\n",
    "\n",
    "# .index() : it returns the index location of a specified value in a list or tuple.\n",
    "\n",
    "index_list = [5, 6, 2, 3, 8, 3, 7]\n",
    "\n",
    "index_list.index(3)"
   ]
  },
  {
   "cell_type": "code",
   "execution_count": null,
   "metadata": {
    "colab": {
     "base_uri": "https://localhost:8080/"
    },
    "id": "nO0RWiAbWXiA",
    "outputId": "ddbe3d02-6b64-4862-82eb-2052ffd8f047"
   },
   "outputs": [
    {
     "data": {
      "text/plain": [
       "('apple', 'orange', 'cherry', 'orange', 'banana')"
      ]
     },
     "execution_count": 19,
     "metadata": {},
     "output_type": "execute_result"
    }
   ],
   "source": [
    "y_list"
   ]
  },
  {
   "cell_type": "code",
   "execution_count": null,
   "metadata": {
    "colab": {
     "base_uri": "https://localhost:8080/"
    },
    "id": "s6fhk2kaaCUw",
    "outputId": "65852eef-e119-4e2b-dadc-667415de0c6d"
   },
   "outputs": [
    {
     "data": {
      "text/plain": [
       "1"
      ]
     },
     "execution_count": 20,
     "metadata": {},
     "output_type": "execute_result"
    }
   ],
   "source": [
    "y_list.index('orange')"
   ]
  },
  {
   "cell_type": "code",
   "execution_count": null,
   "metadata": {
    "colab": {
     "base_uri": "https://localhost:8080/"
    },
    "id": "x9lyo2giaR-a",
    "outputId": "277bab60-740a-4882-ff03-5ed4d0c6bf99"
   },
   "outputs": [
    {
     "name": "stdout",
     "output_type": "stream",
     "text": [
      "groundnut\n"
     ]
    }
   ],
   "source": [
    "print(b)"
   ]
  },
  {
   "cell_type": "code",
   "execution_count": null,
   "metadata": {
    "colab": {
     "base_uri": "https://localhost:8080/"
    },
    "id": "3Pd3-MglaVh9",
    "outputId": "37dcd121-e40d-4837-d635-5f413c5d48c6"
   },
   "outputs": [
    {
     "data": {
      "text/plain": [
       "3"
      ]
     },
     "execution_count": 22,
     "metadata": {},
     "output_type": "execute_result"
    }
   ],
   "source": [
    "b.index('u')"
   ]
  },
  {
   "cell_type": "markdown",
   "metadata": {
    "id": "WFw7WOcUat5n"
   },
   "source": [
    "- round() - it is an inbuilt function that takes in two arguments; the number to be rounded and its precision."
   ]
  },
  {
   "cell_type": "code",
   "execution_count": null,
   "metadata": {
    "colab": {
     "base_uri": "https://localhost:8080/"
    },
    "id": "vAQ2t4DaapKW",
    "outputId": "e80a2036-6034-4e4c-9ba5-ff81393c5f78"
   },
   "outputs": [
    {
     "data": {
      "text/plain": [
       "15.367"
      ]
     },
     "execution_count": 23,
     "metadata": {},
     "output_type": "execute_result"
    }
   ],
   "source": [
    "num_round = 15.3674 # round to 3 decimal places\n",
    "round(num_round, 3)"
   ]
  },
  {
   "cell_type": "code",
   "execution_count": null,
   "metadata": {
    "colab": {
     "base_uri": "https://localhost:8080/"
    },
    "id": "mwbRyxypcS4q",
    "outputId": "559e1ac2-f41e-4e7e-a868-79ad32f6fb6a"
   },
   "outputs": [
    {
     "data": {
      "text/plain": [
       "15.37"
      ]
     },
     "execution_count": 24,
     "metadata": {},
     "output_type": "execute_result"
    }
   ],
   "source": [
    "round(num_round, 2)"
   ]
  },
  {
   "cell_type": "code",
   "execution_count": null,
   "metadata": {
    "colab": {
     "base_uri": "https://localhost:8080/"
    },
    "id": "gelOe0q5cXqw",
    "outputId": "87b334af-46fd-4ae9-e7f0-0d04479f41e0"
   },
   "outputs": [
    {
     "data": {
      "text/plain": [
       "15.4"
      ]
     },
     "execution_count": 25,
     "metadata": {},
     "output_type": "execute_result"
    }
   ],
   "source": [
    "round(num_round, 1)"
   ]
  },
  {
   "cell_type": "code",
   "execution_count": null,
   "metadata": {
    "colab": {
     "base_uri": "https://localhost:8080/"
    },
    "id": "NosfZmS1cdOK",
    "outputId": "71b2e60c-6e6e-49c1-b4a9-da011fca9754"
   },
   "outputs": [
    {
     "data": {
      "text/plain": [
       "15"
      ]
     },
     "execution_count": 28,
     "metadata": {},
     "output_type": "execute_result"
    }
   ],
   "source": [
    "round(num_round)"
   ]
  },
  {
   "cell_type": "markdown",
   "metadata": {
    "id": "cIBP39YrdAkT"
   },
   "source": [
    "# Indexing and Slicing\n",
    "we use square bracket[] attached to an object or variable when dealing with indexing and slicing. e.g; a[], num[], etc.      "
   ]
  },
  {
   "cell_type": "code",
   "execution_count": null,
   "metadata": {
    "colab": {
     "base_uri": "https://localhost:8080/",
     "height": 36
    },
    "id": "Z6Sk9hJ0hdW6",
    "outputId": "11fde075-36c5-45bd-f503-f5e1add93738"
   },
   "outputs": [
    {
     "data": {
      "application/vnd.google.colaboratory.intrinsic+json": {
       "type": "string"
      },
      "text/plain": [
       "'t'"
      ]
     },
     "execution_count": 29,
     "metadata": {},
     "output_type": "execute_result"
    }
   ],
   "source": [
    "r = 'football'\n",
    "r[3]"
   ]
  },
  {
   "cell_type": "code",
   "execution_count": null,
   "metadata": {
    "colab": {
     "base_uri": "https://localhost:8080/",
     "height": 36
    },
    "id": "zUBlTVm3iDhn",
    "outputId": "b93a0f18-bc4d-48e6-cf9b-d950c76af85d"
   },
   "outputs": [
    {
     "data": {
      "application/vnd.google.colaboratory.intrinsic+json": {
       "type": "string"
      },
      "text/plain": [
       "'a'"
      ]
     },
     "execution_count": 30,
     "metadata": {},
     "output_type": "execute_result"
    }
   ],
   "source": [
    "r[5]"
   ]
  },
  {
   "cell_type": "markdown",
   "metadata": {
    "id": "HwP96rF3iuNN"
   },
   "source": [
    "# we use slicing to slice out a specific element, words or values in an iterable. [start : end] ==> you start the index position from the specified value or element and use the end point to slice the iterable.\n",
    "\n",
    " - [start : end : step] ===> Usually, the default step is 1. When the step is not specified, it means that the default is 1"
   ]
  },
  {
   "cell_type": "code",
   "execution_count": null,
   "metadata": {
    "colab": {
     "base_uri": "https://localhost:8080/",
     "height": 36
    },
    "id": "OE--FT-CiTwy",
    "outputId": "22038cdf-27fb-4c0b-9705-e5b7dfc02a17"
   },
   "outputs": [
    {
     "data": {
      "application/vnd.google.colaboratory.intrinsic+json": {
       "type": "string"
      },
      "text/plain": [
       "'foot'"
      ]
     },
     "execution_count": 31,
     "metadata": {},
     "output_type": "execute_result"
    }
   ],
   "source": [
    "# slice out 'foot' from 'football'\n",
    "\n",
    "r[0:4]"
   ]
  },
  {
   "cell_type": "code",
   "execution_count": null,
   "metadata": {
    "colab": {
     "base_uri": "https://localhost:8080/",
     "height": 36
    },
    "id": "sJadW2seiPgN",
    "outputId": "d8c98cb3-0e54-44ea-dc4b-57ae18649e33"
   },
   "outputs": [
    {
     "data": {
      "application/vnd.google.colaboratory.intrinsic+json": {
       "type": "string"
      },
      "text/plain": [
       "'foot'"
      ]
     },
     "execution_count": 32,
     "metadata": {},
     "output_type": "execute_result"
    }
   ],
   "source": [
    "# for best practices, we use this:\n",
    "r[:4]\n"
   ]
  },
  {
   "cell_type": "code",
   "execution_count": null,
   "metadata": {
    "colab": {
     "base_uri": "https://localhost:8080/"
    },
    "id": "gLL7Ydykk2UA",
    "outputId": "d6de98d1-29f5-4ec0-cef6-128aef61f62d"
   },
   "outputs": [
    {
     "name": "stdout",
     "output_type": "stream",
     "text": [
      "all\n"
     ]
    }
   ],
   "source": [
    "# get the last three character of 'football', store it in  a varaible and convert it to upper case.\n",
    "name = 'football'\n",
    "\n",
    "three_last = name[-3:]\n",
    "print(three_last)"
   ]
  },
  {
   "cell_type": "code",
   "execution_count": null,
   "metadata": {
    "colab": {
     "base_uri": "https://localhost:8080/",
     "height": 36
    },
    "id": "nUc5gTL9oLFo",
    "outputId": "d64be79e-c7ef-4c8c-8f73-07807c8a797a"
   },
   "outputs": [
    {
     "data": {
      "application/vnd.google.colaboratory.intrinsic+json": {
       "type": "string"
      },
      "text/plain": [
       "'ALL'"
      ]
     },
     "execution_count": 34,
     "metadata": {},
     "output_type": "execute_result"
    }
   ],
   "source": [
    "three_last.upper()"
   ]
  },
  {
   "cell_type": "code",
   "execution_count": null,
   "metadata": {
    "colab": {
     "base_uri": "https://localhost:8080/",
     "height": 36
    },
    "id": "xNSVvV3cp8U8",
    "outputId": "371b0d9c-b595-42ca-c135-16c5d13a52ee"
   },
   "outputs": [
    {
     "data": {
      "application/vnd.google.colaboratory.intrinsic+json": {
       "type": "string"
      },
      "text/plain": [
       "'ota'"
      ]
     },
     "execution_count": 35,
     "metadata": {},
     "output_type": "execute_result"
    }
   ],
   "source": [
    "r[1:7:2]"
   ]
  },
  {
   "cell_type": "markdown",
   "metadata": {
    "id": "zNDHgCmossMr"
   },
   "source": [
    "- Dictionary: it is used to store data valud in key ordered pair. The short word for dictionary is `dict`. It can be written in curly bracket {}, and it has key(s) and value(s). It can be changed, ordered but not duplicated."
   ]
  },
  {
   "cell_type": "code",
   "execution_count": null,
   "metadata": {
    "colab": {
     "base_uri": "https://localhost:8080/"
    },
    "id": "cFWlMoOiuJR3",
    "outputId": "faac4d64-0630-44cb-964a-ea20342f8c45"
   },
   "outputs": [
    {
     "name": "stdout",
     "output_type": "stream",
     "text": [
      "{'car brand': 'Ford', 'car model': 'Mustang', 'year': 2020}\n"
     ]
    }
   ],
   "source": [
    "x_dict = {'car brand': 'Ford', 'car model': 'Mustang', 'year': 2020}\n",
    "print(x_dict)"
   ]
  },
  {
   "cell_type": "code",
   "execution_count": null,
   "metadata": {
    "colab": {
     "base_uri": "https://localhost:8080/"
    },
    "id": "YtmJi1VoukLi",
    "outputId": "bc7d14bf-f3cf-45fb-bd98-22ee41203e47"
   },
   "outputs": [
    {
     "data": {
      "text/plain": [
       "dict"
      ]
     },
     "execution_count": 37,
     "metadata": {},
     "output_type": "execute_result"
    }
   ],
   "source": [
    "type(x_dict)"
   ]
  },
  {
   "cell_type": "code",
   "execution_count": null,
   "metadata": {
    "colab": {
     "base_uri": "https://localhost:8080/",
     "height": 36
    },
    "id": "-nAYJwHxun14",
    "outputId": "0ae6a71f-1d11-47a4-a672-f3daa27074a2"
   },
   "outputs": [
    {
     "data": {
      "application/vnd.google.colaboratory.intrinsic+json": {
       "type": "string"
      },
      "text/plain": [
       "'Ford'"
      ]
     },
     "execution_count": 38,
     "metadata": {},
     "output_type": "execute_result"
    }
   ],
   "source": [
    "x_dict['car brand']"
   ]
  },
  {
   "cell_type": "code",
   "execution_count": null,
   "metadata": {
    "colab": {
     "base_uri": "https://localhost:8080/"
    },
    "id": "IGtp5235vXAD",
    "outputId": "18d6f3ca-7d82-4f31-d547-78cd0981464d"
   },
   "outputs": [
    {
     "name": "stdout",
     "output_type": "stream",
     "text": [
      "{'car brand': ['Ford', 'Toyota', 'Honda', 'Lexus'], 'car model': ['Mustang', 'Camry', 'Accord', 'Ex350'], 'year': [2020, 2021, 2019, 2022]}\n"
     ]
    }
   ],
   "source": [
    "y_dict = {'car brand': ['Ford', 'Toyota', 'Honda', 'Lexus'], 'car model': ['Mustang', 'Camry', 'Accord', 'Ex350'], 'year': [2020, 2021, 2019, 2022]}\n",
    "print(y_dict)"
   ]
  },
  {
   "cell_type": "code",
   "execution_count": null,
   "metadata": {
    "colab": {
     "base_uri": "https://localhost:8080/"
    },
    "id": "4ddWl7uRv6BV",
    "outputId": "75a234f6-9e41-4662-8d54-69290f9aa485"
   },
   "outputs": [
    {
     "data": {
      "text/plain": [
       "dict"
      ]
     },
     "execution_count": 40,
     "metadata": {},
     "output_type": "execute_result"
    }
   ],
   "source": [
    "type(y_dict)"
   ]
  },
  {
   "cell_type": "code",
   "execution_count": null,
   "metadata": {
    "colab": {
     "base_uri": "https://localhost:8080/"
    },
    "id": "K4Ifc3GKv9j0",
    "outputId": "c6649169-8291-4827-a755-eaf75c78db54"
   },
   "outputs": [
    {
     "data": {
      "text/plain": [
       "['Ford', 'Toyota', 'Honda', 'Lexus']"
      ]
     },
     "execution_count": 43,
     "metadata": {},
     "output_type": "execute_result"
    }
   ],
   "source": [
    "y_dict['car brand']"
   ]
  },
  {
   "cell_type": "code",
   "execution_count": null,
   "metadata": {
    "colab": {
     "base_uri": "https://localhost:8080/",
     "height": 36
    },
    "id": "6xusPMWwwqGj",
    "outputId": "782438e1-333a-4b4c-be8e-7a9f696e083f"
   },
   "outputs": [
    {
     "data": {
      "application/vnd.google.colaboratory.intrinsic+json": {
       "type": "string"
      },
      "text/plain": [
       "'Honda'"
      ]
     },
     "execution_count": 46,
     "metadata": {},
     "output_type": "execute_result"
    }
   ],
   "source": [
    "y_dict['car brand'][2] # index of index"
   ]
  },
  {
   "cell_type": "code",
   "execution_count": null,
   "metadata": {
    "colab": {
     "base_uri": "https://localhost:8080/"
    },
    "id": "fqgCtd2bwUEr",
    "outputId": "5bedfd5a-67a4-40d6-a55f-b647e811d39a"
   },
   "outputs": [
    {
     "data": {
      "text/plain": [
       "['Ford', 'Toyota']"
      ]
     },
     "execution_count": 45,
     "metadata": {},
     "output_type": "execute_result"
    }
   ],
   "source": [
    "y_dict['car brand'][:2] # index of indexing and slicing"
   ]
  },
  {
   "cell_type": "markdown",
   "metadata": {
    "id": "Cn3OOTUFybB-"
   },
   "source": [
    "-  Tuple: it is a collection objects that are ordered and unchangeable, and it allows duplicate. It is written in round bracket ()."
   ]
  },
  {
   "cell_type": "code",
   "execution_count": null,
   "metadata": {
    "colab": {
     "base_uri": "https://localhost:8080/"
    },
    "id": "a1mtIiorw781",
    "outputId": "c2b9c90d-4a85-44e6-d0dc-1d0e034e38be"
   },
   "outputs": [
    {
     "name": "stdout",
     "output_type": "stream",
     "text": [
      "('apple', 'banana', 'cherry', 'orange')\n"
     ]
    }
   ],
   "source": [
    "x_tuple = ('apple', 'banana', 'cherry', 'orange')\n",
    "print(x_tuple)"
   ]
  },
  {
   "cell_type": "code",
   "execution_count": null,
   "metadata": {
    "colab": {
     "base_uri": "https://localhost:8080/"
    },
    "id": "KeXo94-rzFRq",
    "outputId": "330badaf-0169-4e1c-9f30-e6d762519b4c"
   },
   "outputs": [
    {
     "data": {
      "text/plain": [
       "tuple"
      ]
     },
     "execution_count": 48,
     "metadata": {},
     "output_type": "execute_result"
    }
   ],
   "source": [
    "type(x_tuple)"
   ]
  },
  {
   "cell_type": "code",
   "execution_count": null,
   "metadata": {
    "colab": {
     "base_uri": "https://localhost:8080/"
    },
    "id": "ZuhXPeE_zJrQ",
    "outputId": "5cf39407-1a25-4bc2-9793-e40c12821d51"
   },
   "outputs": [
    {
     "data": {
      "text/plain": [
       "('apple', 'banana')"
      ]
     },
     "execution_count": 49,
     "metadata": {},
     "output_type": "execute_result"
    }
   ],
   "source": [
    "# Indexing and slicing in tuple\n",
    "x_tuple[:2]"
   ]
  },
  {
   "cell_type": "code",
   "execution_count": null,
   "metadata": {
    "colab": {
     "base_uri": "https://localhost:8080/"
    },
    "id": "ESW8OBJVzW5b",
    "outputId": "d0a62e54-cfcd-4816-e914-bdddf4ff176e"
   },
   "outputs": [
    {
     "data": {
      "text/plain": [
       "('banana', 'cherry')"
      ]
     },
     "execution_count": 50,
     "metadata": {},
     "output_type": "execute_result"
    }
   ],
   "source": [
    "x_tuple[1:3]"
   ]
  },
  {
   "cell_type": "code",
   "execution_count": null,
   "metadata": {
    "colab": {
     "base_uri": "https://localhost:8080/"
    },
    "id": "GBR3mGVmzgeN",
    "outputId": "01e6f7ff-319d-477a-dc52-4618c221c2e2"
   },
   "outputs": [
    {
     "name": "stdout",
     "output_type": "stream",
     "text": [
      "Help on built-in function len in module builtins:\n",
      "\n",
      "len(obj, /)\n",
      "    Return the number of items in a container.\n",
      "\n"
     ]
    }
   ],
   "source": [
    "# len() : it is an inbuilt function that returns the number of character in an iterable.\n",
    "\n",
    "help(len)"
   ]
  },
  {
   "cell_type": "code",
   "execution_count": null,
   "metadata": {
    "colab": {
     "base_uri": "https://localhost:8080/"
    },
    "id": "e0G2-2va0CCb",
    "outputId": "f2f784ae-d5d3-4e0c-cb89-ad707270001f"
   },
   "outputs": [
    {
     "data": {
      "text/plain": [
       "4"
      ]
     },
     "execution_count": 52,
     "metadata": {},
     "output_type": "execute_result"
    }
   ],
   "source": [
    "len(x_tuple)"
   ]
  },
  {
   "cell_type": "code",
   "execution_count": null,
   "metadata": {
    "colab": {
     "base_uri": "https://localhost:8080/"
    },
    "id": "W78fGV1a0SvC",
    "outputId": "37ec583a-16bf-4ec8-86ae-9430fb3a5e87"
   },
   "outputs": [
    {
     "name": "stdout",
     "output_type": "stream",
     "text": [
      "groundnut\n"
     ]
    }
   ],
   "source": [
    "print(b)"
   ]
  },
  {
   "cell_type": "code",
   "execution_count": null,
   "metadata": {
    "colab": {
     "base_uri": "https://localhost:8080/"
    },
    "id": "BtLOf4VG0Wsj",
    "outputId": "1c95272a-a7d6-4430-d0ab-ef81e2dedf9b"
   },
   "outputs": [
    {
     "data": {
      "text/plain": [
       "9"
      ]
     },
     "execution_count": 54,
     "metadata": {},
     "output_type": "execute_result"
    }
   ],
   "source": [
    "len(b)"
   ]
  },
  {
   "cell_type": "code",
   "execution_count": null,
   "metadata": {
    "colab": {
     "base_uri": "https://localhost:8080/"
    },
    "id": "ZpzGlLnP0hyR",
    "outputId": "3be63daa-5588-4d13-bbf6-4e4c7b0afa5a"
   },
   "outputs": [
    {
     "name": "stdout",
     "output_type": "stream",
     "text": [
      "{'car brand': 'Ford', 'car model': 'Mustang', 'year': 2020}\n"
     ]
    }
   ],
   "source": [
    "print(x_dict)"
   ]
  },
  {
   "cell_type": "code",
   "execution_count": null,
   "metadata": {
    "colab": {
     "base_uri": "https://localhost:8080/"
    },
    "id": "EbW1QExy0aUY",
    "outputId": "9742ea15-7bb1-4091-ba7f-4a0b753261e1"
   },
   "outputs": [
    {
     "data": {
      "text/plain": [
       "3"
      ]
     },
     "execution_count": 55,
     "metadata": {},
     "output_type": "execute_result"
    }
   ],
   "source": [
    "len(x_dict)"
   ]
  },
  {
   "cell_type": "code",
   "execution_count": null,
   "metadata": {
    "colab": {
     "base_uri": "https://localhost:8080/"
    },
    "id": "oN_TqPbD0vVQ",
    "outputId": "1752e201-ca72-45d9-f952-ee59c6d5c1aa"
   },
   "outputs": [
    {
     "name": "stdout",
     "output_type": "stream",
     "text": [
      "('James', 34, True, 45.9, 'Male')\n"
     ]
    }
   ],
   "source": [
    "# Tuple can also be a mixture of string, float, integer or boolean\n",
    "\n",
    "y_tuple = ('James', 34, True, 45.9, 'Male')\n",
    "print(y_tuple)"
   ]
  },
  {
   "cell_type": "code",
   "execution_count": null,
   "metadata": {
    "colab": {
     "base_uri": "https://localhost:8080/"
    },
    "id": "2SbMiQSb1KYA",
    "outputId": "5a47a440-1099-41e6-e680-f0ab742d8744"
   },
   "outputs": [
    {
     "data": {
      "text/plain": [
       "tuple"
      ]
     },
     "execution_count": 58,
     "metadata": {},
     "output_type": "execute_result"
    }
   ],
   "source": [
    "type(y_tuple)"
   ]
  },
  {
   "cell_type": "markdown",
   "metadata": {
    "id": "NyhsEnGU1YRq"
   },
   "source": [
    "# Print Formatting\n",
    "- f-string\n",
    "- print format method using placeholders (`%s` and `{}`)"
   ]
  },
  {
   "cell_type": "code",
   "execution_count": null,
   "metadata": {
    "colab": {
     "base_uri": "https://localhost:8080/"
    },
    "id": "gYMkybpK18eU",
    "outputId": "fd4c8854-51c7-4dd5-f696-8381e1667624"
   },
   "outputs": [
    {
     "name": "stdout",
     "output_type": "stream",
     "text": [
      "Fosey is busy cooking rice\n"
     ]
    }
   ],
   "source": [
    "word = 'Fosey is busy cooking rice'\n",
    "print(word)"
   ]
  },
  {
   "cell_type": "markdown",
   "metadata": {
    "id": "PDW0r0LK2jrX"
   },
   "source": [
    "- f-string is also called formatted string literals. It is a convenient way to embed expression inside string literal. To use f-string, we will prefix the string with the letter 'f' and enclose the expression with {}."
   ]
  },
  {
   "cell_type": "code",
   "execution_count": null,
   "metadata": {
    "colab": {
     "base_uri": "https://localhost:8080/"
    },
    "id": "Sef8Kp_B3WiK",
    "outputId": "8b0c1fdf-e596-4dca-e358-f40091e45ec6"
   },
   "outputs": [
    {
     "name": "stdout",
     "output_type": "stream",
     "text": [
      "My name is Fosey, I am 12 years old, and my height is 1.65 meters.\n"
     ]
    }
   ],
   "source": [
    "name = 'Fosey'\n",
    "age = 12\n",
    "height = 1.65\n",
    "\n",
    "print(f'My name is {name}, I am {age} years old, and my height is {height} meters.')"
   ]
  },
  {
   "cell_type": "code",
   "execution_count": null,
   "metadata": {
    "colab": {
     "base_uri": "https://localhost:8080/"
    },
    "id": "fzzMq0mG4cDl",
    "outputId": "e668d08a-e6c1-4e81-d247-9817fba23098"
   },
   "outputs": [
    {
     "name": "stdout",
     "output_type": "stream",
     "text": [
      "The sum of num1 and num2 is 55\n"
     ]
    }
   ],
   "source": [
    "num1 = 35\n",
    "num2 = 20\n",
    "print(f'The sum of num1 and num2 is {num1 + num2}')"
   ]
  },
  {
   "cell_type": "code",
   "execution_count": 1,
   "metadata": {
    "colab": {
     "base_uri": "https://localhost:8080/"
    },
    "id": "mQDFI4jzqQ2V",
    "outputId": "a83c7e57-b9ee-449c-d360-76a1c765060d"
   },
   "outputs": [
    {
     "name": "stdout",
     "output_type": "stream",
     "text": [
      "The value of pi is approximately 3.14\n"
     ]
    }
   ],
   "source": [
    "pi = 3.14159\n",
    "print(f'The value of pi is approximately {pi:.2f}')"
   ]
  },
  {
   "cell_type": "code",
   "execution_count": 3,
   "metadata": {
    "colab": {
     "base_uri": "https://localhost:8080/"
    },
    "id": "CvhpJBourKgN",
    "outputId": "fc8edbd8-5f6e-48ce-c9fc-4fe1fec84539"
   },
   "outputs": [
    {
     "name": "stdout",
     "output_type": "stream",
     "text": [
      "Dan is 45 years old\n"
     ]
    }
   ],
   "source": [
    "person = {'name': 'Dan', 'age': 45}\n",
    "print(f\"{person['name']} is {person['age']} years old\")"
   ]
  },
  {
   "cell_type": "code",
   "execution_count": 5,
   "metadata": {
    "colab": {
     "base_uri": "https://localhost:8080/"
    },
    "id": "VEfk2AMltxg0",
    "outputId": "69cde219-ad8b-4669-f63d-8650f477911f"
   },
   "outputs": [
    {
     "name": "stdout",
     "output_type": "stream",
     "text": [
      "My name is Fosey, I am 12 years old, and my height is 1.65 meters.\n"
     ]
    }
   ],
   "source": [
    "# %s is also a way of formatting a string\n",
    "\n",
    "name = 'Fosey'\n",
    "age = 12\n",
    "height = 1.65\n",
    "\n",
    "print(f'My name is %s, I am %s years old, and my height is %s meters.'%(name,age,height))\n"
   ]
  },
  {
   "cell_type": "code",
   "execution_count": 6,
   "metadata": {
    "colab": {
     "base_uri": "https://localhost:8080/"
    },
    "id": "3PGrFg8jvE-U",
    "outputId": "d08aa876-0b49-455a-dce1-042d9b7e3476"
   },
   "outputs": [
    {
     "name": "stdout",
     "output_type": "stream",
     "text": [
      "The sum of num1 and num2 is 35 + 20\n"
     ]
    }
   ],
   "source": [
    "num1 = 35\n",
    "num2 = 20\n",
    "print(f'The sum of num1 and num2 is %s + %s'%(num1, num2))"
   ]
  },
  {
   "cell_type": "markdown",
   "metadata": {
    "id": "b3pFndnLv7vA"
   },
   "source": [
    "# Loops\n",
    "- It is used to iterate over a sequence such as tuple, dictionary, string, etc or to repeat a block of code for each item in the sequence.\n",
    "\n",
    "# Types of Loops\n",
    "- For Loop\n",
    "- While Loop"
   ]
  },
  {
   "cell_type": "markdown",
   "metadata": {
    "id": "IyeJ-JlCxV72"
   },
   "source": [
    "**For Loop**: it is used to iterate over a sequence and execute the block of code for each item in the sequence."
   ]
  },
  {
   "cell_type": "code",
   "execution_count": 7,
   "metadata": {
    "colab": {
     "base_uri": "https://localhost:8080/"
    },
    "id": "rSyIqEQBxGFx",
    "outputId": "7a11933f-e681-4432-8278-57dbb2945dd6"
   },
   "outputs": [
    {
     "name": "stdout",
     "output_type": "stream",
     "text": [
      "apple\n",
      "banana\n",
      "orange\n",
      "cherry\n"
     ]
    }
   ],
   "source": [
    "fruits = ['apple', 'banana', 'orange', 'cherry']\n",
    "\n",
    "for x in fruits:\n",
    "  print(x)"
   ]
  },
  {
   "cell_type": "code",
   "execution_count": 11,
   "metadata": {
    "colab": {
     "base_uri": "https://localhost:8080/"
    },
    "id": "rEBaodg91O7z",
    "outputId": "3f92a70e-6191-4ee0-abe8-1a488e174900"
   },
   "outputs": [
    {
     "name": "stdout",
     "output_type": "stream",
     "text": [
      "The word apple has 5 characters\n",
      "The word banana has 6 characters\n",
      "The word orange has 6 characters\n",
      "The word cherry has 6 characters\n"
     ]
    }
   ],
   "source": [
    "# return the number of characters of strings in an iterable\n",
    "\n",
    "for x in fruits:\n",
    "  print(f'The word {x} has {len(x)} characters')"
   ]
  },
  {
   "cell_type": "code",
   "execution_count": 8,
   "metadata": {
    "colab": {
     "base_uri": "https://localhost:8080/"
    },
    "id": "I5PYwLCnys3M",
    "outputId": "f5117f95-c0f7-4622-e973-463ee07b1687"
   },
   "outputs": [
    {
     "name": "stdout",
     "output_type": "stream",
     "text": [
      "D\n",
      "a\n",
      "n\n",
      "i\n",
      "e\n",
      "l\n"
     ]
    }
   ],
   "source": [
    "# we can do for loop over a string\n",
    "\n",
    "\n",
    "for i in 'Daniel':\n",
    "  print(i)"
   ]
  },
  {
   "cell_type": "code",
   "execution_count": 9,
   "metadata": {
    "colab": {
     "base_uri": "https://localhost:8080/"
    },
    "id": "SMyEtwHDzrl7",
    "outputId": "2bff7569-5636-49c7-fa9f-e62ed1412085"
   },
   "outputs": [
    {
     "name": "stdout",
     "output_type": "stream",
     "text": [
      "0\n",
      "1\n",
      "2\n",
      "3\n",
      "4\n",
      "5\n",
      "6\n",
      "7\n",
      "8\n",
      "9\n"
     ]
    }
   ],
   "source": [
    "# iterating over a range of numbers\n",
    "\n",
    "for num in range(10):\n",
    "  print(num)"
   ]
  },
  {
   "cell_type": "code",
   "execution_count": 13,
   "metadata": {
    "colab": {
     "base_uri": "https://localhost:8080/"
    },
    "id": "0I4z4J-q5R9o",
    "outputId": "0f33e520-3a81-4b48-9f6f-a410e73832f8"
   },
   "outputs": [
    {
     "name": "stdout",
     "output_type": "stream",
     "text": [
      "2\n",
      "4\n",
      "6\n",
      "8\n"
     ]
    }
   ],
   "source": [
    "# fetch even numbers from range(1, 10)\n",
    "\n",
    "for y in range(1, 10):\n",
    "  if y % 2 == 0:\n",
    "    print(y)"
   ]
  },
  {
   "cell_type": "code",
   "execution_count": 15,
   "metadata": {
    "colab": {
     "base_uri": "https://localhost:8080/"
    },
    "id": "BksePC1p6sip",
    "outputId": "99331930-9b8d-4535-de06-de5cbdc0da4f"
   },
   "outputs": [
    {
     "name": "stdout",
     "output_type": "stream",
     "text": [
      "1\n",
      "3\n",
      "5\n",
      "7\n",
      "9\n"
     ]
    }
   ],
   "source": [
    "# fetch odd numbers from range(1, 10) # != ====> not equals to\n",
    "\n",
    "for y in range(1, 10):\n",
    "  if y % 2 != 0:\n",
    "    print(y)"
   ]
  },
  {
   "cell_type": "code",
   "execution_count": 18,
   "metadata": {
    "colab": {
     "base_uri": "https://localhost:8080/"
    },
    "id": "LfyuK5t27jt3",
    "outputId": "64a902b2-c8b6-42bd-bed5-4182f5405ff7"
   },
   "outputs": [
    {
     "name": "stdout",
     "output_type": "stream",
     "text": [
      "The letter 'o' appears 4 times in the word word.\n"
     ]
    }
   ],
   "source": [
    "word = 'Hello, I hope you are doing great'\n",
    "count = 0\n",
    "\n",
    "for char in word:\n",
    "  if char == 'o':\n",
    "    count +=1\n",
    "print(f\"The letter 'o' appears {count} times in the word {'word'}.\")"
   ]
  },
  {
   "cell_type": "markdown",
   "metadata": {
    "id": "P6lboY0qAgge"
   },
   "source": [
    "**While Loop**: it is used to repeat a block of code as long as a certain condition is met or true."
   ]
  },
  {
   "cell_type": "code",
   "execution_count": 20,
   "metadata": {
    "colab": {
     "base_uri": "https://localhost:8080/"
    },
    "id": "n5MWz7cL7XDJ",
    "outputId": "7c6bc1cd-aa6c-4743-92c9-1ab9010ab59b"
   },
   "outputs": [
    {
     "name": "stdout",
     "output_type": "stream",
     "text": [
      "0\n",
      "2\n",
      "4\n",
      "6\n",
      "8\n"
     ]
    }
   ],
   "source": [
    "i = 0\n",
    "\n",
    "while i < 10:\n",
    "  print(i)\n",
    "  i +=2"
   ]
  },
  {
   "cell_type": "code",
   "execution_count": 24,
   "metadata": {
    "colab": {
     "base_uri": "https://localhost:8080/"
    },
    "id": "vYCrt8P3CZ1s",
    "outputId": "23319326-9512-41c6-cdb9-367b43aa593f"
   },
   "outputs": [
    {
     "name": "stdout",
     "output_type": "stream",
     "text": [
      "5\n",
      "4\n",
      "3\n",
      "2\n",
      "1\n"
     ]
    }
   ],
   "source": [
    "# counting down a number\n",
    "count = 5\n",
    "\n",
    "while count > 0:\n",
    "  print(count)\n",
    "  count -=1"
   ]
  },
  {
   "cell_type": "code",
   "execution_count": 25,
   "metadata": {
    "colab": {
     "base_uri": "https://localhost:8080/"
    },
    "id": "y_a3vWV3EX3R",
    "outputId": "7be1f70f-fc18-41c5-9e55-95c28692e045"
   },
   "outputs": [
    {
     "name": "stdout",
     "output_type": "stream",
     "text": [
      "5\n",
      "10\n",
      "15\n"
     ]
    }
   ],
   "source": [
    "# iterating over a list until a condition is met\n",
    "\n",
    "numbers = [5, 10, 15, 20, 25, 30]\n",
    "i = 0\n",
    "\n",
    "while i < len(numbers) and numbers[i] < 20:\n",
    "  print(numbers[i])\n",
    "  i +=1"
   ]
  },
  {
   "cell_type": "markdown",
   "metadata": {
    "id": "LkIW6WKtHhkl"
   },
   "source": [
    "# Break, Continue, and Pass Statement\n",
    "- Break statement: it can stop a loop before it has looped."
   ]
  },
  {
   "cell_type": "code",
   "execution_count": 26,
   "metadata": {
    "colab": {
     "base_uri": "https://localhost:8080/"
    },
    "id": "2uy0-H7fHx_F",
    "outputId": "f6afc6da-c04c-47c2-d6c1-ea4cf5908ace"
   },
   "outputs": [
    {
     "name": "stdout",
     "output_type": "stream",
     "text": [
      "0\n",
      "1\n",
      "2\n",
      "3\n",
      "4\n"
     ]
    }
   ],
   "source": [
    "for i in range(10):\n",
    "  if i == 5:\n",
    "    break\n",
    "  print(i)"
   ]
  },
  {
   "cell_type": "markdown",
   "metadata": {
    "id": "DvRmYkE9JDuD"
   },
   "source": [
    "- In while loop, the break statement can be used to exit the loop when a certain condition is met."
   ]
  },
  {
   "cell_type": "code",
   "execution_count": 28,
   "metadata": {
    "colab": {
     "base_uri": "https://localhost:8080/"
    },
    "id": "4pSl_36JJDG9",
    "outputId": "57062330-6359-41d1-a4f3-2bbe8d387e4d"
   },
   "outputs": [
    {
     "name": "stdout",
     "output_type": "stream",
     "text": [
      "0\n",
      "2\n",
      "4\n"
     ]
    }
   ],
   "source": [
    "i = 0\n",
    "\n",
    "while i < 10:\n",
    "  if i == 6:\n",
    "    break\n",
    "  print(i)\n",
    "  i +=1"
   ]
  },
  {
   "cell_type": "code",
   "execution_count": 29,
   "metadata": {
    "colab": {
     "base_uri": "https://localhost:8080/"
    },
    "id": "M0qXfenAKPME",
    "outputId": "9fbe1dd7-8860-4437-d2ce-b593359b640d"
   },
   "outputs": [
    {
     "name": "stdout",
     "output_type": "stream",
     "text": [
      "1\n",
      "3\n",
      "5\n",
      "7\n",
      "9\n"
     ]
    }
   ],
   "source": [
    "# another way to return odd number using while loop\n",
    "\n",
    "num = 1\n",
    "\n",
    "while num < 10:\n",
    "  if num % 2 == 1:\n",
    "    print(num)\n",
    "  num +=1"
   ]
  },
  {
   "cell_type": "markdown",
   "metadata": {
    "id": "Zu04Bds5K1OO"
   },
   "source": [
    "**Continue Statement**: with the continue statement, we can skip the current iteration of a loop and move on to the next iteration."
   ]
  },
  {
   "cell_type": "code",
   "execution_count": 30,
   "metadata": {
    "colab": {
     "base_uri": "https://localhost:8080/"
    },
    "id": "gp_Xv7TeLO-y",
    "outputId": "f9be25b9-972b-4500-9e47-f707f92c4369"
   },
   "outputs": [
    {
     "name": "stdout",
     "output_type": "stream",
     "text": [
      "1\n",
      "3\n",
      "5\n",
      "7\n",
      "9\n"
     ]
    }
   ],
   "source": [
    "# For loop, we can skip certain iteration based on condition\n",
    "\n",
    "for i in range(10):\n",
    "  if i % 2 == 0:\n",
    "    continue\n",
    "  print(i)"
   ]
  },
  {
   "cell_type": "code",
   "execution_count": 31,
   "metadata": {
    "colab": {
     "base_uri": "https://localhost:8080/"
    },
    "id": "yXFetIU7Ng_5",
    "outputId": "c713d06d-8227-4b0b-908c-8b68d20a19cd"
   },
   "outputs": [
    {
     "name": "stdout",
     "output_type": "stream",
     "text": [
      "e\n",
      "l\n",
      "l\n",
      "o\n"
     ]
    }
   ],
   "source": [
    "# print only lowercase letters from a string\n",
    "\n",
    "word = \"Hello123\"\n",
    "\n",
    "for char in word:\n",
    "  if not char.islower():\n",
    "    continue\n",
    "  print(char)"
   ]
  },
  {
   "cell_type": "code",
   "execution_count": 34,
   "metadata": {
    "colab": {
     "base_uri": "https://localhost:8080/"
    },
    "id": "8tUiYHjuOZfw",
    "outputId": "52eea4f2-c70c-4b2b-d918-02d130e944e3"
   },
   "outputs": [
    {
     "name": "stdout",
     "output_type": "stream",
     "text": [
      "e\n",
      "l\n",
      "l\n",
      "o\n",
      "1\n",
      "2\n",
      "3\n"
     ]
    }
   ],
   "source": [
    "\n",
    "word = \"Hello123\"\n",
    "\n",
    "for char in word:\n",
    "  if char.isupper():\n",
    "    continue\n",
    "  print(char)"
   ]
  },
  {
   "cell_type": "code",
   "execution_count": 1,
   "metadata": {
    "colab": {
     "base_uri": "https://localhost:8080/"
    },
    "id": "q_FAN4DnPHdK",
    "outputId": "560aea3a-3faa-4d9b-c672-0afd5412c422"
   },
   "outputs": [
    {
     "name": "stdout",
     "output_type": "stream",
     "text": [
      "1\n",
      "2\n",
      "4\n",
      "5\n",
      "7\n",
      "8\n",
      "10\n",
      "11\n",
      "13\n",
      "14\n",
      "16\n",
      "17\n",
      "19\n",
      "20\n"
     ]
    }
   ],
   "source": [
    "# For while loop, the continue statement can be used to skip certain iterations based on a condition\n",
    "\n",
    "# skip multiples of 3 in a while loop\n",
    "\n",
    "num = 0\n",
    "\n",
    "while num < 20:\n",
    "  num +=1\n",
    "  if num % 3 == 0:\n",
    "    continue\n",
    "  print(num)"
   ]
  },
  {
   "cell_type": "code",
   "execution_count": 3,
   "metadata": {},
   "outputs": [
    {
     "name": "stdout",
     "output_type": "stream",
     "text": [
      "i\n",
      "i\n",
      "o\n",
      "o\n",
      "o\n",
      "e\n",
      "o\n",
      "o\n"
     ]
    }
   ],
   "source": [
    "# Print vowels in a string using a while loop\n",
    "\n",
    "v = 'it is good to be good'\n",
    "index = 0\n",
    "\n",
    "while index < len(v):\n",
    "    if v[index] not in 'aeiou':\n",
    "        index +=1\n",
    "        continue\n",
    "    print(v[index])\n",
    "    index +=1"
   ]
  },
  {
   "cell_type": "markdown",
   "metadata": {},
   "source": [
    "- **Input Function**: it is an inbuilt function in Python that allows the user to enter input values from the keyboard."
   ]
  },
  {
   "cell_type": "code",
   "execution_count": 4,
   "metadata": {},
   "outputs": [
    {
     "name": "stdout",
     "output_type": "stream",
     "text": [
      "what is your name?: Daniel\n",
      "Hello, Daniel!\n"
     ]
    }
   ],
   "source": [
    "name = input(\"what is your name?: \")\n",
    "print(\"Hello, \" + name + \"!\")"
   ]
  },
  {
   "cell_type": "code",
   "execution_count": 7,
   "metadata": {},
   "outputs": [
    {
     "name": "stdout",
     "output_type": "stream",
     "text": [
      "Please enter your last name: Ayomide\n",
      "Please enter your first name: Ayo\n",
      "How old are you?: 45\n",
      "What is your current account balance?: 67000\n",
      "What is the amount of items purchased?: 3400\n",
      "What is the tax rate in your country?: 0.08\n",
      "How much is your tax amount?: 5600\n",
      ".......................................................................\n",
      "Thank you for your time\n"
     ]
    }
   ],
   "source": [
    "last_name = str(input(\"Please enter your last name: \"))\n",
    "first_name = str(input(\"Please enter your first name: \"))\n",
    "age = int(input(\"How old are you?: \"))\n",
    "account_balance = float(input(\"What is your current account balance?: \"))\n",
    "amount_purchased = float(input(\"What is the amount of items purchased?: \"))\n",
    "tax_rate = float(input(\"What is the tax rate in your country?: \"))\n",
    "tax_amount = float(input(\"How much is your tax amount?: \"))\n",
    "\n",
    "print(\".......................................................................\")\n",
    "print(\"Thank you for your time\")"
   ]
  },
  {
   "cell_type": "code",
   "execution_count": 9,
   "metadata": {},
   "outputs": [
    {
     "name": "stdout",
     "output_type": "stream",
     "text": [
      "What is your name?: Segun\n",
      "Welcome to the class\n",
      "Are you ready for class?: Yes\n",
      "Thank you Segun, and have a blessed day\n"
     ]
    }
   ],
   "source": [
    "name = input(\"What is your name?: \")\n",
    "initial_name = name\n",
    "\n",
    "while name == \"Segun\":\n",
    "    print(\"Welcome to the class\")\n",
    "    name = input(\"Are you ready for class?: \")\n",
    "    print(f\"Thank you {initial_name}, and have a blessed day\")"
   ]
  },
  {
   "cell_type": "code",
   "execution_count": 14,
   "metadata": {},
   "outputs": [
    {
     "name": "stdout",
     "output_type": "stream",
     "text": [
      "Enter a number: 2\n",
      "Enter a number: 3\n",
      "Enter a number: 4\n",
      "Enter a number: 1\n",
      "Enter a number: -2\n",
      "You have entered a negative number: -2\n"
     ]
    }
   ],
   "source": [
    "while True:\n",
    "    user_input = int(input(\"Enter a number: \"))\n",
    "    if user_input < 0:\n",
    "        break\n",
    "print(f\"You have entered a negative number: {user_input}\")"
   ]
  },
  {
   "cell_type": "markdown",
   "metadata": {},
   "source": [
    "## User-defined Functions\n",
    "- it is the function that we define ourselves to perform a specific task. The format for defining a function is below:\n",
    "\n",
    "def function_name(parameter):\n",
    "\n",
    "    \"\"you write what the function is doing\"\"\n",
    "    \n",
    "    statement(s)\n",
    "    \n",
    "    return [expression]"
   ]
  },
  {
   "cell_type": "code",
   "execution_count": 22,
   "metadata": {},
   "outputs": [],
   "source": [
    "fruits = ('apple', 'banana', 'cherry', 'strawberry')\n",
    "\n",
    "def myfunc(x):\n",
    "    '''it is to return the number of characters in my sequence or iterable'''\n",
    "    \n",
    "    return len(x)\n"
   ]
  },
  {
   "cell_type": "code",
   "execution_count": 26,
   "metadata": {},
   "outputs": [
    {
     "data": {
      "text/plain": [
       "6"
      ]
     },
     "execution_count": 26,
     "metadata": {},
     "output_type": "execute_result"
    }
   ],
   "source": [
    "myfunc(\"orange\")"
   ]
  },
  {
   "cell_type": "code",
   "execution_count": 27,
   "metadata": {},
   "outputs": [
    {
     "name": "stdout",
     "output_type": "stream",
     "text": [
      "[5, 6, 6, 10]\n"
     ]
    }
   ],
   "source": [
    "f_map = map(myfunc, fruits) # it take in two arguments; dependent variable, and the iterable\n",
    "print(list(f_map))"
   ]
  },
  {
   "cell_type": "code",
   "execution_count": 28,
   "metadata": {},
   "outputs": [
    {
     "name": "stdout",
     "output_type": "stream",
     "text": [
      "[5, 7, 13, 15, 19, 23, 27]\n"
     ]
    }
   ],
   "source": [
    "my_list = [1, 2, 5, 6, 8, 10, 12]\n",
    "\n",
    "def sequence(x):\n",
    "    '''it is to return the sequence of numbers based on a pattern'''\n",
    "    num = 2*x + 3\n",
    "    return num\n",
    "\n",
    "se_map = map(sequence, my_list)\n",
    "print(list(se_map))"
   ]
  },
  {
   "cell_type": "code",
   "execution_count": 32,
   "metadata": {},
   "outputs": [
    {
     "name": "stdout",
     "output_type": "stream",
     "text": [
      "[2, 4, 6, 8, 10]\n"
     ]
    }
   ],
   "source": [
    "numbers = [1, 2, 3, 4, 5, 6, 7, 8, 9, 10]\n",
    "\n",
    "def is_even(n):\n",
    "    '''it is to return even numbers'''\n",
    "    return n % 2 == 0\n",
    "\n",
    "even_num = filter(is_even, numbers) # it take in two arguments; dependent variable, and the iterable\n",
    "print(list(even_num))"
   ]
  },
  {
   "cell_type": "code",
   "execution_count": 34,
   "metadata": {},
   "outputs": [
    {
     "name": "stdout",
     "output_type": "stream",
     "text": [
      "['apple', 'miracle', 'collection', 'information', 'glass']\n"
     ]
    }
   ],
   "source": [
    "words = ['apple', 'miracle', 'collection', 'information', 'shut', 'glass', 'cat']\n",
    "\n",
    "def is_len(y):\n",
    "    '''it is to return the number of character greater than 5 in our iterable'''\n",
    "    return len(y) >= 5\n",
    "\n",
    "len_filter = filter(is_len, words)\n",
    "print(list(len_filter))"
   ]
  },
  {
   "cell_type": "code",
   "execution_count": 35,
   "metadata": {},
   "outputs": [
    {
     "name": "stdout",
     "output_type": "stream",
     "text": [
      "['apple', 'miracle', 'shut', 'glass', 'cat']\n"
     ]
    }
   ],
   "source": [
    "words = ['apple', 'miracle', 'collection', 'information', 'shut', 'glass', 'cat']\n",
    "\n",
    "def is_len(y):\n",
    "    '''it is to return the number of character greater than 5 in our iterable'''\n",
    "    return len(y) <= 5 or len(y) <=7\n",
    "\n",
    "len_filter = filter(is_len, words)\n",
    "print(list(len_filter))"
   ]
  },
  {
   "cell_type": "code",
   "execution_count": 36,
   "metadata": {},
   "outputs": [
    {
     "name": "stdout",
     "output_type": "stream",
     "text": [
      "['apple', 'miracle', 'glass']\n"
     ]
    }
   ],
   "source": [
    "words = ['apple', 'miracle', 'collection', 'information', 'shut', 'glass', 'cat']\n",
    "\n",
    "def is_len(y):\n",
    "    '''it is to return the number of character greater than 5 in our iterable'''\n",
    "    return len(y) >= 5 and len(y) <=7\n",
    "\n",
    "len_filter = filter(is_len, words)\n",
    "print(list(len_filter))"
   ]
  },
  {
   "cell_type": "code",
   "execution_count": 37,
   "metadata": {},
   "outputs": [
    {
     "name": "stdout",
     "output_type": "stream",
     "text": [
      "['failed', 'grade A', 'grade D', 'failed', 'grade B', 'grade B', 'grade A', 'grade A']\n"
     ]
    }
   ],
   "source": [
    "# Building a grading system using conditional statement\n",
    "score = [35, 72, 45, 20, 63, 60, 89, 99]\n",
    "\n",
    "def grade(x):\n",
    "    '''it will return student grade based on their score'''\n",
    "    if x >=70:\n",
    "        result = 'grade A'\n",
    "    elif x >=60:\n",
    "        result = 'grade B'\n",
    "    elif x >=50:\n",
    "        result = 'grade C'\n",
    "    elif x >=40:\n",
    "        result = 'grade D'\n",
    "    else:\n",
    "        result = 'failed'\n",
    "        \n",
    "    return result\n",
    "\n",
    "grade_system = map(grade, score)\n",
    "print(list(grade_system))"
   ]
  },
  {
   "cell_type": "markdown",
   "metadata": {},
   "source": [
    "# Lambda Expression\n",
    "- it is a small unknown function that can take any number of arguments but return only one expression as output."
   ]
  },
  {
   "cell_type": "code",
   "execution_count": 38,
   "metadata": {},
   "outputs": [
    {
     "data": {
      "text/plain": [
       "4"
      ]
     },
     "execution_count": 38,
     "metadata": {},
     "output_type": "execute_result"
    }
   ],
   "source": [
    "double = lambda x: x*2\n",
    "double(2)"
   ]
  },
  {
   "cell_type": "code",
   "execution_count": 41,
   "metadata": {},
   "outputs": [
    {
     "data": {
      "text/plain": [
       "9"
      ]
     },
     "execution_count": 41,
     "metadata": {},
     "output_type": "execute_result"
    }
   ],
   "source": [
    "triple = lambda x,y,z: 2*x + 3*y - z\n",
    "triple(1, 2, -1)"
   ]
  },
  {
   "cell_type": "code",
   "execution_count": 42,
   "metadata": {},
   "outputs": [
    {
     "name": "stdout",
     "output_type": "stream",
     "text": [
      "Help on built-in function sorted in module builtins:\n",
      "\n",
      "sorted(iterable, /, *, key=None, reverse=False)\n",
      "    Return a new list containing all items from the iterable in ascending order.\n",
      "    \n",
      "    A custom key function can be supplied to customize the sort order, and the\n",
      "    reverse flag can be set to request the result in descending order.\n",
      "\n"
     ]
    }
   ],
   "source": [
    "help(sorted)"
   ]
  },
  {
   "cell_type": "code",
   "execution_count": 45,
   "metadata": {},
   "outputs": [
    {
     "name": "stdout",
     "output_type": "stream",
     "text": [
      "[('Charlie', 78), ('Alice', 85), ('David', 90), ('Bob', 92)]\n"
     ]
    }
   ],
   "source": [
    "students = [(\"Alice\", 85), (\"Bob\", 92), (\"Charlie\", 78), (\"David\", 90)]\n",
    "\n",
    "# sort the list using lambda expression\n",
    "sorted_students = sorted(students, key = lambda x: x[1], reverse = False) # key is a parameter that extract the value to be used for sorting\n",
    "print(sorted_students)"
   ]
  },
  {
   "cell_type": "code",
   "execution_count": 47,
   "metadata": {},
   "outputs": [
    {
     "name": "stdout",
     "output_type": "stream",
     "text": [
      "[1, 2]\n"
     ]
    }
   ],
   "source": [
    "numbers = [-2, -1, 0, 1, 2]\n",
    "'''to filter out positive numbers from our iterable'''\n",
    "positive_num = filter(lambda x: x>0, numbers)\n",
    "print(list(positive_num))"
   ]
  },
  {
   "cell_type": "code",
   "execution_count": 48,
   "metadata": {},
   "outputs": [
    {
     "name": "stdout",
     "output_type": "stream",
     "text": [
      "[32.0, 59.0, 77.0, 95.0, 122.0, 149.0]\n"
     ]
    }
   ],
   "source": [
    "celsius = [0, 15, 25, 35, 50, 65]\n",
    "\n",
    "# convert the degree celsius to fahrenheit\n",
    "fahrenheit = map(lambda x: (9/5)*x + 32, celsius)\n",
    "print(list(fahrenheit))"
   ]
  },
  {
   "cell_type": "code",
   "execution_count": null,
   "metadata": {},
   "outputs": [],
   "source": []
  }
 ],
 "metadata": {
  "colab": {
   "provenance": []
  },
  "kernelspec": {
   "display_name": "Python 3 (ipykernel)",
   "language": "python",
   "name": "python3"
  },
  "language_info": {
   "codemirror_mode": {
    "name": "ipython",
    "version": 3
   },
   "file_extension": ".py",
   "mimetype": "text/x-python",
   "name": "python",
   "nbconvert_exporter": "python",
   "pygments_lexer": "ipython3",
   "version": "3.9.12"
  }
 },
 "nbformat": 4,
 "nbformat_minor": 1
}
