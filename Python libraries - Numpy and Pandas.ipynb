{
 "cells": [
  {
   "cell_type": "markdown",
   "id": "32a93a79",
   "metadata": {},
   "source": [
    "# Python Libraries\n",
    "- Python packages are collections of Python modules, Python libraries are pre-written code that you can use in your Python programs, and pip is the package manager that allows you to install and manage these libraries and packages.\n",
    "1. **Python Package:**\n",
    "   - A Python package is a collection of Python modules organized in a directory structure.\n",
    "   - Packages allow you to group related Python modules together, making it easier to manage and distribute your code.\n",
    "   - Packages help in organizing your code and promoting code reuse across different projects.\n",
    "   - When you install a Python package, it typically includes multiple modules that you can import and use in your Python scripts.\n",
    "\n",
    "2. **Python Libraries:**\n",
    "   - Python libraries are collections of pre-written code that you can use in your own Python programs.\n",
    "   - Some of the popular Python libraries include:\n",
    "     - NumPy: A library for working with arrays, matrices, and mathematical functions.\n",
    "     - Pandas: A library for data manipulation and analysis, providing data structures like DataFrames and Series.\n",
    "     - Matplotlib: A plotting library for creating static, animated, and interactive visualizations in Python.\n",
    "     - Seaborn: A data visualization library built on top of Matplotlib, providing a high-level interface for drawing attractive and informative statistical graphics.\n",
    "   - These libraries provide a wide range of functionality, allowing you to focus on solving your specific problem instead of reinventing the wheel.\n",
    "   - By using these libraries, you can save time and effort, as they provide tested and optimized implementations of common tasks and algorithms.\n",
    "\n",
    "3. **pip (Pip Installs Packages):**\n",
    "   - pip is the standard package manager for Python.\n",
    "   - It is used to install, upgrade, and remove Python packages and their dependencies.\n",
    "   - When you need to use a Python library or package in your project, you can install it using pip.\n",
    "   - The command to install a package using pip is: \n",
    "     ```\n",
    "     pip install package_name\n",
    "     ```\n",
    "   - pip makes it easy to manage and distribute Python packages, ensuring that you have the necessary dependencies installed for your project to run smoothly."
   ]
  },
  {
   "cell_type": "markdown",
   "id": "cfb5657f",
   "metadata": {},
   "source": [
    "# Numpy"
   ]
  },
  {
   "cell_type": "code",
   "execution_count": 1,
   "id": "b2d10d22",
   "metadata": {},
   "outputs": [],
   "source": [
    "import numpy as np"
   ]
  },
  {
   "cell_type": "code",
   "execution_count": 2,
   "id": "a5ba0034",
   "metadata": {},
   "outputs": [
    {
     "name": "stdout",
     "output_type": "stream",
     "text": [
      "[1 2 3 4 5 6 7]\n"
     ]
    }
   ],
   "source": [
    "list1 = [1, 2, 3, 4, 5, 6, 7]\n",
    "\n",
    "arr = np.array(list1) # .array() is a method in numpy that takes in a scalar or nexted sequence(list)\n",
    "print(arr)"
   ]
  },
  {
   "cell_type": "code",
   "execution_count": 3,
   "id": "a403a92d",
   "metadata": {},
   "outputs": [
    {
     "data": {
      "text/plain": [
       "numpy.ndarray"
      ]
     },
     "execution_count": 3,
     "metadata": {},
     "output_type": "execute_result"
    }
   ],
   "source": [
    "type(arr)"
   ]
  },
  {
   "cell_type": "markdown",
   "id": "daa3c124",
   "metadata": {},
   "source": [
    "# Shape, Attribute, and Method:\n",
    "- shape: it gives the number of rows and columns in an array or dataframe. \n",
    "- attribute: it gives the metadata information about an object or variable, and it doesn't has bracket. e.g: .shape, .dtypes, .columns, .index, etc.\n",
    "- method: it is a function associated with object, and it has bracket. e.g: .append(), .index(), .capitalize(), .replace(), etc."
   ]
  },
  {
   "cell_type": "code",
   "execution_count": 4,
   "id": "54088d6d",
   "metadata": {},
   "outputs": [
    {
     "name": "stdout",
     "output_type": "stream",
     "text": [
      "[[1 2 3]\n",
      " [4 5 6]]\n"
     ]
    }
   ],
   "source": [
    "arr1 = np.array([[1, 2, 3], [4, 5, 6]])\n",
    "print(arr1)"
   ]
  },
  {
   "cell_type": "code",
   "execution_count": 5,
   "id": "0c0f6e2b",
   "metadata": {},
   "outputs": [
    {
     "data": {
      "text/plain": [
       "numpy.ndarray"
      ]
     },
     "execution_count": 5,
     "metadata": {},
     "output_type": "execute_result"
    }
   ],
   "source": [
    "type(arr1)"
   ]
  },
  {
   "cell_type": "code",
   "execution_count": 6,
   "id": "0f43169d",
   "metadata": {},
   "outputs": [
    {
     "data": {
      "text/plain": [
       "(2, 3)"
      ]
     },
     "execution_count": 6,
     "metadata": {},
     "output_type": "execute_result"
    }
   ],
   "source": [
    "# confirm the shape\n",
    "arr1.shape"
   ]
  },
  {
   "cell_type": "code",
   "execution_count": 7,
   "id": "d7eda4b1",
   "metadata": {},
   "outputs": [
    {
     "data": {
      "text/plain": [
       "(7,)"
      ]
     },
     "execution_count": 7,
     "metadata": {},
     "output_type": "execute_result"
    }
   ],
   "source": [
    "arr.shape"
   ]
  },
  {
   "cell_type": "code",
   "execution_count": 8,
   "id": "048b380b",
   "metadata": {},
   "outputs": [
    {
     "data": {
      "text/plain": [
       "6"
      ]
     },
     "execution_count": 8,
     "metadata": {},
     "output_type": "execute_result"
    }
   ],
   "source": [
    "# .size: it is the product of rows and columns\n",
    "arr1.size"
   ]
  },
  {
   "cell_type": "code",
   "execution_count": 9,
   "id": "480ecc77",
   "metadata": {},
   "outputs": [
    {
     "data": {
      "text/plain": [
       "7"
      ]
     },
     "execution_count": 9,
     "metadata": {},
     "output_type": "execute_result"
    }
   ],
   "source": [
    "arr.size"
   ]
  },
  {
   "cell_type": "code",
   "execution_count": 10,
   "id": "cf452253",
   "metadata": {},
   "outputs": [
    {
     "data": {
      "text/plain": [
       "array([  0.,  20.,  40.,  60.,  80., 100.])"
      ]
     },
     "execution_count": 10,
     "metadata": {},
     "output_type": "execute_result"
    }
   ],
   "source": [
    "# .linspace(): it is an inbuilt method that create sequence of evenly space array of numbers.\n",
    "\n",
    "np.linspace(0, 100, 6)"
   ]
  },
  {
   "cell_type": "code",
   "execution_count": 11,
   "id": "3362d327",
   "metadata": {},
   "outputs": [
    {
     "data": {
      "text/plain": [
       "array([ 1.,  2.,  3.,  4.,  5.,  6.,  7.,  8.,  9., 10.])"
      ]
     },
     "execution_count": 11,
     "metadata": {},
     "output_type": "execute_result"
    }
   ],
   "source": [
    "# Generating two arrays using linspace.\n",
    "array1 = np.linspace(1, 10, 10)\n",
    "array1"
   ]
  },
  {
   "cell_type": "code",
   "execution_count": 12,
   "id": "55c70f27",
   "metadata": {},
   "outputs": [
    {
     "data": {
      "text/plain": [
       "array([11., 12., 13., 14., 15., 16., 17., 18., 19., 20.])"
      ]
     },
     "execution_count": 12,
     "metadata": {},
     "output_type": "execute_result"
    }
   ],
   "source": [
    "array2 = np.linspace(11, 20, 10)\n",
    "array2"
   ]
  },
  {
   "cell_type": "code",
   "execution_count": 13,
   "id": "d35df046",
   "metadata": {},
   "outputs": [
    {
     "name": "stdout",
     "output_type": "stream",
     "text": [
      "[12. 14. 16. 18. 20. 22. 24. 26. 28. 30.]\n"
     ]
    }
   ],
   "source": [
    "# adding the two arrays element-wise\n",
    "result_addition = array1 + array2\n",
    "print(result_addition)"
   ]
  },
  {
   "cell_type": "code",
   "execution_count": 14,
   "id": "0fcd97ef",
   "metadata": {},
   "outputs": [
    {
     "name": "stdout",
     "output_type": "stream",
     "text": [
      "[10. 10. 10. 10. 10. 10. 10. 10. 10. 10.]\n"
     ]
    }
   ],
   "source": [
    "# subtracting the two arrays element-wise\n",
    "result_subtract = array2 - array1\n",
    "print(result_subtract)"
   ]
  },
  {
   "cell_type": "code",
   "execution_count": 15,
   "id": "e32f54e1",
   "metadata": {},
   "outputs": [
    {
     "name": "stdout",
     "output_type": "stream",
     "text": [
      "[ 11.  24.  39.  56.  75.  96. 119. 144. 171. 200.]\n"
     ]
    }
   ],
   "source": [
    "# multiplying the two arrays element-wise\n",
    "result_product = array1 * array2\n",
    "print(result_product)"
   ]
  },
  {
   "cell_type": "markdown",
   "id": "3218eff3",
   "metadata": {},
   "source": [
    "# Random \n",
    "- **We can randomly generate numbers using numpy**\n",
    "\n",
    ".random() is a  method that works with other numpy methods like .rand(), .randn(), and .randint() to generate numbers.\n",
    "\n",
    "1. rand(): it is an inbuilt method in numpy that returns float numbers between 0 and 1.\n",
    "2. randn(): it is an inbuilt method that create an array of specified shape and fills it with random values as per standard normal distribution.\n",
    "3. randint(): it returns an integer number selected element from the specified range."
   ]
  },
  {
   "cell_type": "code",
   "execution_count": 16,
   "id": "4a0f1812",
   "metadata": {},
   "outputs": [
    {
     "data": {
      "text/plain": [
       "array([0.83835488, 0.76704524, 0.11698191, 0.96207912, 0.78922517,\n",
       "       0.51555846, 0.78558096, 0.08776907, 0.9686308 , 0.5548911 ])"
      ]
     },
     "execution_count": 16,
     "metadata": {},
     "output_type": "execute_result"
    }
   ],
   "source": [
    "np.random.rand(10) # ==> 10 float numbers between 0 and 1"
   ]
  },
  {
   "cell_type": "code",
   "execution_count": 17,
   "id": "cbac6a34",
   "metadata": {},
   "outputs": [
    {
     "data": {
      "text/plain": [
       "array([-0.83587582, -1.78307044,  2.15633562, -1.3030549 ,  0.76997243,\n",
       "       -0.63395337,  1.15690521,  1.12610155, -1.45217809,  0.56881951])"
      ]
     },
     "execution_count": 17,
     "metadata": {},
     "output_type": "execute_result"
    }
   ],
   "source": [
    "np.random.randn(10) # ==> 10 numbers that will take the shape of a normal distribution"
   ]
  },
  {
   "cell_type": "code",
   "execution_count": 18,
   "id": "74ab27d6",
   "metadata": {},
   "outputs": [
    {
     "data": {
      "text/plain": [
       "array([[ 0.39928388, -1.16606504,  1.16979824, -1.17134687,  0.34974722],\n",
       "       [-0.72488792,  1.40678679, -1.40285592,  0.95511291, -0.73648343],\n",
       "       [ 0.96958969,  0.67407221, -1.60223188, -0.53723079, -0.77876365],\n",
       "       [ 0.65199849, -0.82152914, -1.02073439,  0.17189349, -0.72992158],\n",
       "       [-1.48588873, -1.21569173,  0.11979128, -0.6225854 , -0.81984021],\n",
       "       [-0.68795152, -0.83860015,  0.32593607, -0.55586883,  0.15597766],\n",
       "       [-0.76439344, -0.03955543,  1.65884424, -0.29785051, -0.24031881],\n",
       "       [-2.02199937,  0.07152361, -0.20469595, -0.67660906,  1.69288321],\n",
       "       [ 1.21999221,  0.20420898,  0.42225762, -0.74397204, -0.22737031],\n",
       "       [-0.94434428,  0.73709916,  1.09959204, -0.31633197, -0.28856125]])"
      ]
     },
     "execution_count": 18,
     "metadata": {},
     "output_type": "execute_result"
    }
   ],
   "source": [
    "np.random.randn(10, 5)"
   ]
  },
  {
   "cell_type": "code",
   "execution_count": 19,
   "id": "74ddf368",
   "metadata": {},
   "outputs": [
    {
     "data": {
      "text/plain": [
       "1"
      ]
     },
     "execution_count": 19,
     "metadata": {},
     "output_type": "execute_result"
    }
   ],
   "source": [
    "np.random.randint(10) # ==>  at a time it generate an integer numnber between 0 and 10 inclusive"
   ]
  },
  {
   "cell_type": "code",
   "execution_count": 20,
   "id": "d7f5b66d",
   "metadata": {},
   "outputs": [
    {
     "data": {
      "text/plain": [
       "(10, 5)"
      ]
     },
     "execution_count": 20,
     "metadata": {},
     "output_type": "execute_result"
    }
   ],
   "source": [
    "np.random.randn(10, 5).shape"
   ]
  },
  {
   "cell_type": "markdown",
   "id": "6a02f5ef",
   "metadata": {},
   "source": [
    "# Indexing and slicing in Numpy"
   ]
  },
  {
   "cell_type": "code",
   "execution_count": 21,
   "id": "7053b404",
   "metadata": {},
   "outputs": [
    {
     "name": "stdout",
     "output_type": "stream",
     "text": [
      "[[1 2 3]\n",
      " [4 5 6]]\n"
     ]
    }
   ],
   "source": [
    "print(arr1)"
   ]
  },
  {
   "cell_type": "code",
   "execution_count": 22,
   "id": "675d35bf",
   "metadata": {},
   "outputs": [
    {
     "data": {
      "text/plain": [
       "array([1, 2, 3])"
      ]
     },
     "execution_count": 22,
     "metadata": {},
     "output_type": "execute_result"
    }
   ],
   "source": [
    "arr1[0] # considering the rows when you have a single value in your []"
   ]
  },
  {
   "cell_type": "code",
   "execution_count": 23,
   "id": "075deeed",
   "metadata": {},
   "outputs": [
    {
     "data": {
      "text/plain": [
       "array([4, 5, 6])"
      ]
     },
     "execution_count": 23,
     "metadata": {},
     "output_type": "execute_result"
    }
   ],
   "source": [
    "arr1[1]"
   ]
  },
  {
   "cell_type": "code",
   "execution_count": 24,
   "id": "a969b4c9",
   "metadata": {},
   "outputs": [
    {
     "data": {
      "text/plain": [
       "array([[4, 5, 6]])"
      ]
     },
     "execution_count": 24,
     "metadata": {},
     "output_type": "execute_result"
    }
   ],
   "source": [
    "arr1[1:,]"
   ]
  },
  {
   "cell_type": "code",
   "execution_count": 25,
   "id": "254103c3",
   "metadata": {},
   "outputs": [
    {
     "data": {
      "text/plain": [
       "array([2, 5])"
      ]
     },
     "execution_count": 25,
     "metadata": {},
     "output_type": "execute_result"
    }
   ],
   "source": [
    "arr1[:,1] # considering the columns when you have :, and a single value in your [] i.e [:, value]"
   ]
  },
  {
   "cell_type": "code",
   "execution_count": 26,
   "id": "2a06276c",
   "metadata": {},
   "outputs": [
    {
     "name": "stdout",
     "output_type": "stream",
     "text": [
      "[[1 2 3]\n",
      " [4 5 6]\n",
      " [7 8 9]\n",
      " [5 3 8]]\n"
     ]
    }
   ],
   "source": [
    "arr2 = np.array([[1, 2, 3], [4, 5, 6], [7, 8, 9], [5, 3, 8]])\n",
    "print(arr2)"
   ]
  },
  {
   "cell_type": "code",
   "execution_count": 27,
   "id": "acbdf7a7",
   "metadata": {},
   "outputs": [
    {
     "data": {
      "text/plain": [
       "(4, 3)"
      ]
     },
     "execution_count": 27,
     "metadata": {},
     "output_type": "execute_result"
    }
   ],
   "source": [
    "# shape\n",
    "arr2.shape"
   ]
  },
  {
   "cell_type": "code",
   "execution_count": 28,
   "id": "173b3de7",
   "metadata": {},
   "outputs": [
    {
     "data": {
      "text/plain": [
       "array([[7, 8, 9],\n",
       "       [5, 3, 8]])"
      ]
     },
     "execution_count": 28,
     "metadata": {},
     "output_type": "execute_result"
    }
   ],
   "source": [
    "# arr2[start:, end]\n",
    "arr2[2:, ]"
   ]
  },
  {
   "cell_type": "code",
   "execution_count": 29,
   "id": "2aa1a6ea",
   "metadata": {},
   "outputs": [
    {
     "data": {
      "text/plain": [
       "array([3, 6, 9, 8])"
      ]
     },
     "execution_count": 29,
     "metadata": {},
     "output_type": "execute_result"
    }
   ],
   "source": [
    "arr2[:, 2]"
   ]
  },
  {
   "cell_type": "code",
   "execution_count": 30,
   "id": "e9f61dc0",
   "metadata": {},
   "outputs": [
    {
     "data": {
      "text/plain": [
       "array([6, 9, 8])"
      ]
     },
     "execution_count": 30,
     "metadata": {},
     "output_type": "execute_result"
    }
   ],
   "source": [
    "arr2[1:, 2]"
   ]
  },
  {
   "cell_type": "code",
   "execution_count": 31,
   "id": "7ca4cfe9",
   "metadata": {},
   "outputs": [
    {
     "data": {
      "text/plain": [
       "array([8, 3])"
      ]
     },
     "execution_count": 31,
     "metadata": {},
     "output_type": "execute_result"
    }
   ],
   "source": [
    "arr2[2:, 1]"
   ]
  },
  {
   "cell_type": "markdown",
   "id": "cc0660de",
   "metadata": {},
   "source": [
    "# Descriptive Statistics\n",
    "- Measure of central tendency (mean, media, and mode)\n",
    "- Measure of dispersion or variabilty (range, variance, standard deviation, interquartile)"
   ]
  },
  {
   "cell_type": "markdown",
   "id": "8807b9ed",
   "metadata": {},
   "source": [
    "### Measure of central tendency"
   ]
  },
  {
   "cell_type": "code",
   "execution_count": 32,
   "id": "6c88c28b",
   "metadata": {},
   "outputs": [
    {
     "name": "stdout",
     "output_type": "stream",
     "text": [
      "[[1 2 3]\n",
      " [4 5 6]\n",
      " [7 8 9]\n",
      " [5 3 8]]\n"
     ]
    }
   ],
   "source": [
    "# mean\n",
    "print(arr2)"
   ]
  },
  {
   "cell_type": "code",
   "execution_count": 33,
   "id": "4f8f71a3",
   "metadata": {},
   "outputs": [
    {
     "data": {
      "text/plain": [
       "5.083333333333333"
      ]
     },
     "execution_count": 33,
     "metadata": {},
     "output_type": "execute_result"
    }
   ],
   "source": [
    "np.mean(arr2)"
   ]
  },
  {
   "cell_type": "code",
   "execution_count": 34,
   "id": "a7a6935b",
   "metadata": {},
   "outputs": [
    {
     "data": {
      "text/plain": [
       "5.0"
      ]
     },
     "execution_count": 34,
     "metadata": {},
     "output_type": "execute_result"
    }
   ],
   "source": [
    "# median\n",
    "np.median(arr2)"
   ]
  },
  {
   "cell_type": "code",
   "execution_count": 35,
   "id": "68fbba9e",
   "metadata": {},
   "outputs": [
    {
     "ename": "AttributeError",
     "evalue": "module 'numpy' has no attribute 'mode'",
     "output_type": "error",
     "traceback": [
      "\u001b[1;31m---------------------------------------------------------------------------\u001b[0m",
      "\u001b[1;31mAttributeError\u001b[0m                            Traceback (most recent call last)",
      "Input \u001b[1;32mIn [35]\u001b[0m, in \u001b[0;36m<cell line: 1>\u001b[1;34m()\u001b[0m\n\u001b[1;32m----> 1\u001b[0m \u001b[43mnp\u001b[49m\u001b[38;5;241;43m.\u001b[39;49m\u001b[43mmode\u001b[49m(arr2)\n",
      "File \u001b[1;32m~\\AppData\\Roaming\\Python\\Python39\\site-packages\\numpy\\__init__.py:315\u001b[0m, in \u001b[0;36m__getattr__\u001b[1;34m(attr)\u001b[0m\n\u001b[0;32m    312\u001b[0m     \u001b[38;5;28;01mfrom\u001b[39;00m \u001b[38;5;21;01m.\u001b[39;00m\u001b[38;5;21;01mtesting\u001b[39;00m \u001b[38;5;28;01mimport\u001b[39;00m Tester\n\u001b[0;32m    313\u001b[0m     \u001b[38;5;28;01mreturn\u001b[39;00m Tester\n\u001b[1;32m--> 315\u001b[0m \u001b[38;5;28;01mraise\u001b[39;00m \u001b[38;5;167;01mAttributeError\u001b[39;00m(\u001b[38;5;124m\"\u001b[39m\u001b[38;5;124mmodule \u001b[39m\u001b[38;5;132;01m{!r}\u001b[39;00m\u001b[38;5;124m has no attribute \u001b[39m\u001b[38;5;124m\"\u001b[39m\n\u001b[0;32m    316\u001b[0m                      \u001b[38;5;124m\"\u001b[39m\u001b[38;5;132;01m{!r}\u001b[39;00m\u001b[38;5;124m\"\u001b[39m\u001b[38;5;241m.\u001b[39mformat(\u001b[38;5;18m__name__\u001b[39m, attr))\n",
      "\u001b[1;31mAttributeError\u001b[0m: module 'numpy' has no attribute 'mode'"
     ]
    }
   ],
   "source": [
    "np.mode(arr2)"
   ]
  },
  {
   "cell_type": "code",
   "execution_count": 36,
   "id": "880a3a90",
   "metadata": {},
   "outputs": [
    {
     "name": "stdout",
     "output_type": "stream",
     "text": [
      "[1 1 2 1 2 1 1 2 1]\n"
     ]
    }
   ],
   "source": [
    "values, counts = np.unique(arr2, return_counts = True)\n",
    "print(counts)"
   ]
  },
  {
   "cell_type": "code",
   "execution_count": 37,
   "id": "a46ac887",
   "metadata": {},
   "outputs": [
    {
     "name": "stdout",
     "output_type": "stream",
     "text": [
      "3\n"
     ]
    }
   ],
   "source": [
    "mode = values[np.argmax(counts)]\n",
    "print(mode)"
   ]
  },
  {
   "cell_type": "markdown",
   "id": "2a366d2b",
   "metadata": {},
   "source": [
    "## Measure of Variability"
   ]
  },
  {
   "cell_type": "code",
   "execution_count": 38,
   "id": "48e25f13",
   "metadata": {},
   "outputs": [
    {
     "name": "stdout",
     "output_type": "stream",
     "text": [
      "[[1 2 3]\n",
      " [4 5 6]\n",
      " [7 8 9]\n",
      " [5 3 8]]\n"
     ]
    }
   ],
   "source": [
    "print(arr2)"
   ]
  },
  {
   "cell_type": "code",
   "execution_count": 39,
   "id": "ccfcf5a2",
   "metadata": {},
   "outputs": [
    {
     "data": {
      "text/plain": [
       "8"
      ]
     },
     "execution_count": 39,
     "metadata": {},
     "output_type": "execute_result"
    }
   ],
   "source": [
    "# range of arr2\n",
    "np.ptp(arr2)"
   ]
  },
  {
   "cell_type": "code",
   "execution_count": 40,
   "id": "d192f26f",
   "metadata": {},
   "outputs": [
    {
     "data": {
      "text/plain": [
       "6.076388888888888"
      ]
     },
     "execution_count": 40,
     "metadata": {},
     "output_type": "execute_result"
    }
   ],
   "source": [
    "# variance of arr2\n",
    "np.var(arr2)"
   ]
  },
  {
   "cell_type": "code",
   "execution_count": 41,
   "id": "e02349f0",
   "metadata": {},
   "outputs": [
    {
     "data": {
      "text/plain": [
       "2"
      ]
     },
     "execution_count": 41,
     "metadata": {},
     "output_type": "execute_result"
    }
   ],
   "source": [
    "# standard deviation of arr2\n",
    "np.std(arr2, dtype = int)"
   ]
  },
  {
   "cell_type": "markdown",
   "id": "058130f5",
   "metadata": {},
   "source": [
    "# Pandas\n",
    "- Series ==> 1 dimension\n",
    "\n",
    "- DataFrame ===> 2 dimension"
   ]
  },
  {
   "cell_type": "code",
   "execution_count": 42,
   "id": "2575f8ba",
   "metadata": {},
   "outputs": [],
   "source": [
    "import pandas as pd"
   ]
  },
  {
   "cell_type": "code",
   "execution_count": 43,
   "id": "4641c217",
   "metadata": {},
   "outputs": [],
   "source": [
    "# pd.Series() ===> (index, data)\n",
    "    \n",
    "# pd.DataFrame() ===> (series or index, row, column)"
   ]
  },
  {
   "cell_type": "code",
   "execution_count": 44,
   "id": "c247da29",
   "metadata": {},
   "outputs": [
    {
     "name": "stdout",
     "output_type": "stream",
     "text": [
      "0     4\n",
      "1    11\n",
      "2    20\n",
      "3    34\n",
      "4    80\n",
      "5    16\n",
      "6    20\n",
      "dtype: int64\n"
     ]
    }
   ],
   "source": [
    "age = [4, 11, 20, 34, 80, 16, 20]\n",
    "\n",
    "age_series = pd.Series(age)\n",
    "print(age_series)"
   ]
  },
  {
   "cell_type": "code",
   "execution_count": 45,
   "id": "410a460a",
   "metadata": {},
   "outputs": [
    {
     "data": {
      "text/plain": [
       "pandas.core.series.Series"
      ]
     },
     "execution_count": 45,
     "metadata": {},
     "output_type": "execute_result"
    }
   ],
   "source": [
    "type(age_series)"
   ]
  },
  {
   "cell_type": "code",
   "execution_count": 46,
   "id": "6730871f",
   "metadata": {},
   "outputs": [
    {
     "name": "stdout",
     "output_type": "stream",
     "text": [
      "0         Toyota\n",
      "1          Lexus\n",
      "2          Honda\n",
      "3    Range Rover\n",
      "dtype: object\n"
     ]
    }
   ],
   "source": [
    "car = ['Toyota', 'Lexus', 'Honda', 'Range Rover']\n",
    "\n",
    "series_car = pd.Series(car)\n",
    "print(series_car)"
   ]
  },
  {
   "cell_type": "code",
   "execution_count": 47,
   "id": "44bf608f",
   "metadata": {},
   "outputs": [
    {
     "data": {
      "text/plain": [
       "pandas.core.series.Series"
      ]
     },
     "execution_count": 47,
     "metadata": {},
     "output_type": "execute_result"
    }
   ],
   "source": [
    "type(series_car)"
   ]
  },
  {
   "cell_type": "markdown",
   "id": "79601490",
   "metadata": {},
   "source": [
    "## Simple operations with Series\n",
    "- addition, subtraction, and multiplication\n",
    "\n",
    "`You can perform simple arithmetic operation if the series has the same number of index.`"
   ]
  },
  {
   "cell_type": "code",
   "execution_count": 48,
   "id": "a4da3e92",
   "metadata": {},
   "outputs": [
    {
     "name": "stdout",
     "output_type": "stream",
     "text": [
      "A    10\n",
      "B    14\n",
      "C    28\n",
      "D    43\n",
      "dtype: int64\n"
     ]
    }
   ],
   "source": [
    "# addition: it is the element-wise addition of series\n",
    "s1 = pd.Series([3, 4, 13, 19], index = ['A', 'B', 'C', 'D'])\n",
    "s2 = pd.Series([7, 10, 15, 24], index = ['A', 'B', 'C', 'D'])\n",
    "\n",
    "result = s1 + s2\n",
    "print(result)"
   ]
  },
  {
   "cell_type": "code",
   "execution_count": 49,
   "id": "18ba1bba",
   "metadata": {},
   "outputs": [
    {
     "name": "stdout",
     "output_type": "stream",
     "text": [
      "A    4\n",
      "B    6\n",
      "C    2\n",
      "D    5\n",
      "dtype: int64\n"
     ]
    }
   ],
   "source": [
    "# subtraction: it is the element-wise difference of series\n",
    "s1 = pd.Series([3, 4, 13, 19], index = ['A', 'B', 'C', 'D'])\n",
    "s2 = pd.Series([7, 10, 15, 24], index = ['A', 'B', 'C', 'D'])\n",
    "\n",
    "result = s2 - s1\n",
    "print(result)"
   ]
  },
  {
   "cell_type": "code",
   "execution_count": 50,
   "id": "ebfe8814",
   "metadata": {},
   "outputs": [
    {
     "name": "stdout",
     "output_type": "stream",
     "text": [
      "A     21.7\n",
      "B     40.0\n",
      "C    202.5\n",
      "D    460.8\n",
      "dtype: float64\n"
     ]
    }
   ],
   "source": [
    "# multiplication: it is the element-wise product of series\n",
    "price = pd.Series([3.1, 4.0, 13.5, 19.2], index = ['A', 'B', 'C', 'D'])\n",
    "quantity = pd.Series([7, 10, 15, 24], index = ['A', 'B', 'C', 'D'])\n",
    "\n",
    "revenue = price * quantity\n",
    "print(revenue)"
   ]
  },
  {
   "cell_type": "markdown",
   "id": "a454d1a5",
   "metadata": {},
   "source": [
    "# Concatenation: \n",
    "- we can also concatenate two series using the pd.concat() function. This will create a new Dataframe with the combined series."
   ]
  },
  {
   "cell_type": "code",
   "execution_count": 51,
   "id": "8d4d13e5",
   "metadata": {},
   "outputs": [
    {
     "name": "stdout",
     "output_type": "stream",
     "text": [
      "      0   1\n",
      "A   3.1   7\n",
      "B   4.0  10\n",
      "C  13.5  15\n",
      "D  19.2  24\n"
     ]
    }
   ],
   "source": [
    "price = pd.Series([3.1, 4.0, 13.5, 19.2], index = ['A', 'B', 'C', 'D'])\n",
    "quantity = pd.Series([7, 10, 15, 24], index = ['A', 'B', 'C', 'D'])\n",
    "\n",
    "result = pd.concat([price, quantity], axis = 1)\n",
    "print(result)"
   ]
  },
  {
   "cell_type": "markdown",
   "id": "484354ea",
   "metadata": {},
   "source": [
    "## Indexing and slicing"
   ]
  },
  {
   "cell_type": "code",
   "execution_count": 52,
   "id": "7cfbc75a",
   "metadata": {},
   "outputs": [
    {
     "data": {
      "text/plain": [
       "0         Toyota\n",
       "1          Lexus\n",
       "2          Honda\n",
       "3    Range Rover\n",
       "dtype: object"
      ]
     },
     "execution_count": 52,
     "metadata": {},
     "output_type": "execute_result"
    }
   ],
   "source": [
    "series_car"
   ]
  },
  {
   "cell_type": "code",
   "execution_count": 53,
   "id": "a430855d",
   "metadata": {},
   "outputs": [
    {
     "data": {
      "text/plain": [
       "'Honda'"
      ]
     },
     "execution_count": 53,
     "metadata": {},
     "output_type": "execute_result"
    }
   ],
   "source": [
    "series_car[2]"
   ]
  },
  {
   "cell_type": "code",
   "execution_count": 54,
   "id": "940a2fb3",
   "metadata": {},
   "outputs": [
    {
     "data": {
      "text/plain": [
       "0    Toyota\n",
       "1     Lexus\n",
       "dtype: object"
      ]
     },
     "execution_count": 54,
     "metadata": {},
     "output_type": "execute_result"
    }
   ],
   "source": [
    "series_car[:2]"
   ]
  },
  {
   "cell_type": "code",
   "execution_count": 55,
   "id": "9fc30f6f",
   "metadata": {},
   "outputs": [
    {
     "data": {
      "text/plain": [
       "2          Honda\n",
       "3    Range Rover\n",
       "dtype: object"
      ]
     },
     "execution_count": 55,
     "metadata": {},
     "output_type": "execute_result"
    }
   ],
   "source": [
    "series_car[2:]"
   ]
  },
  {
   "cell_type": "code",
   "execution_count": 56,
   "id": "6f5b0e1c",
   "metadata": {},
   "outputs": [
    {
     "name": "stdout",
     "output_type": "stream",
     "text": [
      "['Toyota' 'Lexus' 'Honda' 'Range Rover']\n"
     ]
    }
   ],
   "source": [
    "# .values is used to extract the data or values in a series\n",
    "print(series_car.values)"
   ]
  },
  {
   "cell_type": "code",
   "execution_count": 57,
   "id": "5db181da",
   "metadata": {},
   "outputs": [
    {
     "name": "stdout",
     "output_type": "stream",
     "text": [
      "[ 21.7  40.  202.5 460.8]\n"
     ]
    }
   ],
   "source": [
    "print(revenue.values)"
   ]
  },
  {
   "cell_type": "code",
   "execution_count": 58,
   "id": "78617309",
   "metadata": {},
   "outputs": [
    {
     "name": "stdout",
     "output_type": "stream",
     "text": [
      "RangeIndex(start=0, stop=4, step=1)\n"
     ]
    }
   ],
   "source": [
    "# .index is used to get the index location of the values\n",
    "print(series_car.index)"
   ]
  },
  {
   "cell_type": "code",
   "execution_count": 59,
   "id": "68ed8a24",
   "metadata": {},
   "outputs": [
    {
     "name": "stdout",
     "output_type": "stream",
     "text": [
      "Index(['A', 'B', 'C', 'D'], dtype='object')\n"
     ]
    }
   ],
   "source": [
    "print(revenue.index)"
   ]
  },
  {
   "cell_type": "markdown",
   "id": "b3de6517",
   "metadata": {},
   "source": [
    "# Aggregate Functions\n",
    "- They are used to perform simple statistical operation in Python\n",
    "\n",
    "`sum(), mean(), min(), max(), and count()`\n"
   ]
  },
  {
   "cell_type": "code",
   "execution_count": 60,
   "id": "3be55f10",
   "metadata": {},
   "outputs": [
    {
     "name": "stdout",
     "output_type": "stream",
     "text": [
      "A     21.7\n",
      "B     40.0\n",
      "C    202.5\n",
      "D    460.8\n",
      "dtype: float64\n"
     ]
    }
   ],
   "source": [
    "# .sum()\n",
    "print(revenue)"
   ]
  },
  {
   "cell_type": "code",
   "execution_count": 61,
   "id": "54b7dc1f",
   "metadata": {},
   "outputs": [
    {
     "name": "stdout",
     "output_type": "stream",
     "text": [
      "725.0\n"
     ]
    }
   ],
   "source": [
    "total_revenue = revenue.sum()\n",
    "print(total_revenue)"
   ]
  },
  {
   "cell_type": "code",
   "execution_count": 62,
   "id": "58215942",
   "metadata": {},
   "outputs": [
    {
     "name": "stdout",
     "output_type": "stream",
     "text": [
      "181.25\n"
     ]
    }
   ],
   "source": [
    "# .mean()\n",
    "avg_revenue = revenue.mean()\n",
    "print(avg_revenue)"
   ]
  },
  {
   "cell_type": "code",
   "execution_count": 63,
   "id": "6c0d420f",
   "metadata": {},
   "outputs": [
    {
     "name": "stdout",
     "output_type": "stream",
     "text": [
      "21.7\n"
     ]
    }
   ],
   "source": [
    "# .min()\n",
    "min_revenue = revenue.min()\n",
    "print(min_revenue)"
   ]
  },
  {
   "cell_type": "code",
   "execution_count": 64,
   "id": "627d8b29",
   "metadata": {},
   "outputs": [
    {
     "name": "stdout",
     "output_type": "stream",
     "text": [
      "460.79999999999995\n"
     ]
    }
   ],
   "source": [
    "# .max()\n",
    "max_revenue = revenue.max()\n",
    "print(max_revenue)"
   ]
  },
  {
   "cell_type": "code",
   "execution_count": 65,
   "id": "6cd13df5",
   "metadata": {},
   "outputs": [
    {
     "name": "stdout",
     "output_type": "stream",
     "text": [
      "4\n"
     ]
    }
   ],
   "source": [
    "# .count()\n",
    "count_series_car = series_car.count()\n",
    "print(count_series_car)"
   ]
  },
  {
   "cell_type": "markdown",
   "id": "5093d5a7",
   "metadata": {},
   "source": [
    "# DataFrame\n",
    "`df = pd.DataFrame()`\n",
    "\n",
    "where df is a variable holding the Dataframe"
   ]
  },
  {
   "cell_type": "code",
   "execution_count": 66,
   "id": "899612bf",
   "metadata": {},
   "outputs": [
    {
     "data": {
      "text/plain": [
       "0         Toyota\n",
       "1          Lexus\n",
       "2          Honda\n",
       "3    Range Rover\n",
       "dtype: object"
      ]
     },
     "execution_count": 66,
     "metadata": {},
     "output_type": "execute_result"
    }
   ],
   "source": [
    "series_car"
   ]
  },
  {
   "cell_type": "code",
   "execution_count": 67,
   "id": "1481ba32",
   "metadata": {},
   "outputs": [
    {
     "data": {
      "text/html": [
       "<div>\n",
       "<style scoped>\n",
       "    .dataframe tbody tr th:only-of-type {\n",
       "        vertical-align: middle;\n",
       "    }\n",
       "\n",
       "    .dataframe tbody tr th {\n",
       "        vertical-align: top;\n",
       "    }\n",
       "\n",
       "    .dataframe thead th {\n",
       "        text-align: right;\n",
       "    }\n",
       "</style>\n",
       "<table border=\"1\" class=\"dataframe\">\n",
       "  <thead>\n",
       "    <tr style=\"text-align: right;\">\n",
       "      <th></th>\n",
       "      <th>car brand</th>\n",
       "    </tr>\n",
       "  </thead>\n",
       "  <tbody>\n",
       "    <tr>\n",
       "      <th>0</th>\n",
       "      <td>Toyota</td>\n",
       "    </tr>\n",
       "    <tr>\n",
       "      <th>1</th>\n",
       "      <td>Lexus</td>\n",
       "    </tr>\n",
       "    <tr>\n",
       "      <th>2</th>\n",
       "      <td>Honda</td>\n",
       "    </tr>\n",
       "    <tr>\n",
       "      <th>3</th>\n",
       "      <td>Range Rover</td>\n",
       "    </tr>\n",
       "  </tbody>\n",
       "</table>\n",
       "</div>"
      ],
      "text/plain": [
       "     car brand\n",
       "0       Toyota\n",
       "1        Lexus\n",
       "2        Honda\n",
       "3  Range Rover"
      ]
     },
     "execution_count": 67,
     "metadata": {},
     "output_type": "execute_result"
    }
   ],
   "source": [
    "df_car = pd.DataFrame(series_car, columns = ['car brand'])\n",
    "df_car"
   ]
  },
  {
   "cell_type": "code",
   "execution_count": 68,
   "id": "33b25a20",
   "metadata": {},
   "outputs": [
    {
     "data": {
      "text/plain": [
       "pandas.core.frame.DataFrame"
      ]
     },
     "execution_count": 68,
     "metadata": {},
     "output_type": "execute_result"
    }
   ],
   "source": [
    "type(df_car)"
   ]
  },
  {
   "cell_type": "code",
   "execution_count": 69,
   "id": "d77aa1ff",
   "metadata": {},
   "outputs": [
    {
     "name": "stdout",
     "output_type": "stream",
     "text": [
      "      0   1\n",
      "A   3.1   7\n",
      "B   4.0  10\n",
      "C  13.5  15\n",
      "D  19.2  24\n"
     ]
    }
   ],
   "source": [
    "print(result)"
   ]
  },
  {
   "cell_type": "code",
   "execution_count": 70,
   "id": "c800b0b2",
   "metadata": {},
   "outputs": [
    {
     "data": {
      "text/html": [
       "<div>\n",
       "<style scoped>\n",
       "    .dataframe tbody tr th:only-of-type {\n",
       "        vertical-align: middle;\n",
       "    }\n",
       "\n",
       "    .dataframe tbody tr th {\n",
       "        vertical-align: top;\n",
       "    }\n",
       "\n",
       "    .dataframe thead th {\n",
       "        text-align: right;\n",
       "    }\n",
       "</style>\n",
       "<table border=\"1\" class=\"dataframe\">\n",
       "  <thead>\n",
       "    <tr style=\"text-align: right;\">\n",
       "      <th></th>\n",
       "      <th>0</th>\n",
       "      <th>1</th>\n",
       "    </tr>\n",
       "  </thead>\n",
       "  <tbody>\n",
       "    <tr>\n",
       "      <th>A</th>\n",
       "      <td>3.1</td>\n",
       "      <td>7</td>\n",
       "    </tr>\n",
       "    <tr>\n",
       "      <th>B</th>\n",
       "      <td>4.0</td>\n",
       "      <td>10</td>\n",
       "    </tr>\n",
       "    <tr>\n",
       "      <th>C</th>\n",
       "      <td>13.5</td>\n",
       "      <td>15</td>\n",
       "    </tr>\n",
       "    <tr>\n",
       "      <th>D</th>\n",
       "      <td>19.2</td>\n",
       "      <td>24</td>\n",
       "    </tr>\n",
       "  </tbody>\n",
       "</table>\n",
       "</div>"
      ],
      "text/plain": [
       "      0   1\n",
       "A   3.1   7\n",
       "B   4.0  10\n",
       "C  13.5  15\n",
       "D  19.2  24"
      ]
     },
     "execution_count": 70,
     "metadata": {},
     "output_type": "execute_result"
    }
   ],
   "source": [
    "df_result = pd.DataFrame(result)\n",
    "df_result"
   ]
  },
  {
   "cell_type": "code",
   "execution_count": 71,
   "id": "df07b13f",
   "metadata": {},
   "outputs": [
    {
     "data": {
      "text/plain": [
       "pandas.core.frame.DataFrame"
      ]
     },
     "execution_count": 71,
     "metadata": {},
     "output_type": "execute_result"
    }
   ],
   "source": [
    "type(df_result)"
   ]
  },
  {
   "cell_type": "code",
   "execution_count": 72,
   "id": "67ecc202",
   "metadata": {},
   "outputs": [
    {
     "data": {
      "text/html": [
       "<div>\n",
       "<style scoped>\n",
       "    .dataframe tbody tr th:only-of-type {\n",
       "        vertical-align: middle;\n",
       "    }\n",
       "\n",
       "    .dataframe tbody tr th {\n",
       "        vertical-align: top;\n",
       "    }\n",
       "\n",
       "    .dataframe thead th {\n",
       "        text-align: right;\n",
       "    }\n",
       "</style>\n",
       "<table border=\"1\" class=\"dataframe\">\n",
       "  <thead>\n",
       "    <tr style=\"text-align: right;\">\n",
       "      <th></th>\n",
       "      <th>price</th>\n",
       "      <th>quantity</th>\n",
       "    </tr>\n",
       "  </thead>\n",
       "  <tbody>\n",
       "    <tr>\n",
       "      <th>0</th>\n",
       "      <td>3.1</td>\n",
       "      <td>7</td>\n",
       "    </tr>\n",
       "    <tr>\n",
       "      <th>1</th>\n",
       "      <td>4.0</td>\n",
       "      <td>10</td>\n",
       "    </tr>\n",
       "    <tr>\n",
       "      <th>2</th>\n",
       "      <td>13.5</td>\n",
       "      <td>15</td>\n",
       "    </tr>\n",
       "    <tr>\n",
       "      <th>3</th>\n",
       "      <td>19.2</td>\n",
       "      <td>24</td>\n",
       "    </tr>\n",
       "  </tbody>\n",
       "</table>\n",
       "</div>"
      ],
      "text/plain": [
       "   price  quantity\n",
       "0    3.1         7\n",
       "1    4.0        10\n",
       "2   13.5        15\n",
       "3   19.2        24"
      ]
     },
     "execution_count": 72,
     "metadata": {},
     "output_type": "execute_result"
    }
   ],
   "source": [
    "# .rename()\n",
    "df_result.rename(index = {'A':0, 'B':1, 'C':2, 'D':3}, columns = {0:'price', 1:'quantity'}, inplace = True)\n",
    "df_result"
   ]
  },
  {
   "cell_type": "markdown",
   "id": "7c0a63a3",
   "metadata": {},
   "source": [
    "# Other functions and methods\n",
    "- the aggregate functions, .describe(), .select_dtypes(), etc."
   ]
  },
  {
   "cell_type": "code",
   "execution_count": 73,
   "id": "b373f622",
   "metadata": {},
   "outputs": [
    {
     "data": {
      "text/html": [
       "<div>\n",
       "<style scoped>\n",
       "    .dataframe tbody tr th:only-of-type {\n",
       "        vertical-align: middle;\n",
       "    }\n",
       "\n",
       "    .dataframe tbody tr th {\n",
       "        vertical-align: top;\n",
       "    }\n",
       "\n",
       "    .dataframe thead th {\n",
       "        text-align: right;\n",
       "    }\n",
       "</style>\n",
       "<table border=\"1\" class=\"dataframe\">\n",
       "  <thead>\n",
       "    <tr style=\"text-align: right;\">\n",
       "      <th></th>\n",
       "      <th>price</th>\n",
       "      <th>quantity</th>\n",
       "    </tr>\n",
       "  </thead>\n",
       "  <tbody>\n",
       "    <tr>\n",
       "      <th>0</th>\n",
       "      <td>3.1</td>\n",
       "      <td>7</td>\n",
       "    </tr>\n",
       "    <tr>\n",
       "      <th>1</th>\n",
       "      <td>4.0</td>\n",
       "      <td>10</td>\n",
       "    </tr>\n",
       "    <tr>\n",
       "      <th>2</th>\n",
       "      <td>13.5</td>\n",
       "      <td>15</td>\n",
       "    </tr>\n",
       "    <tr>\n",
       "      <th>3</th>\n",
       "      <td>19.2</td>\n",
       "      <td>24</td>\n",
       "    </tr>\n",
       "  </tbody>\n",
       "</table>\n",
       "</div>"
      ],
      "text/plain": [
       "   price  quantity\n",
       "0    3.1         7\n",
       "1    4.0        10\n",
       "2   13.5        15\n",
       "3   19.2        24"
      ]
     },
     "execution_count": 73,
     "metadata": {},
     "output_type": "execute_result"
    }
   ],
   "source": [
    "df_result"
   ]
  },
  {
   "cell_type": "code",
   "execution_count": 74,
   "id": "b2a5c40b",
   "metadata": {},
   "outputs": [
    {
     "data": {
      "text/plain": [
       "(4, 2)"
      ]
     },
     "execution_count": 74,
     "metadata": {},
     "output_type": "execute_result"
    }
   ],
   "source": [
    "# shape of the dataframe\n",
    "df_result.shape"
   ]
  },
  {
   "cell_type": "code",
   "execution_count": 75,
   "id": "e9e2e1a0",
   "metadata": {},
   "outputs": [
    {
     "data": {
      "text/plain": [
       "Index([0, 1, 2, 3], dtype='int64')"
      ]
     },
     "execution_count": 75,
     "metadata": {},
     "output_type": "execute_result"
    }
   ],
   "source": [
    "# the index of the dataframe\n",
    "df_result.index"
   ]
  },
  {
   "cell_type": "code",
   "execution_count": 76,
   "id": "019588cc",
   "metadata": {},
   "outputs": [
    {
     "data": {
      "text/plain": [
       "Index([0, 1, 2, 3], dtype='int64')"
      ]
     },
     "execution_count": 76,
     "metadata": {},
     "output_type": "execute_result"
    }
   ],
   "source": [
    "df_result['quantity'].index"
   ]
  },
  {
   "cell_type": "code",
   "execution_count": 77,
   "id": "29cb6f0b",
   "metadata": {},
   "outputs": [
    {
     "data": {
      "text/plain": [
       "array([[ 3.1,  7. ],\n",
       "       [ 4. , 10. ],\n",
       "       [13.5, 15. ],\n",
       "       [19.2, 24. ]])"
      ]
     },
     "execution_count": 77,
     "metadata": {},
     "output_type": "execute_result"
    }
   ],
   "source": [
    "# the values of the dataframe\n",
    "df_result.values"
   ]
  },
  {
   "cell_type": "code",
   "execution_count": 78,
   "id": "72bec0a5",
   "metadata": {},
   "outputs": [
    {
     "data": {
      "text/plain": [
       "array([ 3.1,  4. , 13.5, 19.2])"
      ]
     },
     "execution_count": 78,
     "metadata": {},
     "output_type": "execute_result"
    }
   ],
   "source": [
    "# Indexing and slicing\n",
    "df_result['price'].values"
   ]
  },
  {
   "cell_type": "code",
   "execution_count": 79,
   "id": "8e311157",
   "metadata": {},
   "outputs": [
    {
     "data": {
      "text/plain": [
       "array([3.1, 4. ])"
      ]
     },
     "execution_count": 79,
     "metadata": {},
     "output_type": "execute_result"
    }
   ],
   "source": [
    "df_result['price'][:2].values"
   ]
  },
  {
   "cell_type": "code",
   "execution_count": 80,
   "id": "a8e45608",
   "metadata": {},
   "outputs": [
    {
     "data": {
      "text/html": [
       "<div>\n",
       "<style scoped>\n",
       "    .dataframe tbody tr th:only-of-type {\n",
       "        vertical-align: middle;\n",
       "    }\n",
       "\n",
       "    .dataframe tbody tr th {\n",
       "        vertical-align: top;\n",
       "    }\n",
       "\n",
       "    .dataframe thead th {\n",
       "        text-align: right;\n",
       "    }\n",
       "</style>\n",
       "<table border=\"1\" class=\"dataframe\">\n",
       "  <thead>\n",
       "    <tr style=\"text-align: right;\">\n",
       "      <th></th>\n",
       "      <th>price</th>\n",
       "      <th>quantity</th>\n",
       "    </tr>\n",
       "  </thead>\n",
       "  <tbody>\n",
       "    <tr>\n",
       "      <th>0</th>\n",
       "      <td>3.1</td>\n",
       "      <td>7</td>\n",
       "    </tr>\n",
       "    <tr>\n",
       "      <th>1</th>\n",
       "      <td>4.0</td>\n",
       "      <td>10</td>\n",
       "    </tr>\n",
       "    <tr>\n",
       "      <th>2</th>\n",
       "      <td>13.5</td>\n",
       "      <td>15</td>\n",
       "    </tr>\n",
       "  </tbody>\n",
       "</table>\n",
       "</div>"
      ],
      "text/plain": [
       "   price  quantity\n",
       "0    3.1         7\n",
       "1    4.0        10\n",
       "2   13.5        15"
      ]
     },
     "execution_count": 80,
     "metadata": {},
     "output_type": "execute_result"
    }
   ],
   "source": [
    "# first three rows of the df_result\n",
    "df_result[:3]"
   ]
  },
  {
   "cell_type": "code",
   "execution_count": 81,
   "id": "82222843",
   "metadata": {},
   "outputs": [
    {
     "data": {
      "text/plain": [
       "0     7\n",
       "1    10\n",
       "Name: quantity, dtype: int64"
      ]
     },
     "execution_count": 81,
     "metadata": {},
     "output_type": "execute_result"
    }
   ],
   "source": [
    "df_result['quantity'][:2] # the first two rows of the quantity column"
   ]
  },
  {
   "cell_type": "markdown",
   "id": "2a2db859",
   "metadata": {},
   "source": [
    "`N.B: You can do aggregate functions on a whole dataframe, but it will be returned as a series.`"
   ]
  },
  {
   "cell_type": "code",
   "execution_count": 82,
   "id": "1bb7fc06",
   "metadata": {},
   "outputs": [
    {
     "data": {
      "text/plain": [
       "price       39.8\n",
       "quantity    56.0\n",
       "dtype: float64"
      ]
     },
     "execution_count": 82,
     "metadata": {},
     "output_type": "execute_result"
    }
   ],
   "source": [
    "# .sum()\n",
    "df_result.sum()"
   ]
  },
  {
   "cell_type": "code",
   "execution_count": 83,
   "id": "de1fd0c7",
   "metadata": {},
   "outputs": [
    {
     "data": {
      "text/plain": [
       "39.8"
      ]
     },
     "execution_count": 83,
     "metadata": {},
     "output_type": "execute_result"
    }
   ],
   "source": [
    "df_result['price'].sum()"
   ]
  },
  {
   "cell_type": "code",
   "execution_count": 84,
   "id": "257a3625",
   "metadata": {},
   "outputs": [
    {
     "data": {
      "text/plain": [
       "price        9.95\n",
       "quantity    14.00\n",
       "dtype: float64"
      ]
     },
     "execution_count": 84,
     "metadata": {},
     "output_type": "execute_result"
    }
   ],
   "source": [
    "# .mean()\n",
    "df_result.mean()"
   ]
  },
  {
   "cell_type": "code",
   "execution_count": 85,
   "id": "df9ea7ea",
   "metadata": {},
   "outputs": [
    {
     "data": {
      "text/plain": [
       "14.0"
      ]
     },
     "execution_count": 85,
     "metadata": {},
     "output_type": "execute_result"
    }
   ],
   "source": [
    "df_result['quantity'].mean()"
   ]
  },
  {
   "cell_type": "markdown",
   "id": "8d3aa9a1",
   "metadata": {},
   "source": [
    "### .describe()\n",
    "- It is an inbuilt method that generates descriptive statistics for a DataFrame or Series, including the count, mean, standard deviation, minimum, 25th percentile, 50th percentile (median), 75th percentile, and maximum."
   ]
  },
  {
   "cell_type": "code",
   "execution_count": 86,
   "id": "a3c7a39e",
   "metadata": {},
   "outputs": [
    {
     "data": {
      "text/html": [
       "<div>\n",
       "<style scoped>\n",
       "    .dataframe tbody tr th:only-of-type {\n",
       "        vertical-align: middle;\n",
       "    }\n",
       "\n",
       "    .dataframe tbody tr th {\n",
       "        vertical-align: top;\n",
       "    }\n",
       "\n",
       "    .dataframe thead th {\n",
       "        text-align: right;\n",
       "    }\n",
       "</style>\n",
       "<table border=\"1\" class=\"dataframe\">\n",
       "  <thead>\n",
       "    <tr style=\"text-align: right;\">\n",
       "      <th></th>\n",
       "      <th>price</th>\n",
       "      <th>quantity</th>\n",
       "    </tr>\n",
       "  </thead>\n",
       "  <tbody>\n",
       "    <tr>\n",
       "      <th>count</th>\n",
       "      <td>4.000000</td>\n",
       "      <td>4.000000</td>\n",
       "    </tr>\n",
       "    <tr>\n",
       "      <th>mean</th>\n",
       "      <td>9.950000</td>\n",
       "      <td>14.000000</td>\n",
       "    </tr>\n",
       "    <tr>\n",
       "      <th>std</th>\n",
       "      <td>7.756503</td>\n",
       "      <td>7.438638</td>\n",
       "    </tr>\n",
       "    <tr>\n",
       "      <th>min</th>\n",
       "      <td>3.100000</td>\n",
       "      <td>7.000000</td>\n",
       "    </tr>\n",
       "    <tr>\n",
       "      <th>25%</th>\n",
       "      <td>3.775000</td>\n",
       "      <td>9.250000</td>\n",
       "    </tr>\n",
       "    <tr>\n",
       "      <th>50%</th>\n",
       "      <td>8.750000</td>\n",
       "      <td>12.500000</td>\n",
       "    </tr>\n",
       "    <tr>\n",
       "      <th>75%</th>\n",
       "      <td>14.925000</td>\n",
       "      <td>17.250000</td>\n",
       "    </tr>\n",
       "    <tr>\n",
       "      <th>max</th>\n",
       "      <td>19.200000</td>\n",
       "      <td>24.000000</td>\n",
       "    </tr>\n",
       "  </tbody>\n",
       "</table>\n",
       "</div>"
      ],
      "text/plain": [
       "           price   quantity\n",
       "count   4.000000   4.000000\n",
       "mean    9.950000  14.000000\n",
       "std     7.756503   7.438638\n",
       "min     3.100000   7.000000\n",
       "25%     3.775000   9.250000\n",
       "50%     8.750000  12.500000\n",
       "75%    14.925000  17.250000\n",
       "max    19.200000  24.000000"
      ]
     },
     "execution_count": 86,
     "metadata": {},
     "output_type": "execute_result"
    }
   ],
   "source": [
    "# view the summary descriptive statistics\n",
    "df_result.describe()"
   ]
  },
  {
   "cell_type": "code",
   "execution_count": 87,
   "id": "5c7e906c",
   "metadata": {},
   "outputs": [
    {
     "data": {
      "text/html": [
       "<div>\n",
       "<style scoped>\n",
       "    .dataframe tbody tr th:only-of-type {\n",
       "        vertical-align: middle;\n",
       "    }\n",
       "\n",
       "    .dataframe tbody tr th {\n",
       "        vertical-align: top;\n",
       "    }\n",
       "\n",
       "    .dataframe thead th {\n",
       "        text-align: right;\n",
       "    }\n",
       "</style>\n",
       "<table border=\"1\" class=\"dataframe\">\n",
       "  <thead>\n",
       "    <tr style=\"text-align: right;\">\n",
       "      <th></th>\n",
       "      <th>price</th>\n",
       "      <th>quantity</th>\n",
       "    </tr>\n",
       "  </thead>\n",
       "  <tbody>\n",
       "    <tr>\n",
       "      <th>count</th>\n",
       "      <td>4</td>\n",
       "      <td>4</td>\n",
       "    </tr>\n",
       "    <tr>\n",
       "      <th>mean</th>\n",
       "      <td>9</td>\n",
       "      <td>14</td>\n",
       "    </tr>\n",
       "    <tr>\n",
       "      <th>std</th>\n",
       "      <td>7</td>\n",
       "      <td>7</td>\n",
       "    </tr>\n",
       "    <tr>\n",
       "      <th>min</th>\n",
       "      <td>3</td>\n",
       "      <td>7</td>\n",
       "    </tr>\n",
       "    <tr>\n",
       "      <th>25%</th>\n",
       "      <td>3</td>\n",
       "      <td>9</td>\n",
       "    </tr>\n",
       "    <tr>\n",
       "      <th>50%</th>\n",
       "      <td>8</td>\n",
       "      <td>12</td>\n",
       "    </tr>\n",
       "    <tr>\n",
       "      <th>75%</th>\n",
       "      <td>14</td>\n",
       "      <td>17</td>\n",
       "    </tr>\n",
       "    <tr>\n",
       "      <th>max</th>\n",
       "      <td>19</td>\n",
       "      <td>24</td>\n",
       "    </tr>\n",
       "  </tbody>\n",
       "</table>\n",
       "</div>"
      ],
      "text/plain": [
       "       price  quantity\n",
       "count      4         4\n",
       "mean       9        14\n",
       "std        7         7\n",
       "min        3         7\n",
       "25%        3         9\n",
       "50%        8        12\n",
       "75%       14        17\n",
       "max       19        24"
      ]
     },
     "execution_count": 87,
     "metadata": {},
     "output_type": "execute_result"
    }
   ],
   "source": [
    "df_result.describe().astype('int') # .astype() is an inbuilt method used to change data type to another data types"
   ]
  },
  {
   "cell_type": "code",
   "execution_count": 88,
   "id": "58947f00",
   "metadata": {},
   "outputs": [
    {
     "data": {
      "text/html": [
       "<div>\n",
       "<style scoped>\n",
       "    .dataframe tbody tr th:only-of-type {\n",
       "        vertical-align: middle;\n",
       "    }\n",
       "\n",
       "    .dataframe tbody tr th {\n",
       "        vertical-align: top;\n",
       "    }\n",
       "\n",
       "    .dataframe thead th {\n",
       "        text-align: right;\n",
       "    }\n",
       "</style>\n",
       "<table border=\"1\" class=\"dataframe\">\n",
       "  <thead>\n",
       "    <tr style=\"text-align: right;\">\n",
       "      <th></th>\n",
       "      <th>price</th>\n",
       "      <th>quantity</th>\n",
       "    </tr>\n",
       "  </thead>\n",
       "  <tbody>\n",
       "    <tr>\n",
       "      <th>count</th>\n",
       "      <td>4</td>\n",
       "      <td>4</td>\n",
       "    </tr>\n",
       "    <tr>\n",
       "      <th>mean</th>\n",
       "      <td>9</td>\n",
       "      <td>14</td>\n",
       "    </tr>\n",
       "    <tr>\n",
       "      <th>std</th>\n",
       "      <td>7</td>\n",
       "      <td>7</td>\n",
       "    </tr>\n",
       "    <tr>\n",
       "      <th>min</th>\n",
       "      <td>3</td>\n",
       "      <td>7</td>\n",
       "    </tr>\n",
       "    <tr>\n",
       "      <th>50%</th>\n",
       "      <td>8</td>\n",
       "      <td>12</td>\n",
       "    </tr>\n",
       "    <tr>\n",
       "      <th>75%</th>\n",
       "      <td>14</td>\n",
       "      <td>17</td>\n",
       "    </tr>\n",
       "    <tr>\n",
       "      <th>90%</th>\n",
       "      <td>17</td>\n",
       "      <td>21</td>\n",
       "    </tr>\n",
       "    <tr>\n",
       "      <th>max</th>\n",
       "      <td>19</td>\n",
       "      <td>24</td>\n",
       "    </tr>\n",
       "  </tbody>\n",
       "</table>\n",
       "</div>"
      ],
      "text/plain": [
       "       price  quantity\n",
       "count      4         4\n",
       "mean       9        14\n",
       "std        7         7\n",
       "min        3         7\n",
       "50%        8        12\n",
       "75%       14        17\n",
       "90%       17        21\n",
       "max       19        24"
      ]
     },
     "execution_count": 88,
     "metadata": {},
     "output_type": "execute_result"
    }
   ],
   "source": [
    "# you can pass a list of the percentile you want to see\n",
    "df_result.describe([.50, .75, .90 ]).astype('int') "
   ]
  },
  {
   "cell_type": "markdown",
   "id": "3c6c7700",
   "metadata": {},
   "source": [
    "For the price variable, there are 4 data points. The mean price is `$9`, with a standard deviation of `$7`. The minimum price is `$3` and the maximum price is `$19`. The 25th percentile is `$3`, the median price is `$8`, and the 75th percentile is $14.\n",
    "\n",
    "For the quantity variable, there are also 4 data points. The mean quantity is 14, with a standard deviation of 7. The minimum quantity is 7 and the maximum quantity is 24. The 25th percentile is 9, the median quantity is 12, and the 75th percentile is 17.\n",
    "\n",
    "This data suggests a wide range of prices from `$3` to `$19`, with most prices clustered around the mean of `$9`. The quantity data also shows a wide range from 7 to 24, with the middle 50% of values falling between 9 and 17."
   ]
  },
  {
   "cell_type": "markdown",
   "id": "13f8bc19",
   "metadata": {},
   "source": [
    "# DataFrame loc and iloc\n",
    "- DataFrame loc"
   ]
  },
  {
   "cell_type": "markdown",
   "id": "41f7496f",
   "metadata": {},
   "source": [
    "The .loc[] method allows us to extract data along the rows and columns using labeled index.\n",
    "\n"
   ]
  },
  {
   "cell_type": "code",
   "execution_count": 89,
   "id": "560e54d2",
   "metadata": {},
   "outputs": [
    {
     "data": {
      "text/plain": [
       "24"
      ]
     },
     "execution_count": 89,
     "metadata": {},
     "output_type": "execute_result"
    }
   ],
   "source": [
    "# retrieve 24 using loc from the quantity\n",
    "df_result.loc[3, 'quantity']"
   ]
  },
  {
   "cell_type": "code",
   "execution_count": 90,
   "id": "492e184c",
   "metadata": {},
   "outputs": [
    {
     "data": {
      "text/plain": [
       "0     7\n",
       "1    10\n",
       "2    15\n",
       "Name: quantity, dtype: int64"
      ]
     },
     "execution_count": 90,
     "metadata": {},
     "output_type": "execute_result"
    }
   ],
   "source": [
    "# retrieve the first three values using loc from the quantity\n",
    "df_result.loc[:2, 'quantity']"
   ]
  },
  {
   "cell_type": "markdown",
   "id": "2ff8d7f3",
   "metadata": {},
   "source": [
    "- DataFrame iloc\n",
    "\n",
    "The .iloc[] method allows us access data using specific row and column indices. It is called integer-based indexing."
   ]
  },
  {
   "cell_type": "code",
   "execution_count": 91,
   "id": "349e031c",
   "metadata": {},
   "outputs": [
    {
     "data": {
      "text/plain": [
       "24"
      ]
     },
     "execution_count": 91,
     "metadata": {},
     "output_type": "execute_result"
    }
   ],
   "source": [
    "df_result.iloc[3, 1]"
   ]
  },
  {
   "cell_type": "markdown",
   "id": "11e58d9f",
   "metadata": {},
   "source": [
    "# Building a DataFrame using Dictionary"
   ]
  },
  {
   "cell_type": "code",
   "execution_count": 92,
   "id": "5eb2f8f1",
   "metadata": {},
   "outputs": [
    {
     "name": "stdout",
     "output_type": "stream",
     "text": [
      "{'Customer ID': [1, 2, 3, 4, 5], 'Customer Name': ['Deji Ade', 'Sola Omo', 'Taiwo Scott', 'Bimbo Odu', 'Prince Charm'], 'Department': ['HR', 'IT', 'Product', 'Customer Care', 'Logistics'], 'Salary': [120000, 500000, 300000, 200000, 150000], 'Grade level': ['Executive', 'Senior', 'Mid-level', 'Junior', 'Entry']}\n"
     ]
    }
   ],
   "source": [
    "customer = {'Customer ID': [1, 2, 3, 4, 5],\n",
    "    'Customer Name': ['Deji Ade', 'Sola Omo', 'Taiwo Scott', 'Bimbo Odu', 'Prince Charm'],\n",
    "           'Department':['HR', 'IT', 'Product', 'Customer Care', 'Logistics'],\n",
    "           'Salary': [120000, 500000, 300000, 200000, 150000],\n",
    "           'Grade level': ['Executive', 'Senior', 'Mid-level', 'Junior', 'Entry']}\n",
    "\n",
    "print(customer)"
   ]
  },
  {
   "cell_type": "code",
   "execution_count": 93,
   "id": "f95de0bc",
   "metadata": {},
   "outputs": [
    {
     "data": {
      "text/plain": [
       "dict"
      ]
     },
     "execution_count": 93,
     "metadata": {},
     "output_type": "execute_result"
    }
   ],
   "source": [
    "type(customer)"
   ]
  },
  {
   "cell_type": "code",
   "execution_count": 94,
   "id": "3ac68667",
   "metadata": {},
   "outputs": [
    {
     "data": {
      "text/html": [
       "<div>\n",
       "<style scoped>\n",
       "    .dataframe tbody tr th:only-of-type {\n",
       "        vertical-align: middle;\n",
       "    }\n",
       "\n",
       "    .dataframe tbody tr th {\n",
       "        vertical-align: top;\n",
       "    }\n",
       "\n",
       "    .dataframe thead th {\n",
       "        text-align: right;\n",
       "    }\n",
       "</style>\n",
       "<table border=\"1\" class=\"dataframe\">\n",
       "  <thead>\n",
       "    <tr style=\"text-align: right;\">\n",
       "      <th></th>\n",
       "      <th>Customer ID</th>\n",
       "      <th>Customer Name</th>\n",
       "      <th>Department</th>\n",
       "      <th>Salary</th>\n",
       "      <th>Grade level</th>\n",
       "    </tr>\n",
       "  </thead>\n",
       "  <tbody>\n",
       "    <tr>\n",
       "      <th>0</th>\n",
       "      <td>1</td>\n",
       "      <td>Deji Ade</td>\n",
       "      <td>HR</td>\n",
       "      <td>120000</td>\n",
       "      <td>Executive</td>\n",
       "    </tr>\n",
       "    <tr>\n",
       "      <th>1</th>\n",
       "      <td>2</td>\n",
       "      <td>Sola Omo</td>\n",
       "      <td>IT</td>\n",
       "      <td>500000</td>\n",
       "      <td>Senior</td>\n",
       "    </tr>\n",
       "    <tr>\n",
       "      <th>2</th>\n",
       "      <td>3</td>\n",
       "      <td>Taiwo Scott</td>\n",
       "      <td>Product</td>\n",
       "      <td>300000</td>\n",
       "      <td>Mid-level</td>\n",
       "    </tr>\n",
       "    <tr>\n",
       "      <th>3</th>\n",
       "      <td>4</td>\n",
       "      <td>Bimbo Odu</td>\n",
       "      <td>Customer Care</td>\n",
       "      <td>200000</td>\n",
       "      <td>Junior</td>\n",
       "    </tr>\n",
       "    <tr>\n",
       "      <th>4</th>\n",
       "      <td>5</td>\n",
       "      <td>Prince Charm</td>\n",
       "      <td>Logistics</td>\n",
       "      <td>150000</td>\n",
       "      <td>Entry</td>\n",
       "    </tr>\n",
       "  </tbody>\n",
       "</table>\n",
       "</div>"
      ],
      "text/plain": [
       "   Customer ID Customer Name     Department  Salary Grade level\n",
       "0            1      Deji Ade             HR  120000   Executive\n",
       "1            2      Sola Omo             IT  500000      Senior\n",
       "2            3   Taiwo Scott        Product  300000   Mid-level\n",
       "3            4     Bimbo Odu  Customer Care  200000      Junior\n",
       "4            5  Prince Charm      Logistics  150000       Entry"
      ]
     },
     "execution_count": 94,
     "metadata": {},
     "output_type": "execute_result"
    }
   ],
   "source": [
    "# pass the customer into a DataFrame\n",
    "df = pd.DataFrame(customer)\n",
    "df"
   ]
  },
  {
   "cell_type": "code",
   "execution_count": 95,
   "id": "6484e90e",
   "metadata": {},
   "outputs": [
    {
     "data": {
      "text/plain": [
       "'Product'"
      ]
     },
     "execution_count": 95,
     "metadata": {},
     "output_type": "execute_result"
    }
   ],
   "source": [
    "# to retrieve 'Product' from department\n",
    "df.iloc[2, 2]"
   ]
  },
  {
   "cell_type": "code",
   "execution_count": 96,
   "id": "417069a6",
   "metadata": {},
   "outputs": [
    {
     "data": {
      "text/html": [
       "<div>\n",
       "<style scoped>\n",
       "    .dataframe tbody tr th:only-of-type {\n",
       "        vertical-align: middle;\n",
       "    }\n",
       "\n",
       "    .dataframe tbody tr th {\n",
       "        vertical-align: top;\n",
       "    }\n",
       "\n",
       "    .dataframe thead th {\n",
       "        text-align: right;\n",
       "    }\n",
       "</style>\n",
       "<table border=\"1\" class=\"dataframe\">\n",
       "  <thead>\n",
       "    <tr style=\"text-align: right;\">\n",
       "      <th></th>\n",
       "      <th>Customer ID</th>\n",
       "      <th>Customer Name</th>\n",
       "      <th>Department</th>\n",
       "      <th>Salary</th>\n",
       "      <th>Grade level</th>\n",
       "    </tr>\n",
       "  </thead>\n",
       "  <tbody>\n",
       "    <tr>\n",
       "      <th>1</th>\n",
       "      <td>2</td>\n",
       "      <td>Sola Omo</td>\n",
       "      <td>IT</td>\n",
       "      <td>500000</td>\n",
       "      <td>Senior</td>\n",
       "    </tr>\n",
       "    <tr>\n",
       "      <th>2</th>\n",
       "      <td>3</td>\n",
       "      <td>Taiwo Scott</td>\n",
       "      <td>Product</td>\n",
       "      <td>300000</td>\n",
       "      <td>Mid-level</td>\n",
       "    </tr>\n",
       "    <tr>\n",
       "      <th>3</th>\n",
       "      <td>4</td>\n",
       "      <td>Bimbo Odu</td>\n",
       "      <td>Customer Care</td>\n",
       "      <td>200000</td>\n",
       "      <td>Junior</td>\n",
       "    </tr>\n",
       "  </tbody>\n",
       "</table>\n",
       "</div>"
      ],
      "text/plain": [
       "   Customer ID Customer Name     Department  Salary Grade level\n",
       "1            2      Sola Omo             IT  500000      Senior\n",
       "2            3   Taiwo Scott        Product  300000   Mid-level\n",
       "3            4     Bimbo Odu  Customer Care  200000      Junior"
      ]
     },
     "execution_count": 96,
     "metadata": {},
     "output_type": "execute_result"
    }
   ],
   "source": [
    "# filtering across the rows using 1 and 4 indices\n",
    "df.iloc[1:4]"
   ]
  },
  {
   "cell_type": "code",
   "execution_count": 97,
   "id": "c0608b63",
   "metadata": {},
   "outputs": [
    {
     "name": "stdout",
     "output_type": "stream",
     "text": [
      "   Customer ID Customer Name     Department  Salary Grade level\n",
      "1            2      Sola Omo             IT  500000      Senior\n",
      "2            3   Taiwo Scott        Product  300000   Mid-level\n",
      "3            4     Bimbo Odu  Customer Care  200000      Junior\n"
     ]
    }
   ],
   "source": [
    "# filter rows where 'Salary' is between 200k and 500k (inclusive) # & ==> AND while | ==> OR\n",
    "filtered_df = df.loc[(df['Salary'] >= 200000) & (df['Salary'] <= 500000)]\n",
    "print(filtered_df)"
   ]
  },
  {
   "cell_type": "code",
   "execution_count": 98,
   "id": "1c56d4ad",
   "metadata": {},
   "outputs": [
    {
     "name": "stdout",
     "output_type": "stream",
     "text": [
      "   Customer ID Customer Name Department  Salary Grade level\n",
      "1            2      Sola Omo         IT  500000      Senior\n",
      "4            5  Prince Charm  Logistics  150000       Entry\n"
     ]
    }
   ],
   "source": [
    "# filter rows where 'Salary' is 150k AND/OR 'Grade level' is Senior\n",
    "filtered_df1 = df.loc[(df['Salary'] == 150000) | (df['Grade level'] == 'Senior')]\n",
    "print(filtered_df1)"
   ]
  },
  {
   "cell_type": "code",
   "execution_count": 99,
   "id": "84c58eed",
   "metadata": {},
   "outputs": [
    {
     "name": "stdout",
     "output_type": "stream",
     "text": [
      "Empty DataFrame\n",
      "Columns: [Customer ID, Customer Name, Department, Salary, Grade level]\n",
      "Index: []\n"
     ]
    }
   ],
   "source": [
    "# filter rows where 'Salary' is 150k AND/OR 'Grade level' is Senior\n",
    "filtered_df1 = df.loc[(df['Salary'] == 150000) & (df['Grade level'] == 'Senior')]\n",
    "print(filtered_df1)"
   ]
  },
  {
   "cell_type": "code",
   "execution_count": 100,
   "id": "d9eb97c4",
   "metadata": {},
   "outputs": [
    {
     "data": {
      "text/html": [
       "<div>\n",
       "<style scoped>\n",
       "    .dataframe tbody tr th:only-of-type {\n",
       "        vertical-align: middle;\n",
       "    }\n",
       "\n",
       "    .dataframe tbody tr th {\n",
       "        vertical-align: top;\n",
       "    }\n",
       "\n",
       "    .dataframe thead th {\n",
       "        text-align: right;\n",
       "    }\n",
       "</style>\n",
       "<table border=\"1\" class=\"dataframe\">\n",
       "  <thead>\n",
       "    <tr style=\"text-align: right;\">\n",
       "      <th></th>\n",
       "      <th>Customer ID</th>\n",
       "      <th>Customer Name</th>\n",
       "      <th>Department</th>\n",
       "      <th>Salary</th>\n",
       "      <th>Grade level</th>\n",
       "    </tr>\n",
       "  </thead>\n",
       "  <tbody>\n",
       "    <tr>\n",
       "      <th>0</th>\n",
       "      <td>1</td>\n",
       "      <td>Deji Ade</td>\n",
       "      <td>HR</td>\n",
       "      <td>120000</td>\n",
       "      <td>Executive</td>\n",
       "    </tr>\n",
       "    <tr>\n",
       "      <th>1</th>\n",
       "      <td>2</td>\n",
       "      <td>Sola Omo</td>\n",
       "      <td>IT</td>\n",
       "      <td>500000</td>\n",
       "      <td>Senior</td>\n",
       "    </tr>\n",
       "    <tr>\n",
       "      <th>2</th>\n",
       "      <td>3</td>\n",
       "      <td>Taiwo Scott</td>\n",
       "      <td>Product</td>\n",
       "      <td>300000</td>\n",
       "      <td>Mid-level</td>\n",
       "    </tr>\n",
       "    <tr>\n",
       "      <th>3</th>\n",
       "      <td>4</td>\n",
       "      <td>Bimbo Odu</td>\n",
       "      <td>Customer Care</td>\n",
       "      <td>200000</td>\n",
       "      <td>Junior</td>\n",
       "    </tr>\n",
       "  </tbody>\n",
       "</table>\n",
       "</div>"
      ],
      "text/plain": [
       "   Customer ID Customer Name     Department  Salary Grade level\n",
       "0            1      Deji Ade             HR  120000   Executive\n",
       "1            2      Sola Omo             IT  500000      Senior\n",
       "2            3   Taiwo Scott        Product  300000   Mid-level\n",
       "3            4     Bimbo Odu  Customer Care  200000      Junior"
      ]
     },
     "execution_count": 100,
     "metadata": {},
     "output_type": "execute_result"
    }
   ],
   "source": [
    "# using .iloc\n",
    "df.iloc[:4]"
   ]
  },
  {
   "cell_type": "code",
   "execution_count": 105,
   "id": "a683a115",
   "metadata": {},
   "outputs": [
    {
     "data": {
      "text/html": [
       "<div>\n",
       "<style scoped>\n",
       "    .dataframe tbody tr th:only-of-type {\n",
       "        vertical-align: middle;\n",
       "    }\n",
       "\n",
       "    .dataframe tbody tr th {\n",
       "        vertical-align: top;\n",
       "    }\n",
       "\n",
       "    .dataframe thead th {\n",
       "        text-align: right;\n",
       "    }\n",
       "</style>\n",
       "<table border=\"1\" class=\"dataframe\">\n",
       "  <thead>\n",
       "    <tr style=\"text-align: right;\">\n",
       "      <th></th>\n",
       "      <th>Customer ID</th>\n",
       "      <th>Customer Name</th>\n",
       "      <th>Department</th>\n",
       "      <th>Salary</th>\n",
       "      <th>Grade level</th>\n",
       "    </tr>\n",
       "  </thead>\n",
       "  <tbody>\n",
       "    <tr>\n",
       "      <th>2</th>\n",
       "      <td>3</td>\n",
       "      <td>Taiwo Scott</td>\n",
       "      <td>Product</td>\n",
       "      <td>300000</td>\n",
       "      <td>Mid-level</td>\n",
       "    </tr>\n",
       "    <tr>\n",
       "      <th>4</th>\n",
       "      <td>5</td>\n",
       "      <td>Prince Charm</td>\n",
       "      <td>Logistics</td>\n",
       "      <td>150000</td>\n",
       "      <td>Entry</td>\n",
       "    </tr>\n",
       "  </tbody>\n",
       "</table>\n",
       "</div>"
      ],
      "text/plain": [
       "   Customer ID Customer Name Department  Salary Grade level\n",
       "2            3   Taiwo Scott    Product  300000   Mid-level\n",
       "4            5  Prince Charm  Logistics  150000       Entry"
      ]
     },
     "execution_count": 105,
     "metadata": {},
     "output_type": "execute_result"
    }
   ],
   "source": [
    "df.iloc[[2, 4]]"
   ]
  },
  {
   "cell_type": "markdown",
   "id": "b0cee0f5",
   "metadata": {},
   "source": [
    "# Fetching Categorical and Numerical Columns\n",
    "- We use .select_dtypes() method to either fetch categorical columns or numerical columns."
   ]
  },
  {
   "cell_type": "code",
   "execution_count": 102,
   "id": "d40379f0",
   "metadata": {},
   "outputs": [
    {
     "name": "stdout",
     "output_type": "stream",
     "text": [
      "  Customer Name     Department Grade level\n",
      "0      Deji Ade             HR   Executive\n",
      "1      Sola Omo             IT      Senior\n",
      "2   Taiwo Scott        Product   Mid-level\n",
      "3     Bimbo Odu  Customer Care      Junior\n",
      "4  Prince Charm      Logistics       Entry\n"
     ]
    }
   ],
   "source": [
    "# to fetch categorical columns from our DataFrame, df\n",
    "cat_vars = df.select_dtypes(include = ['object'])\n",
    "print(cat_vars)"
   ]
  },
  {
   "cell_type": "code",
   "execution_count": 113,
   "id": "f281f11b",
   "metadata": {},
   "outputs": [
    {
     "data": {
      "text/plain": [
       "Index(['Customer Name', 'Department', 'Grade level'], dtype='object')"
      ]
     },
     "execution_count": 113,
     "metadata": {},
     "output_type": "execute_result"
    }
   ],
   "source": [
    "# to extract the columns only, we .columns, and to have it a list, we use .tolist()\n",
    "cat_vars.columns"
   ]
  },
  {
   "cell_type": "code",
   "execution_count": 114,
   "id": "8a04dac8",
   "metadata": {},
   "outputs": [
    {
     "data": {
      "text/plain": [
       "['Customer Name', 'Department', 'Grade level']"
      ]
     },
     "execution_count": 114,
     "metadata": {},
     "output_type": "execute_result"
    }
   ],
   "source": [
    "cat_vars.columns.tolist()"
   ]
  },
  {
   "cell_type": "code",
   "execution_count": 103,
   "id": "0faeea62",
   "metadata": {},
   "outputs": [
    {
     "name": "stdout",
     "output_type": "stream",
     "text": [
      "   Customer ID  Salary\n",
      "0            1  120000\n",
      "1            2  500000\n",
      "2            3  300000\n",
      "3            4  200000\n",
      "4            5  150000\n"
     ]
    }
   ],
   "source": [
    "# to fetch numerical columns from our DataFrame, df\n",
    "num_vars = df.select_dtypes(include = ['number'])\n",
    "print(num_vars)"
   ]
  },
  {
   "cell_type": "markdown",
   "id": "0bf19e18",
   "metadata": {},
   "source": [
    "## .unique() and .nunique()"
   ]
  },
  {
   "cell_type": "code",
   "execution_count": 108,
   "id": "852dc151",
   "metadata": {},
   "outputs": [
    {
     "data": {
      "text/plain": [
       "array(['HR', 'IT', 'Product', 'Customer Care', 'Logistics'], dtype=object)"
      ]
     },
     "execution_count": 108,
     "metadata": {},
     "output_type": "execute_result"
    }
   ],
   "source": [
    "# .unique(): it is an inbuilt method that returns the distinct values in a column.\n",
    "df['Department'].unique()"
   ]
  },
  {
   "cell_type": "code",
   "execution_count": 112,
   "id": "3ac82c92",
   "metadata": {},
   "outputs": [
    {
     "data": {
      "text/plain": [
       "['HR', 'IT', 'Product', 'Customer Care', 'Logistics']"
      ]
     },
     "execution_count": 112,
     "metadata": {},
     "output_type": "execute_result"
    }
   ],
   "source": [
    "# to return it into a list, we use .tolist() \n",
    "df['Department'].unique().tolist()"
   ]
  },
  {
   "cell_type": "code",
   "execution_count": 116,
   "id": "1c0d5628",
   "metadata": {},
   "outputs": [
    {
     "data": {
      "text/plain": [
       "Customer ID      5\n",
       "Customer Name    5\n",
       "Department       5\n",
       "Salary           5\n",
       "Grade level      5\n",
       "dtype: int64"
      ]
     },
     "execution_count": 116,
     "metadata": {},
     "output_type": "execute_result"
    }
   ],
   "source": [
    "# .nunique(): it is an inbuilt method that returns the number or count of distinct values.\n",
    "df.nunique()"
   ]
  },
  {
   "cell_type": "code",
   "execution_count": 117,
   "id": "c07483d0",
   "metadata": {},
   "outputs": [
    {
     "data": {
      "text/plain": [
       "5"
      ]
     },
     "execution_count": 117,
     "metadata": {},
     "output_type": "execute_result"
    }
   ],
   "source": [
    "df['Department'].nunique()"
   ]
  },
  {
   "cell_type": "code",
   "execution_count": null,
   "id": "bd049506",
   "metadata": {},
   "outputs": [],
   "source": []
  }
 ],
 "metadata": {
  "kernelspec": {
   "display_name": "Python 3 (ipykernel)",
   "language": "python",
   "name": "python3"
  },
  "language_info": {
   "codemirror_mode": {
    "name": "ipython",
    "version": 3
   },
   "file_extension": ".py",
   "mimetype": "text/x-python",
   "name": "python",
   "nbconvert_exporter": "python",
   "pygments_lexer": "ipython3",
   "version": "3.11.7"
  }
 },
 "nbformat": 4,
 "nbformat_minor": 5
}
