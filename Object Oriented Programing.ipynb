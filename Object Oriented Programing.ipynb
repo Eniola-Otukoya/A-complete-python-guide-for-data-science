{
 "cells": [
  {
   "cell_type": "markdown",
   "id": "da2ba3cd-48fb-41bc-80c2-6885b17734b7",
   "metadata": {},
   "source": [
    "## Object Oriented Programing\n",
    "**Definition:** it is a programing that organizes code in a more structured way by grouping related data and functions into objects. These objects can interact with each other, allowing us to model real-world scenarios more accurately. The key concepts of OOP are `encapsulation, inheritance, and polymorphism`."
   ]
  },
  {
   "cell_type": "markdown",
   "id": "abd29f0a-2614-4894-a8b5-54a62f1df877",
   "metadata": {},
   "source": [
    "In Object Oriented Programing, we have:\n",
    "- Properties\n",
    "\n",
    "- Methods\n",
    "\n",
    "- Events"
   ]
  },
  {
   "cell_type": "markdown",
   "id": "7241e6d2-3ed2-4129-aa76-38ffd5ddc15c",
   "metadata": {},
   "source": [
    "## Key Concepts of OOP\n",
    "\n",
    "1. Encapsulation: It is the concept of building attributes and methods(function) that operate on the data into a single unit called `Class`. It allows us to control access to the data by defining methods to interact with the data which helps in data hiding and protecting the internal state of an object.\n",
    "\n",
    "2. Inheritance: It is a mechanism where a new class inherits attributes and methods from an existing class. The class that is being inherited is called the `base` or `parent class`, and the class that inherits is called the `derived class` or `child class`. This allows for code reuse and the creation of a hierarchy of classes with shared properties/characteristics.\n",
    "\n",
    "3. Polymorphism: It means the ability of different objects to respond to the message or method call in different ways. In Python, polymorphism can be achieved through methods overriding or operator overloading. It allows objects of different classes to be treated as objects of a common superclass, enabling flexibility and extensibility in your code.\n",
    "\n",
    "*In summary, these concepts are fundamental to OOP in Python and help in creating efficient, modular, and maintainable.*"
   ]
  },
  {
   "cell_type": "markdown",
   "id": "3df7c2af-92ea-47f4-a319-9919ae1d0ef8",
   "metadata": {},
   "source": [
    "## Class, Object, Attributes, and Methods.\n",
    "\n",
    "**Class**: A class is a blueprint or template for creating objects. It defines attributes (variables) and methods (functions) that the objects will have.\n",
    "\n",
    "**Object**: An object is an instance of a class. It represent a real-world entity and encapsulate both attributes and methods.\n",
    "\n",
    "**Attributes**: Attributes are variables that store data within an object. They define the characteristics or properties of an object.\n",
    "\n",
    "**Methods**: Methods are functions that define the behaviour of an object. They perform actions or operations related to the object's attributes."
   ]
  },
  {
   "cell_type": "code",
   "execution_count": 5,
   "id": "353b40ca-f0df-46d2-a838-3d0ce221713a",
   "metadata": {},
   "outputs": [
    {
     "name": "stdout",
     "output_type": "stream",
     "text": [
      "<__main__.Item object at 0x000002226E496D10>\n"
     ]
    }
   ],
   "source": [
    "class Item:\n",
    "    pass\n",
    "\n",
    "item1 = Item()\n",
    "item1.name = 'Book'\n",
    "item1.price = 250\n",
    "item1.quantity = 50\n",
    "\n",
    "print(item1)"
   ]
  },
  {
   "cell_type": "code",
   "execution_count": 7,
   "id": "a5ea5dec-94a4-444b-b680-2e0488e4baca",
   "metadata": {},
   "outputs": [
    {
     "name": "stdout",
     "output_type": "stream",
     "text": [
      "Book\n"
     ]
    }
   ],
   "source": [
    "print(item1.name)"
   ]
  },
  {
   "cell_type": "code",
   "execution_count": 11,
   "id": "f03ae67c-55ea-47c8-a1a3-19fbfc79654d",
   "metadata": {},
   "outputs": [
    {
     "name": "stdout",
     "output_type": "stream",
     "text": [
      "250\n"
     ]
    }
   ],
   "source": [
    "print(item1.price)"
   ]
  },
  {
   "cell_type": "code",
   "execution_count": 13,
   "id": "bc6d60c2-09a1-4c6a-ab2a-87f430274c67",
   "metadata": {},
   "outputs": [
    {
     "name": "stdout",
     "output_type": "stream",
     "text": [
      "50\n"
     ]
    }
   ],
   "source": [
    "print(item1.quantity)"
   ]
  },
  {
   "cell_type": "code",
   "execution_count": 21,
   "id": "31e21af0-25d9-4570-bf03-7c9537f2afd9",
   "metadata": {},
   "outputs": [],
   "source": [
    "# Define methods within the item class to perform operation on the objects\n",
    "\n",
    "class Item:\n",
    "    def __init__(self, name, quantity, color, price):\n",
    "        self.name = name\n",
    "        self.quantity = quantity\n",
    "        self.color = color\n",
    "        self.price = price\n",
    "\n",
    "    def display_info(self):\n",
    "        print(f'The name of the item is {self.name}, the quantity available is {self.quantity} with a {self.color} color, and the revenue is {self.price * self.quantity}')"
   ]
  },
  {
   "cell_type": "code",
   "execution_count": 17,
   "id": "4ab06519-9f4c-4001-bfe8-c88e44665788",
   "metadata": {},
   "outputs": [
    {
     "ename": "TypeError",
     "evalue": "Item.__init__() missing 4 required positional arguments: 'name', 'quantity', 'color', and 'price'",
     "output_type": "error",
     "traceback": [
      "\u001b[1;31m---------------------------------------------------------------------------\u001b[0m",
      "\u001b[1;31mTypeError\u001b[0m                                 Traceback (most recent call last)",
      "Cell \u001b[1;32mIn[17], line 1\u001b[0m\n\u001b[1;32m----> 1\u001b[0m item2 \u001b[38;5;241m=\u001b[39m Item()\n\u001b[0;32m      2\u001b[0m \u001b[38;5;28mprint\u001b[39m(item2)\n",
      "\u001b[1;31mTypeError\u001b[0m: Item.__init__() missing 4 required positional arguments: 'name', 'quantity', 'color', and 'price'"
     ]
    }
   ],
   "source": [
    "item2 = Item()\n",
    "print(item2)"
   ]
  },
  {
   "cell_type": "code",
   "execution_count": 23,
   "id": "88c42371-da92-4395-b222-d1142046f207",
   "metadata": {},
   "outputs": [
    {
     "name": "stdout",
     "output_type": "stream",
     "text": [
      "The name of the item is Pen, the quantity available is 20 with a Blue color, and the revenue is 30.0\n"
     ]
    }
   ],
   "source": [
    "var = Item('Pen', 20, 'Blue', 1.5)\n",
    "var.display_info()"
   ]
  },
  {
   "cell_type": "code",
   "execution_count": 55,
   "id": "ca7e38cc-425d-4bc1-9c6a-a30d09052d5e",
   "metadata": {},
   "outputs": [],
   "source": [
    "# building a class object called 'Player' and methods for interacting with objects with the class.\n",
    "\n",
    "class Player:\n",
    "    def __init__(self, name, age, speed, weapon, distance):\n",
    "\n",
    "        self.name = name\n",
    "        self.age = age\n",
    "        self.speed = speed\n",
    "        self.weapon = weapon\n",
    "        self.distance = distance\n",
    "\n",
    "    def run(self):\n",
    "        print(f'{self.name} is running speedily in the game with a {self.speed}km.')\n",
    "\n",
    "    def speak(self):\n",
    "        print(f'My name is {self.name} and I am {self.age} years old')\n",
    "\n",
    "    def lapse(self):\n",
    "        print(f'The time it took {self.name} to cover the distance of {self.distance}km is {self.speed / self.distance}hr.')"
   ]
  },
  {
   "cell_type": "code",
   "execution_count": 57,
   "id": "f988d7b2-bc40-4374-bf08-c140d3a23267",
   "metadata": {},
   "outputs": [
    {
     "name": "stdout",
     "output_type": "stream",
     "text": [
      "Dan O.\n"
     ]
    }
   ],
   "source": [
    "Player1 = Player('Dan O.', 23, 15, 'Sword', 150)\n",
    "print(Player1.name)"
   ]
  },
  {
   "cell_type": "code",
   "execution_count": 59,
   "id": "d43b3bb9-af09-44c0-aff5-5a561e0c6f76",
   "metadata": {},
   "outputs": [
    {
     "data": {
      "text/plain": [
       "23"
      ]
     },
     "execution_count": 59,
     "metadata": {},
     "output_type": "execute_result"
    }
   ],
   "source": [
    "Player1.age"
   ]
  },
  {
   "cell_type": "code",
   "execution_count": 61,
   "id": "a38c64d2-9ac5-4c0b-aabe-21de9f7e7708",
   "metadata": {},
   "outputs": [
    {
     "data": {
      "text/plain": [
       "'Sword'"
      ]
     },
     "execution_count": 61,
     "metadata": {},
     "output_type": "execute_result"
    }
   ],
   "source": [
    "Player1.weapon"
   ]
  },
  {
   "cell_type": "code",
   "execution_count": 63,
   "id": "1dfed542-f4df-4fc5-a7ae-de7aeb614c9a",
   "metadata": {},
   "outputs": [
    {
     "name": "stdout",
     "output_type": "stream",
     "text": [
      "Dan O. is running speedily in the game with a 15km.\n"
     ]
    }
   ],
   "source": [
    "Player1.run()"
   ]
  },
  {
   "cell_type": "code",
   "execution_count": 65,
   "id": "3ac9c45b-dc05-42f9-ac73-1606923e20c7",
   "metadata": {},
   "outputs": [
    {
     "name": "stdout",
     "output_type": "stream",
     "text": [
      "My name is Dan O. and I am 23 years old\n"
     ]
    }
   ],
   "source": [
    "Player1.speak()"
   ]
  },
  {
   "cell_type": "code",
   "execution_count": 67,
   "id": "11c37dfc-f770-4db7-a38f-7b7b4f32be49",
   "metadata": {},
   "outputs": [
    {
     "name": "stdout",
     "output_type": "stream",
     "text": [
      "The time it took Dan O. to cover the distance of 150km is 0.1hr.\n"
     ]
    }
   ],
   "source": [
    "Player1.lapse()"
   ]
  },
  {
   "cell_type": "markdown",
   "id": "06ea1f47-fa3c-4cac-b50e-c1178722c919",
   "metadata": {},
   "source": [
    "## Encapsulation\n",
    "It is the idea of building data and methods into a single unit, called a `class`. This helps to hide the internal implementation details and provide a well-defined interface for interacting with the object."
   ]
  },
  {
   "cell_type": "code",
   "execution_count": 116,
   "id": "3a63bfac-f610-42f0-b174-9d9269a8b3c6",
   "metadata": {},
   "outputs": [],
   "source": [
    "# create a class object called 'car' with their make, model, and year.\n",
    "class Car:\n",
    "    def __init__(self, make, model, year):\n",
    "        self.make = make\n",
    "        self.model = model\n",
    "        self.year = year\n",
    "\n",
    "    def start(self):\n",
    "        print('The car is starting')\n",
    "\n",
    "    def accelerate(self):\n",
    "        print('The car is accelerating')"
   ]
  },
  {
   "cell_type": "code",
   "execution_count": 117,
   "id": "00410a7f-33ab-4c02-a0a8-7aaf78f97b5e",
   "metadata": {},
   "outputs": [
    {
     "name": "stdout",
     "output_type": "stream",
     "text": [
      "<__main__.Car object at 0x000002227038F5D0>\n",
      "<__main__.Car object at 0x000002227028F690>\n"
     ]
    }
   ],
   "source": [
    "car1 = Car('Toyota', 'Camry', 2023)\n",
    "car2 = Car('Honda', 'Civic', 2019)\n",
    "print(car1)\n",
    "print(car2)"
   ]
  },
  {
   "cell_type": "code",
   "execution_count": 118,
   "id": "ecd9de0d-f6be-4192-8e8c-e5bca46764a0",
   "metadata": {},
   "outputs": [
    {
     "name": "stdout",
     "output_type": "stream",
     "text": [
      "Toyota\n",
      "Camry\n",
      "2023\n"
     ]
    }
   ],
   "source": [
    "# Access the car's attributes\n",
    "print(car1.make)\n",
    "print(car1.model)\n",
    "print(car1.year)"
   ]
  },
  {
   "cell_type": "code",
   "execution_count": 119,
   "id": "1d3cddf5-6416-4dd2-96c6-4c0778935f31",
   "metadata": {},
   "outputs": [
    {
     "name": "stdout",
     "output_type": "stream",
     "text": [
      "Honda\n",
      "Civic\n",
      "2019\n"
     ]
    }
   ],
   "source": [
    "print(car2.make)\n",
    "print(car2.model)\n",
    "print(car2.year)"
   ]
  },
  {
   "cell_type": "code",
   "execution_count": 156,
   "id": "fc9975f2-9d05-48f0-b4f0-8e80f6fec6a1",
   "metadata": {},
   "outputs": [
    {
     "name": "stdout",
     "output_type": "stream",
     "text": [
      "The car is starting\n",
      "The Toyota and the None is the make of the car\n"
     ]
    }
   ],
   "source": [
    "# pulling the cars' attributes and function altogether\n",
    "print(f\"The {car1.make} and the {car1.start()} is the make of the car\")"
   ]
  },
  {
   "cell_type": "code",
   "execution_count": 121,
   "id": "d04f012d-a1ed-4395-b3f8-384f73c75c2a",
   "metadata": {},
   "outputs": [
    {
     "name": "stdout",
     "output_type": "stream",
     "text": [
      "The car is accelerating\n",
      "None\n"
     ]
    }
   ],
   "source": [
    "print(car2.accelerate())"
   ]
  },
  {
   "cell_type": "markdown",
   "id": "efaa145e-4537-4523-9946-bf95c43daafd",
   "metadata": {},
   "source": [
    "**Question**\n",
    "- Create a class object called 'SuperMarket\" with four attributes of your choice and access the attributes and functions."
   ]
  },
  {
   "cell_type": "markdown",
   "id": "ad136814-171b-4494-ad57-fee2bdbff767",
   "metadata": {},
   "source": [
    "## Inheritance\n",
    "It allows a new class to be based on an existing class, inheriting its properties and methods. This promote code reuse and creates a hierarchical relationship between classes."
   ]
  },
  {
   "cell_type": "code",
   "execution_count": 165,
   "id": "9c8a4fe4-da92-416c-a6a1-4f7e59d73c6e",
   "metadata": {},
   "outputs": [],
   "source": [
    "# Create a class object for 'Electric Car' with make, model, year, and battery capacity attribute.\n",
    "\n",
    "class ElectricCar(Car):\n",
    "    def __init__(self, make, model, year, battery_capacity):\n",
    "        super().__init__(make, model, year)\n",
    "        self.battery_capacity = battery_capacity\n",
    "\n",
    "    def charge(self):\n",
    "        print('The electric car is charging')\n",
    "        "
   ]
  },
  {
   "cell_type": "code",
   "execution_count": 167,
   "id": "15f0e86e-6002-4de3-810c-23337cfbf7c0",
   "metadata": {},
   "outputs": [],
   "source": [
    "# create a function\n",
    "electric_car = ElectricCar('Tesla', 'Model X', 2022, 100)"
   ]
  },
  {
   "cell_type": "code",
   "execution_count": 169,
   "id": "bc837e44-2289-4f20-8a23-cc4b43e6c9a5",
   "metadata": {},
   "outputs": [
    {
     "name": "stdout",
     "output_type": "stream",
     "text": [
      "Tesla\n"
     ]
    }
   ],
   "source": [
    "# fetch the make of the ELectric Car\n",
    "print(electric_car.make)"
   ]
  },
  {
   "cell_type": "code",
   "execution_count": 171,
   "id": "bb7b06b0-d7cd-4568-ad8e-8cf0ae11967e",
   "metadata": {},
   "outputs": [
    {
     "name": "stdout",
     "output_type": "stream",
     "text": [
      "The car is starting\n"
     ]
    }
   ],
   "source": [
    "electric_car.start()"
   ]
  },
  {
   "cell_type": "code",
   "execution_count": 173,
   "id": "f08d0e8c-8f5c-4ffd-af2e-e21c4edbbd42",
   "metadata": {},
   "outputs": [
    {
     "name": "stdout",
     "output_type": "stream",
     "text": [
      "The electric car is charging\n"
     ]
    }
   ],
   "source": [
    "electric_car.charge()"
   ]
  },
  {
   "cell_type": "markdown",
   "id": "ce6ef495-7208-46d4-b81a-8bb8f6a72c50",
   "metadata": {},
   "source": [
    "**Question 2**\n",
    "\n",
    "- create another class object that will inherit the properties from the first class object and display their attributes, and as well use the function as a method."
   ]
  },
  {
   "cell_type": "code",
   "execution_count": 2,
   "id": "5c5616c3-1739-4df6-9882-1d59cf508e13",
   "metadata": {},
   "outputs": [],
   "source": [
    "class Animal:\n",
    "    def __init__(self, name, height):\n",
    "        self.name = name\n",
    "        self.height = height\n",
    "\n",
    "    def speak(self):\n",
    "        pass"
   ]
  },
  {
   "cell_type": "code",
   "execution_count": 14,
   "id": "b9116426-303a-4bc1-b893-a21532d1cd0f",
   "metadata": {},
   "outputs": [],
   "source": [
    "class Dog(Animal):\n",
    "    def speak(self):\n",
    "        return f\"{self.name} says Woof!\"\n",
    "\n",
    "class Cat(Animal):\n",
    "    def speak(self):\n",
    "        return f\"{self.name} says Meow!, and his height is measured to be {self.height}m\"\n"
   ]
  },
  {
   "cell_type": "code",
   "execution_count": 16,
   "id": "dfd7f815-b7b2-4a28-b754-af20b5fc5cd6",
   "metadata": {},
   "outputs": [
    {
     "name": "stdout",
     "output_type": "stream",
     "text": [
      "Jasper says Woof!\n"
     ]
    }
   ],
   "source": [
    "# usage\n",
    "dog = Dog('Jasper', 1.24)\n",
    "cat = Cat('Whisker', 1.24)\n",
    "print(dog.speak())"
   ]
  },
  {
   "cell_type": "code",
   "execution_count": 18,
   "id": "222b2e25-26f8-4209-81d8-b90b91dd79cc",
   "metadata": {},
   "outputs": [
    {
     "name": "stdout",
     "output_type": "stream",
     "text": [
      "Whisker says Meow!, and his height is measured to be 1.24m\n"
     ]
    }
   ],
   "source": [
    "print(cat.speak())"
   ]
  },
  {
   "cell_type": "markdown",
   "id": "fde9bf3c-4cfa-4ed9-a476-01f0eae16dbd",
   "metadata": {},
   "source": [
    "## Polymorphism\n",
    "Polymorphism allows objects of different classes to be treated as objects of a common superclass. It is the ability to call the same method on different objects and have each of them respond in their own way."
   ]
  },
  {
   "cell_type": "code",
   "execution_count": 77,
   "id": "a71b5fe6-c015-4db6-8fba-45c7c3910960",
   "metadata": {},
   "outputs": [],
   "source": [
    "# create a Superclass object called Shape, and the subclasses called Rectangle, and circle.\n",
    "\n",
    "class Shape:\n",
    "    def area(self):\n",
    "        pass\n",
    "\n",
    "class Rectangle(Shape):\n",
    "    def __init__(self, width, height):\n",
    "        self.width = width\n",
    "        self.height = height\n",
    "        \n",
    "\n",
    "    def area(self):\n",
    "        return f\"The area and perimeter of a rectangle is {self.width*self.height} unit squared and {2*(self.width + self.height)} unit, respectively.\"\n"
   ]
  },
  {
   "cell_type": "code",
   "execution_count": 79,
   "id": "2689919d-81e7-44a0-9106-2ca9cd5d4da4",
   "metadata": {},
   "outputs": [],
   "source": [
    "class Circle(Shape):\n",
    "    def __init__(self, radius):\n",
    "        self.radius = radius\n",
    "        \n",
    "\n",
    "    def area(self):\n",
    "        return f\"The area and circumference of a circle is {3.14*(self.radius)**2} unit squared and {2*3.14*self.radius} unit, respectively.\""
   ]
  },
  {
   "cell_type": "code",
   "execution_count": 81,
   "id": "488bc7c3-c995-4c2c-8e6c-c7626da1e67f",
   "metadata": {},
   "outputs": [
    {
     "name": "stdout",
     "output_type": "stream",
     "text": [
      "The area and perimeter of a rectangle is 12 unit squared and 14 unit, respectively.\n",
      "The area and circumference of a circle is 38.465 unit squared and 21.98 unit, respectively.\n"
     ]
    }
   ],
   "source": [
    "# usage\n",
    "shapes = [Rectangle(3,4), Circle(3.5)]\n",
    "\n",
    "for shape in shapes:\n",
    "    print(shape.area())"
   ]
  },
  {
   "cell_type": "markdown",
   "id": "29d46c4e-4411-412f-b8ab-b8faa04055bc",
   "metadata": {},
   "source": [
    "## Abstraction\n",
    "Abtraction is the concept of hiding the complex implementation details and showing only the necessary features of an object. It helps to reduce complexity and increase efficiency."
   ]
  },
  {
   "cell_type": "code",
   "execution_count": null,
   "id": "1cda2f2f-773c-42da-bcd3-a7b4f9e7cd8f",
   "metadata": {},
   "outputs": [],
   "source": []
  }
 ],
 "metadata": {
  "kernelspec": {
   "display_name": "Python 3 (ipykernel)",
   "language": "python",
   "name": "python3"
  },
  "language_info": {
   "codemirror_mode": {
    "name": "ipython",
    "version": 3
   },
   "file_extension": ".py",
   "mimetype": "text/x-python",
   "name": "python",
   "nbconvert_exporter": "python",
   "pygments_lexer": "ipython3",
   "version": "3.11.7"
  }
 },
 "nbformat": 4,
 "nbformat_minor": 5
}
